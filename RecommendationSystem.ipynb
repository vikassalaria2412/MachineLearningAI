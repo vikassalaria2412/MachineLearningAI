{
 "cells": [
  {
   "cell_type": "code",
   "execution_count": 1,
   "metadata": {},
   "outputs": [],
   "source": [
    "import pandas as pd\n",
    "import numpy as np\n"
   ]
  },
  {
   "cell_type": "code",
   "execution_count": 2,
   "metadata": {},
   "outputs": [],
   "source": [
    "df=pd.read_csv(\"ratings_Electronics.csv\")"
   ]
  },
  {
   "cell_type": "code",
   "execution_count": 3,
   "metadata": {},
   "outputs": [
    {
     "data": {
      "text/plain": [
       "Index(['AKM1MP6P0OYPR', '0132793040', '5.0', '1365811200'], dtype='object')"
      ]
     },
     "execution_count": 3,
     "metadata": {},
     "output_type": "execute_result"
    }
   ],
   "source": [
    "df.columns"
   ]
  },
  {
   "cell_type": "code",
   "execution_count": 4,
   "metadata": {},
   "outputs": [
    {
     "data": {
      "text/plain": [
       "(7824481, 4)"
      ]
     },
     "execution_count": 4,
     "metadata": {},
     "output_type": "execute_result"
    }
   ],
   "source": [
    "df.shape"
   ]
  },
  {
   "cell_type": "code",
   "execution_count": 5,
   "metadata": {},
   "outputs": [
    {
     "name": "stdout",
     "output_type": "stream",
     "text": [
      "<class 'pandas.core.frame.DataFrame'>\n",
      "RangeIndex: 7824481 entries, 0 to 7824480\n",
      "Data columns (total 4 columns):\n",
      "AKM1MP6P0OYPR    object\n",
      "0132793040       object\n",
      "5.0              float64\n",
      "1365811200       int64\n",
      "dtypes: float64(1), int64(1), object(2)\n",
      "memory usage: 238.8+ MB\n"
     ]
    }
   ],
   "source": [
    "# Dtypes of Table\n",
    "df.info()"
   ]
  },
  {
   "cell_type": "code",
   "execution_count": 6,
   "metadata": {},
   "outputs": [
    {
     "data": {
      "text/plain": [
       "AKM1MP6P0OYPR    0\n",
       "0132793040       0\n",
       "5.0              0\n",
       "1365811200       0\n",
       "dtype: int64"
      ]
     },
     "execution_count": 6,
     "metadata": {},
     "output_type": "execute_result"
    }
   ],
   "source": [
    "# No null values in columns\n",
    "df.isnull().sum()"
   ]
  },
  {
   "cell_type": "code",
   "execution_count": 7,
   "metadata": {},
   "outputs": [],
   "source": [
    "# Adding Headers/columnsnames\n",
    "df.columns=['userId','productId','Rating user','timestamp']"
   ]
  },
  {
   "cell_type": "code",
   "execution_count": 8,
   "metadata": {},
   "outputs": [
    {
     "data": {
      "text/html": [
       "<div>\n",
       "<style scoped>\n",
       "    .dataframe tbody tr th:only-of-type {\n",
       "        vertical-align: middle;\n",
       "    }\n",
       "\n",
       "    .dataframe tbody tr th {\n",
       "        vertical-align: top;\n",
       "    }\n",
       "\n",
       "    .dataframe thead th {\n",
       "        text-align: right;\n",
       "    }\n",
       "</style>\n",
       "<table border=\"1\" class=\"dataframe\">\n",
       "  <thead>\n",
       "    <tr style=\"text-align: right;\">\n",
       "      <th></th>\n",
       "      <th>userId</th>\n",
       "      <th>productId</th>\n",
       "      <th>Rating user</th>\n",
       "      <th>timestamp</th>\n",
       "    </tr>\n",
       "  </thead>\n",
       "  <tbody>\n",
       "    <tr>\n",
       "      <th>0</th>\n",
       "      <td>A2CX7LUOHB2NDG</td>\n",
       "      <td>0321732944</td>\n",
       "      <td>5.0</td>\n",
       "      <td>1341100800</td>\n",
       "    </tr>\n",
       "    <tr>\n",
       "      <th>1</th>\n",
       "      <td>A2NWSAGRHCP8N5</td>\n",
       "      <td>0439886341</td>\n",
       "      <td>1.0</td>\n",
       "      <td>1367193600</td>\n",
       "    </tr>\n",
       "    <tr>\n",
       "      <th>2</th>\n",
       "      <td>A2WNBOD3WNDNKT</td>\n",
       "      <td>0439886341</td>\n",
       "      <td>3.0</td>\n",
       "      <td>1374451200</td>\n",
       "    </tr>\n",
       "    <tr>\n",
       "      <th>3</th>\n",
       "      <td>A1GI0U4ZRJA8WN</td>\n",
       "      <td>0439886341</td>\n",
       "      <td>1.0</td>\n",
       "      <td>1334707200</td>\n",
       "    </tr>\n",
       "    <tr>\n",
       "      <th>4</th>\n",
       "      <td>A1QGNMC6O1VW39</td>\n",
       "      <td>0511189877</td>\n",
       "      <td>5.0</td>\n",
       "      <td>1397433600</td>\n",
       "    </tr>\n",
       "  </tbody>\n",
       "</table>\n",
       "</div>"
      ],
      "text/plain": [
       "           userId   productId  Rating user   timestamp\n",
       "0  A2CX7LUOHB2NDG  0321732944          5.0  1341100800\n",
       "1  A2NWSAGRHCP8N5  0439886341          1.0  1367193600\n",
       "2  A2WNBOD3WNDNKT  0439886341          3.0  1374451200\n",
       "3  A1GI0U4ZRJA8WN  0439886341          1.0  1334707200\n",
       "4  A1QGNMC6O1VW39  0511189877          5.0  1397433600"
      ]
     },
     "execution_count": 8,
     "metadata": {},
     "output_type": "execute_result"
    }
   ],
   "source": [
    "df.head()"
   ]
  },
  {
   "cell_type": "code",
   "execution_count": 9,
   "metadata": {},
   "outputs": [],
   "source": [
    "# Using copied Dataset as original dataset should not have impact on operations.\n",
    "df_copy=df.copy()"
   ]
  },
  {
   "cell_type": "code",
   "execution_count": 10,
   "metadata": {},
   "outputs": [
    {
     "data": {
      "text/html": [
       "<div>\n",
       "<style scoped>\n",
       "    .dataframe tbody tr th:only-of-type {\n",
       "        vertical-align: middle;\n",
       "    }\n",
       "\n",
       "    .dataframe tbody tr th {\n",
       "        vertical-align: top;\n",
       "    }\n",
       "\n",
       "    .dataframe thead th {\n",
       "        text-align: right;\n",
       "    }\n",
       "</style>\n",
       "<table border=\"1\" class=\"dataframe\">\n",
       "  <thead>\n",
       "    <tr style=\"text-align: right;\">\n",
       "      <th></th>\n",
       "      <th>userId</th>\n",
       "      <th>productId</th>\n",
       "      <th>Rating user</th>\n",
       "      <th>timestamp</th>\n",
       "    </tr>\n",
       "  </thead>\n",
       "  <tbody>\n",
       "    <tr>\n",
       "      <th>0</th>\n",
       "      <td>A2CX7LUOHB2NDG</td>\n",
       "      <td>0321732944</td>\n",
       "      <td>5.0</td>\n",
       "      <td>1341100800</td>\n",
       "    </tr>\n",
       "    <tr>\n",
       "      <th>1</th>\n",
       "      <td>A2NWSAGRHCP8N5</td>\n",
       "      <td>0439886341</td>\n",
       "      <td>1.0</td>\n",
       "      <td>1367193600</td>\n",
       "    </tr>\n",
       "    <tr>\n",
       "      <th>2</th>\n",
       "      <td>A2WNBOD3WNDNKT</td>\n",
       "      <td>0439886341</td>\n",
       "      <td>3.0</td>\n",
       "      <td>1374451200</td>\n",
       "    </tr>\n",
       "    <tr>\n",
       "      <th>3</th>\n",
       "      <td>A1GI0U4ZRJA8WN</td>\n",
       "      <td>0439886341</td>\n",
       "      <td>1.0</td>\n",
       "      <td>1334707200</td>\n",
       "    </tr>\n",
       "    <tr>\n",
       "      <th>4</th>\n",
       "      <td>A1QGNMC6O1VW39</td>\n",
       "      <td>0511189877</td>\n",
       "      <td>5.0</td>\n",
       "      <td>1397433600</td>\n",
       "    </tr>\n",
       "  </tbody>\n",
       "</table>\n",
       "</div>"
      ],
      "text/plain": [
       "           userId   productId  Rating user   timestamp\n",
       "0  A2CX7LUOHB2NDG  0321732944          5.0  1341100800\n",
       "1  A2NWSAGRHCP8N5  0439886341          1.0  1367193600\n",
       "2  A2WNBOD3WNDNKT  0439886341          3.0  1374451200\n",
       "3  A1GI0U4ZRJA8WN  0439886341          1.0  1334707200\n",
       "4  A1QGNMC6O1VW39  0511189877          5.0  1397433600"
      ]
     },
     "execution_count": 10,
     "metadata": {},
     "output_type": "execute_result"
    }
   ],
   "source": [
    "df_copy.head()"
   ]
  },
  {
   "cell_type": "code",
   "execution_count": 11,
   "metadata": {},
   "outputs": [
    {
     "data": {
      "text/html": [
       "<div>\n",
       "<style scoped>\n",
       "    .dataframe tbody tr th:only-of-type {\n",
       "        vertical-align: middle;\n",
       "    }\n",
       "\n",
       "    .dataframe tbody tr th {\n",
       "        vertical-align: top;\n",
       "    }\n",
       "\n",
       "    .dataframe thead th {\n",
       "        text-align: right;\n",
       "    }\n",
       "</style>\n",
       "<table border=\"1\" class=\"dataframe\">\n",
       "  <thead>\n",
       "    <tr style=\"text-align: right;\">\n",
       "      <th></th>\n",
       "      <th>userId</th>\n",
       "      <th>productId</th>\n",
       "      <th>Rating user</th>\n",
       "    </tr>\n",
       "  </thead>\n",
       "  <tbody>\n",
       "    <tr>\n",
       "      <th>0</th>\n",
       "      <td>A2CX7LUOHB2NDG</td>\n",
       "      <td>0321732944</td>\n",
       "      <td>5.0</td>\n",
       "    </tr>\n",
       "    <tr>\n",
       "      <th>1</th>\n",
       "      <td>A2NWSAGRHCP8N5</td>\n",
       "      <td>0439886341</td>\n",
       "      <td>1.0</td>\n",
       "    </tr>\n",
       "    <tr>\n",
       "      <th>2</th>\n",
       "      <td>A2WNBOD3WNDNKT</td>\n",
       "      <td>0439886341</td>\n",
       "      <td>3.0</td>\n",
       "    </tr>\n",
       "    <tr>\n",
       "      <th>3</th>\n",
       "      <td>A1GI0U4ZRJA8WN</td>\n",
       "      <td>0439886341</td>\n",
       "      <td>1.0</td>\n",
       "    </tr>\n",
       "    <tr>\n",
       "      <th>4</th>\n",
       "      <td>A1QGNMC6O1VW39</td>\n",
       "      <td>0511189877</td>\n",
       "      <td>5.0</td>\n",
       "    </tr>\n",
       "  </tbody>\n",
       "</table>\n",
       "</div>"
      ],
      "text/plain": [
       "           userId   productId  Rating user\n",
       "0  A2CX7LUOHB2NDG  0321732944          5.0\n",
       "1  A2NWSAGRHCP8N5  0439886341          1.0\n",
       "2  A2WNBOD3WNDNKT  0439886341          3.0\n",
       "3  A1GI0U4ZRJA8WN  0439886341          1.0\n",
       "4  A1QGNMC6O1VW39  0511189877          5.0"
      ]
     },
     "execution_count": 11,
     "metadata": {},
     "output_type": "execute_result"
    }
   ],
   "source": [
    "# As given in Problem statement.TimeStamp can be ignored.So droping column\n",
    "df_copy=df_copy.drop(['timestamp'],axis=1)\n",
    "df_copy.head()"
   ]
  },
  {
   "cell_type": "code",
   "execution_count": 12,
   "metadata": {},
   "outputs": [
    {
     "data": {
      "text/html": [
       "<div>\n",
       "<style scoped>\n",
       "    .dataframe tbody tr th:only-of-type {\n",
       "        vertical-align: middle;\n",
       "    }\n",
       "\n",
       "    .dataframe tbody tr th {\n",
       "        vertical-align: top;\n",
       "    }\n",
       "\n",
       "    .dataframe thead th {\n",
       "        text-align: right;\n",
       "    }\n",
       "</style>\n",
       "<table border=\"1\" class=\"dataframe\">\n",
       "  <thead>\n",
       "    <tr style=\"text-align: right;\">\n",
       "      <th></th>\n",
       "      <th>count</th>\n",
       "      <th>mean</th>\n",
       "      <th>std</th>\n",
       "      <th>min</th>\n",
       "      <th>25%</th>\n",
       "      <th>50%</th>\n",
       "      <th>75%</th>\n",
       "      <th>max</th>\n",
       "    </tr>\n",
       "  </thead>\n",
       "  <tbody>\n",
       "    <tr>\n",
       "      <th>Rating user</th>\n",
       "      <td>7824481.0</td>\n",
       "      <td>4.012337</td>\n",
       "      <td>1.38091</td>\n",
       "      <td>1.0</td>\n",
       "      <td>3.0</td>\n",
       "      <td>5.0</td>\n",
       "      <td>5.0</td>\n",
       "      <td>5.0</td>\n",
       "    </tr>\n",
       "  </tbody>\n",
       "</table>\n",
       "</div>"
      ],
      "text/plain": [
       "                 count      mean      std  min  25%  50%  75%  max\n",
       "Rating user  7824481.0  4.012337  1.38091  1.0  3.0  5.0  5.0  5.0"
      ]
     },
     "execution_count": 12,
     "metadata": {},
     "output_type": "execute_result"
    }
   ],
   "source": [
    "# Only float/int dtype column is shown in describe function.\n",
    "df_copy.describe().transpose()"
   ]
  },
  {
   "cell_type": "code",
   "execution_count": 13,
   "metadata": {},
   "outputs": [
    {
     "data": {
      "text/plain": [
       "userId         0\n",
       "productId      0\n",
       "Rating user    0\n",
       "dtype: int64"
      ]
     },
     "execution_count": 13,
     "metadata": {},
     "output_type": "execute_result"
    }
   ],
   "source": [
    "df_copy.isna().sum()"
   ]
  },
  {
   "cell_type": "code",
   "execution_count": 14,
   "metadata": {},
   "outputs": [
    {
     "name": "stdout",
     "output_type": "stream",
     "text": [
      "userId         0\n",
      "productId      0\n",
      "Rating user    0\n",
      "dtype: int64\n"
     ]
    }
   ],
   "source": [
    "# attribute that contains Zero values.\n",
    "print((df_copy == 0).sum())"
   ]
  },
  {
   "cell_type": "code",
   "execution_count": 15,
   "metadata": {},
   "outputs": [],
   "source": [
    "import matplotlib.pyplot as plt\n",
    "%matplotlib inline\n",
    "import seaborn as sns"
   ]
  },
  {
   "cell_type": "code",
   "execution_count": 16,
   "metadata": {},
   "outputs": [
    {
     "data": {
      "text/plain": [
       "5.0    4347540\n",
       "4.0    1485781\n",
       "1.0     901765\n",
       "3.0     633073\n",
       "2.0     456322\n",
       "Name: Rating user, dtype: int64"
      ]
     },
     "execution_count": 16,
     "metadata": {},
     "output_type": "execute_result"
    }
   ],
   "source": [
    "# Provides us range and  frequencies of the  ratings  given\n",
    "df_copy['Rating user'].value_counts()"
   ]
  },
  {
   "cell_type": "code",
   "execution_count": 17,
   "metadata": {},
   "outputs": [
    {
     "data": {
      "text/plain": [
       "A5JLAU2ARJ0BO     520\n",
       "ADLVFFE4VBT8      501\n",
       "A3OXHLG6DIBRW8    498\n",
       "A6FIAB28IS79      431\n",
       "A680RUE1FDO8B     406\n",
       "A1ODOGXEYECQQ8    380\n",
       "A36K2N527TXXJN    314\n",
       "A2AY4YUOX2N1BQ    311\n",
       "AWPODHOB4GFWL     308\n",
       "ARBKYIVNYWK3C     296\n",
       "A25C2M3QF9G7OQ    296\n",
       "A22CW0ZHY3NJH8    292\n",
       "A38RMU1Y5TDP9     282\n",
       "A3EXWV8FNSSFL6    282\n",
       "A3LGT6UZL99IW1    279\n",
       "A2NOW4U7W3F7RI    277\n",
       "A23GFTVIETX7DS    270\n",
       "A3PD8JD9L4WEII    266\n",
       "A17BUUBOU0598B    261\n",
       "A3AYSYSLHU26U9    257\n",
       "A2XRMQA6PJ5ZJ8    253\n",
       "A12DQZKRKTNF5E    252\n",
       "A231WM2Z2JL0U3    252\n",
       "A1UQBFCERIP7VJ    247\n",
       "AGVWTYW0ULXHT     244\n",
       "A203OCQQ12MAVT    240\n",
       "AEJAGHLC675A7     239\n",
       "A2NYK9KWFMJV4Y    238\n",
       "A3A4ZAIBQWKOZS    236\n",
       "A3CW0ZLUO5X2B1    227\n",
       "                 ... \n",
       "AW4J5NMIT9HDB       1\n",
       "AZBBWGFO1O51J       1\n",
       "AW58VR59MRIYK       1\n",
       "A2NO336WJ1EIJG      1\n",
       "A2IW42Z5W8QWLJ      1\n",
       "A2VNJIRYEJILLZ      1\n",
       "A329E7NMW2THYE      1\n",
       "A38N9R3ZSG9EVJ      1\n",
       "A21TD5RIWWW3OS      1\n",
       "AA1CJO9U39B68       1\n",
       "A78IKYGUG5ZUS       1\n",
       "A1TU6O4QWRT0C8      1\n",
       "A31HTMDB48I6HQ      1\n",
       "A3UC3T4H56DHB7      1\n",
       "A3V3G6U7JW2QMR      1\n",
       "A2RP8RRSQYZSG       1\n",
       "A13OJHMVZXH0GD      1\n",
       "A17DKSD0OLY4QU      1\n",
       "AI5CPA1ATL2VD       1\n",
       "A29HB2AUA4KLSS      1\n",
       "A31NO1RWB4LP6W      1\n",
       "A1FMRUER8PLYA1      1\n",
       "A22HBCUXGNWZCU      1\n",
       "A3RWLIQ2BZLE8A      1\n",
       "A20P365OIS8MVL      1\n",
       "A37WQTEO9KYHFU      1\n",
       "A269R4AY47Z8MR      1\n",
       "AJT8MSTDCHRB5       1\n",
       "A1XMC1DR0Y8WEZ      1\n",
       "A3EHZT18KI7IJL      1\n",
       "Name: userId, Length: 4201696, dtype: int64"
      ]
     },
     "execution_count": 17,
     "metadata": {},
     "output_type": "execute_result"
    }
   ],
   "source": [
    "df_copy['userId'].value_counts()"
   ]
  },
  {
   "cell_type": "code",
   "execution_count": 18,
   "metadata": {},
   "outputs": [
    {
     "data": {
      "text/plain": [
       "B0074BW614    18244\n",
       "B00DR0PDNE    16454\n",
       "B007WTAJTO    14172\n",
       "B0019EHU8G    12285\n",
       "B006GWO5WK    12226\n",
       "B003ELYQGG    11617\n",
       "B003ES5ZUU    10276\n",
       "B007R5YDYA     9907\n",
       "B00622AG6S     9823\n",
       "B0002L5R78     9487\n",
       "B008OHNZI0     8966\n",
       "B003LR7ME6     8840\n",
       "B000LRMS66     8715\n",
       "B009SYZ8OC     8370\n",
       "B00BGA9WK2     7561\n",
       "B004QK7HI8     7060\n",
       "B009A5204K     7059\n",
       "B00BGGDVOO     6893\n",
       "B0098F5W0Q     6616\n",
       "B002MAPRYU     6599\n",
       "B002WE6D44     6509\n",
       "B005HMKKH4     6134\n",
       "B0012S4APK     5642\n",
       "B0052YFYFK     5521\n",
       "B0001FTVEK     5345\n",
       "B0044YU60M     5239\n",
       "B00316263Y     5038\n",
       "B000I68BD4     4903\n",
       "B006ZP8UOW     4842\n",
       "B0041Q38NU     4774\n",
       "              ...  \n",
       "B001S7KMCU        1\n",
       "B003ZHLEIW        1\n",
       "B009HNUBWI        1\n",
       "B00170002U        1\n",
       "B00I020TW4        1\n",
       "B00HM708TM        1\n",
       "B001E6D4SO        1\n",
       "B0053O8BTU        1\n",
       "B00DVMRG88        1\n",
       "B0018BRUY4        1\n",
       "B004AUT8W2        1\n",
       "B002N7SQY0        1\n",
       "B003MP98N0        1\n",
       "B0000ATAA0        1\n",
       "B009PB39SA        1\n",
       "B00KNXWNP4        1\n",
       "B000FECCU2        1\n",
       "B007FDPN98        1\n",
       "B009X3Y9E8        1\n",
       "B00C43TJHQ        1\n",
       "B004HXRKLI        1\n",
       "B002ZFGBWE        1\n",
       "B0062B2JRS        1\n",
       "B00BWEAQJI        1\n",
       "B007SJD9YK        1\n",
       "B008F536US        1\n",
       "B008PPV7W2        1\n",
       "B00A8MOX76        1\n",
       "B0042G23ZI        1\n",
       "B002BRUNXY        1\n",
       "Name: productId, Length: 476001, dtype: int64"
      ]
     },
     "execution_count": 18,
     "metadata": {},
     "output_type": "execute_result"
    }
   ],
   "source": [
    "df_copy['productId'].value_counts()\n",
    "# This tells us how many times particular ProductId is repeated(Occurances).This can tells the popularity of the product"
   ]
  },
  {
   "cell_type": "code",
   "execution_count": 19,
   "metadata": {},
   "outputs": [
    {
     "data": {
      "text/plain": [
       "userId\n",
       "A5JLAU2ARJ0BO     520\n",
       "ADLVFFE4VBT8      501\n",
       "A3OXHLG6DIBRW8    498\n",
       "A6FIAB28IS79      431\n",
       "A680RUE1FDO8B     406\n",
       "A1ODOGXEYECQQ8    380\n",
       "A36K2N527TXXJN    314\n",
       "A2AY4YUOX2N1BQ    311\n",
       "AWPODHOB4GFWL     308\n",
       "A25C2M3QF9G7OQ    296\n",
       "Name: Rating user, dtype: int64"
      ]
     },
     "execution_count": 19,
     "metadata": {},
     "output_type": "execute_result"
    }
   ],
   "source": [
    "df_copy.groupby('userId')['Rating user'].count().sort_values(ascending=False).head(10)\n",
    "# Frequencies of Ratings given by the userIds.'A5JLAU2ARJ0BO' user has given maximum rating to products(520)"
   ]
  },
  {
   "cell_type": "code",
   "execution_count": 20,
   "metadata": {},
   "outputs": [
    {
     "data": {
      "text/plain": [
       "productId\n",
       "B0074BW614    18244\n",
       "B00DR0PDNE    16454\n",
       "B007WTAJTO    14172\n",
       "B0019EHU8G    12285\n",
       "B006GWO5WK    12226\n",
       "B003ELYQGG    11617\n",
       "B003ES5ZUU    10276\n",
       "B007R5YDYA     9907\n",
       "B00622AG6S     9823\n",
       "B0002L5R78     9487\n",
       "Name: Rating user, dtype: int64"
      ]
     },
     "execution_count": 20,
     "metadata": {},
     "output_type": "execute_result"
    }
   ],
   "source": [
    "df_copy.groupby('productId')['Rating user'].count().sort_values(ascending=False).head(10)\n",
    "# Product wise ratings given"
   ]
  },
  {
   "cell_type": "code",
   "execution_count": 21,
   "metadata": {},
   "outputs": [
    {
     "data": {
      "text/plain": [
       "userId\n",
       "A00000262KYZUE4J55XGL    5.0\n",
       "A1XURUV2M61Z06           5.0\n",
       "A1XURNGXGAXLCK           5.0\n",
       "A1XURLC4A8KL1Q           5.0\n",
       "A3DWQDH8V7NY0R           5.0\n",
       "Name: Rating user, dtype: float64"
      ]
     },
     "execution_count": 21,
     "metadata": {},
     "output_type": "execute_result"
    }
   ],
   "source": [
    "ratings_mean_count=df_copy.groupby('userId')['Rating user'].mean().sort_values(ascending=False)\n",
    "ratings_mean_count.head()"
   ]
  },
  {
   "cell_type": "code",
   "execution_count": 22,
   "metadata": {},
   "outputs": [
    {
     "data": {
      "text/plain": [
       "userId\n",
       "A00000262KYZUE4J55XGL    5\n",
       "A1XURUV2M61Z06           5\n",
       "A1XURNGXGAXLCK           5\n",
       "A1XURLC4A8KL1Q           5\n",
       "A3DWQDH8V7NY0R           5\n",
       "Name: Rating user, dtype: object"
      ]
     },
     "execution_count": 22,
     "metadata": {},
     "output_type": "execute_result"
    }
   ],
   "source": [
    "ratings_mean_count['rating_counts']=pd.DataFrame(df_copy.groupby('userId')['Rating user'].count())\n",
    "ratings_mean_count.head()"
   ]
  },
  {
   "cell_type": "code",
   "execution_count": 23,
   "metadata": {},
   "outputs": [
    {
     "data": {
      "text/plain": [
       "<matplotlib.axes._subplots.AxesSubplot at 0x20c12187898>"
      ]
     },
     "execution_count": 23,
     "metadata": {},
     "output_type": "execute_result"
    },
    {
     "data": {
      "image/png": "[encoded data removed]",
      "text/plain": [
       "<Figure size 432x288 with 1 Axes>"
      ]
     },
     "metadata": {
      "needs_background": "light"
     },
     "output_type": "display_data"
    }
   ],
   "source": [
    "ratings_mean_count.head(20).plot(kind='bar')\n",
    "# Userid's with rating counts"
   ]
  },
  {
   "cell_type": "code",
   "execution_count": 24,
   "metadata": {},
   "outputs": [
    {
     "data": {
      "text/html": [
       "<div>\n",
       "<style scoped>\n",
       "    .dataframe tbody tr th:only-of-type {\n",
       "        vertical-align: middle;\n",
       "    }\n",
       "\n",
       "    .dataframe tbody tr th {\n",
       "        vertical-align: top;\n",
       "    }\n",
       "\n",
       "    .dataframe thead th {\n",
       "        text-align: right;\n",
       "    }\n",
       "</style>\n",
       "<table border=\"1\" class=\"dataframe\">\n",
       "  <thead>\n",
       "    <tr style=\"text-align: right;\">\n",
       "      <th></th>\n",
       "      <th>Rating user</th>\n",
       "    </tr>\n",
       "    <tr>\n",
       "      <th>productId</th>\n",
       "      <th></th>\n",
       "    </tr>\n",
       "  </thead>\n",
       "  <tbody>\n",
       "    <tr>\n",
       "      <th>B0074BW614</th>\n",
       "      <td>18244</td>\n",
       "    </tr>\n",
       "    <tr>\n",
       "      <th>B00DR0PDNE</th>\n",
       "      <td>16454</td>\n",
       "    </tr>\n",
       "    <tr>\n",
       "      <th>B007WTAJTO</th>\n",
       "      <td>14172</td>\n",
       "    </tr>\n",
       "    <tr>\n",
       "      <th>B0019EHU8G</th>\n",
       "      <td>12285</td>\n",
       "    </tr>\n",
       "    <tr>\n",
       "      <th>B006GWO5WK</th>\n",
       "      <td>12226</td>\n",
       "    </tr>\n",
       "    <tr>\n",
       "      <th>B003ELYQGG</th>\n",
       "      <td>11617</td>\n",
       "    </tr>\n",
       "    <tr>\n",
       "      <th>B003ES5ZUU</th>\n",
       "      <td>10276</td>\n",
       "    </tr>\n",
       "    <tr>\n",
       "      <th>B007R5YDYA</th>\n",
       "      <td>9907</td>\n",
       "    </tr>\n",
       "    <tr>\n",
       "      <th>B00622AG6S</th>\n",
       "      <td>9823</td>\n",
       "    </tr>\n",
       "    <tr>\n",
       "      <th>B0002L5R78</th>\n",
       "      <td>9487</td>\n",
       "    </tr>\n",
       "  </tbody>\n",
       "</table>\n",
       "</div>"
      ],
      "text/plain": [
       "            Rating user\n",
       "productId              \n",
       "B0074BW614        18244\n",
       "B00DR0PDNE        16454\n",
       "B007WTAJTO        14172\n",
       "B0019EHU8G        12285\n",
       "B006GWO5WK        12226\n",
       "B003ELYQGG        11617\n",
       "B003ES5ZUU        10276\n",
       "B007R5YDYA         9907\n",
       "B00622AG6S         9823\n",
       "B0002L5R78         9487"
      ]
     },
     "execution_count": 24,
     "metadata": {},
     "output_type": "execute_result"
    }
   ],
   "source": [
    "# Products with number of times ratings given by user.\n",
    "PopularProductIdRatings=pd.DataFrame(df_copy.groupby('productId')['Rating user'].count().sort_values(ascending=False).head(10))\n",
    "PopularProductIdRatings"
   ]
  },
  {
   "cell_type": "code",
   "execution_count": 25,
   "metadata": {},
   "outputs": [
    {
     "name": "stderr",
     "output_type": "stream",
     "text": [
      "C:\\AnacondaInstall\\lib\\site-packages\\seaborn\\categorical.py:3666: UserWarning: The `factorplot` function has been renamed to `catplot`. The original name will be removed in a future release. Please update your code. Note that the default `kind` in `factorplot` (`'point'`) has changed `'strip'` in `catplot`.\n",
      "  warnings.warn(msg)\n"
     ]
    },
    {
     "data": {
      "image/png": "[encoded data removed]",
      "text/plain": [
       "<Figure size 720x360 with 1 Axes>"
      ]
     },
     "metadata": {},
     "output_type": "display_data"
    }
   ],
   "source": [
    "# Ratings.Checking distribution of rating user.\n",
    "with sns.axes_style('white'):\n",
    "    g=sns.factorplot(\"Rating user\",data=df_copy,aspect=2.0,kind='count')\n",
    "    g.set_ylabels(\"Total number of ratings\")\n"
   ]
  },
  {
   "cell_type": "markdown",
   "metadata": {},
   "source": [
    "Most of the people have given Rating of  5"
   ]
  },
  {
   "cell_type": "code",
   "execution_count": 26,
   "metadata": {},
   "outputs": [
    {
     "name": "stdout",
     "output_type": "stream",
     "text": [
      "Total data \n",
      "--------------------------------------------------\n",
      "\n",
      "Total no of ratings : 7824481\n",
      "Total No of Users   : 4201696\n",
      "Total No of products  : 476001\n"
     ]
    }
   ],
   "source": [
    "# Unique Users and Products\n",
    "print(\"Total data \")\n",
    "print(\"-\"*50)\n",
    "print(\"\\nTotal no of ratings :\",df_copy.shape[0])\n",
    "print(\"Total No of Users   :\", len(np.unique(df_copy.userId)))\n",
    "print(\"Total No of products  :\", len(np.unique(df_copy.productId)))"
   ]
  },
  {
   "cell_type": "code",
   "execution_count": 27,
   "metadata": {},
   "outputs": [
    {
     "data": {
      "text/plain": [
       "userId\n",
       "A5JLAU2ARJ0BO     520\n",
       "ADLVFFE4VBT8      501\n",
       "A3OXHLG6DIBRW8    498\n",
       "A6FIAB28IS79      431\n",
       "A680RUE1FDO8B     406\n",
       "Name: Rating user, dtype: int64"
      ]
     },
     "execution_count": 27,
     "metadata": {},
     "output_type": "execute_result"
    }
   ],
   "source": [
    "# Analyzing Rating\n",
    "no_of_rated_products_per_user = df_copy.groupby(by='userId')['Rating user'].count().sort_values(ascending=False)\n",
    "\n",
    "no_of_rated_products_per_user.head()"
   ]
  },
  {
   "cell_type": "code",
   "execution_count": 28,
   "metadata": {},
   "outputs": [
    {
     "data": {
      "text/plain": [
       "count    4.201696e+06\n",
       "mean     1.862220e+00\n",
       "std      2.885110e+00\n",
       "min      1.000000e+00\n",
       "25%      1.000000e+00\n",
       "50%      1.000000e+00\n",
       "75%      2.000000e+00\n",
       "max      5.200000e+02\n",
       "Name: Rating user, dtype: float64"
      ]
     },
     "execution_count": 28,
     "metadata": {},
     "output_type": "execute_result"
    }
   ],
   "source": [
    "no_of_rated_products_per_user.describe()"
   ]
  },
  {
   "cell_type": "code",
   "execution_count": 29,
   "metadata": {},
   "outputs": [],
   "source": [
    "quantiles = no_of_rated_products_per_user.quantile(np.arange(0,1.01,0.01), interpolation='higher')"
   ]
  },
  {
   "cell_type": "code",
   "execution_count": 30,
   "metadata": {},
   "outputs": [
    {
     "data": {
      "image/png": "[encoded data removed]",
      "text/plain": [
       "<Figure size 720x720 with 1 Axes>"
      ]
     },
     "metadata": {
      "needs_background": "light"
     },
     "output_type": "display_data"
    }
   ],
   "source": [
    "plt.figure(figsize=(10,10))\n",
    "plt.title(\"Quantiles and their Values\")\n",
    "quantiles.plot()\n",
    "# quantiles with 0.05 difference\n",
    "plt.scatter(x=quantiles.index[::5], y=quantiles.values[::5], c='orange', label=\"quantiles with 0.05 intervals\")\n",
    "# quantiles with 0.25 difference\n",
    "plt.scatter(x=quantiles.index[::25], y=quantiles.values[::25], c='m', label = \"quantiles with 0.25 intervals\")\n",
    "plt.ylabel('No of ratings by user')\n",
    "plt.xlabel('Value at the quantile')\n",
    "plt.legend(loc='best')\n",
    "plt.show()"
   ]
  },
  {
   "cell_type": "code",
   "execution_count": 31,
   "metadata": {},
   "outputs": [
    {
     "name": "stdout",
     "output_type": "stream",
     "text": [
      "\n",
      " No of rated product more than 50 per user : 1540\n",
      "\n"
     ]
    }
   ],
   "source": [
    "print('\\n No of rated product more than 50 per user : {}\\n'.format(sum(no_of_rated_products_per_user >= 50)) )"
   ]
  },
  {
   "cell_type": "markdown",
   "metadata": {},
   "source": [
    "# Popularity Recommender model."
   ]
  },
  {
   "cell_type": "code",
   "execution_count": 32,
   "metadata": {},
   "outputs": [],
   "source": [
    "#Getting the new dataframe which contains users who has given 50 or more ratings\n",
    "new_df=df_copy.groupby(\"productId\").filter(lambda x:x['Rating user'].count() >=50)"
   ]
  },
  {
   "cell_type": "code",
   "execution_count": 33,
   "metadata": {},
   "outputs": [
    {
     "data": {
      "text/plain": [
       "(5374313, 3)"
      ]
     },
     "execution_count": 33,
     "metadata": {},
     "output_type": "execute_result"
    }
   ],
   "source": [
    "new_df.shape"
   ]
  },
  {
   "cell_type": "code",
   "execution_count": 34,
   "metadata": {},
   "outputs": [
    {
     "data": {
      "image/png": "[encoded data removed]",
      "text/plain": [
       "<Figure size 576x288 with 1 Axes>"
      ]
     },
     "metadata": {
      "needs_background": "light"
     },
     "output_type": "display_data"
    }
   ],
   "source": [
    "no_of_ratings_per_product = new_df.groupby(by='productId')['Rating user'].count().sort_values(ascending=False)\n",
    "\n",
    "fig = plt.figure(figsize=plt.figaspect(.5))\n",
    "ax = plt.gca()\n",
    "plt.plot(no_of_ratings_per_product.values)\n",
    "plt.title('# RATINGS per Product')\n",
    "plt.xlabel('Product')\n",
    "plt.ylabel('No of ratings per product')\n",
    "ax.set_xticklabels([])\n",
    "\n",
    "plt.show()"
   ]
  },
  {
   "cell_type": "code",
   "execution_count": 36,
   "metadata": {},
   "outputs": [
    {
     "data": {
      "text/plain": [
       "productId\n",
       "B002E6R7NG    4.980392\n",
       "B004I763AW    4.966667\n",
       "B003J9QQWU    4.964286\n",
       "B0043ZLFXE    4.955556\n",
       "B000TMFYBO    4.953125\n",
       "Name: Rating user, dtype: float64"
      ]
     },
     "execution_count": 36,
     "metadata": {},
     "output_type": "execute_result"
    }
   ],
   "source": [
    "#Average rating of the product \n",
    "new_df.groupby('productId')['Rating user'].mean().sort_values(ascending=False).head()"
   ]
  },
  {
   "cell_type": "code",
   "execution_count": 37,
   "metadata": {},
   "outputs": [
    {
     "data": {
      "text/plain": [
       "productId\n",
       "B0074BW614    18244\n",
       "B00DR0PDNE    16454\n",
       "B007WTAJTO    14172\n",
       "B0019EHU8G    12285\n",
       "B006GWO5WK    12226\n",
       "Name: Rating user, dtype: int64"
      ]
     },
     "execution_count": 37,
     "metadata": {},
     "output_type": "execute_result"
    }
   ],
   "source": [
    "#Total no of rating for product\n",
    "\n",
    "new_df.groupby('productId')['Rating user'].count().sort_values(ascending=False).head()"
   ]
  },
  {
   "cell_type": "code",
   "execution_count": 38,
   "metadata": {},
   "outputs": [],
   "source": [
    "ratings_mean_count = pd.DataFrame(new_df.groupby('productId')['Rating user'].mean())"
   ]
  },
  {
   "cell_type": "code",
   "execution_count": 39,
   "metadata": {},
   "outputs": [],
   "source": [
    "ratings_mean_count['rating_counts'] = pd.DataFrame(new_df.groupby('productId')['Rating user'].count())"
   ]
  },
  {
   "cell_type": "code",
   "execution_count": 40,
   "metadata": {},
   "outputs": [
    {
     "data": {
      "text/html": [
       "<div>\n",
       "<style scoped>\n",
       "    .dataframe tbody tr th:only-of-type {\n",
       "        vertical-align: middle;\n",
       "    }\n",
       "\n",
       "    .dataframe tbody tr th {\n",
       "        vertical-align: top;\n",
       "    }\n",
       "\n",
       "    .dataframe thead th {\n",
       "        text-align: right;\n",
       "    }\n",
       "</style>\n",
       "<table border=\"1\" class=\"dataframe\">\n",
       "  <thead>\n",
       "    <tr style=\"text-align: right;\">\n",
       "      <th></th>\n",
       "      <th>Rating user</th>\n",
       "      <th>rating_counts</th>\n",
       "    </tr>\n",
       "    <tr>\n",
       "      <th>productId</th>\n",
       "      <th></th>\n",
       "      <th></th>\n",
       "    </tr>\n",
       "  </thead>\n",
       "  <tbody>\n",
       "    <tr>\n",
       "      <th>0972683275</th>\n",
       "      <td>4.470980</td>\n",
       "      <td>1051</td>\n",
       "    </tr>\n",
       "    <tr>\n",
       "      <th>1400501466</th>\n",
       "      <td>3.560000</td>\n",
       "      <td>250</td>\n",
       "    </tr>\n",
       "    <tr>\n",
       "      <th>1400501520</th>\n",
       "      <td>4.243902</td>\n",
       "      <td>82</td>\n",
       "    </tr>\n",
       "    <tr>\n",
       "      <th>1400501776</th>\n",
       "      <td>3.884892</td>\n",
       "      <td>139</td>\n",
       "    </tr>\n",
       "    <tr>\n",
       "      <th>1400532620</th>\n",
       "      <td>3.684211</td>\n",
       "      <td>171</td>\n",
       "    </tr>\n",
       "  </tbody>\n",
       "</table>\n",
       "</div>"
      ],
      "text/plain": [
       "            Rating user  rating_counts\n",
       "productId                             \n",
       "0972683275     4.470980           1051\n",
       "1400501466     3.560000            250\n",
       "1400501520     4.243902             82\n",
       "1400501776     3.884892            139\n",
       "1400532620     3.684211            171"
      ]
     },
     "execution_count": 40,
     "metadata": {},
     "output_type": "execute_result"
    }
   ],
   "source": [
    "ratings_mean_count.head()"
   ]
  },
  {
   "cell_type": "code",
   "execution_count": 41,
   "metadata": {},
   "outputs": [
    {
     "data": {
      "text/plain": [
       "18244"
      ]
     },
     "execution_count": 41,
     "metadata": {},
     "output_type": "execute_result"
    }
   ],
   "source": [
    "ratings_mean_count['rating_counts'].max()"
   ]
  },
  {
   "cell_type": "code",
   "execution_count": 42,
   "metadata": {},
   "outputs": [
    {
     "data": {
      "text/plain": [
       "<matplotlib.axes._subplots.AxesSubplot at 0x20c11701c50>"
      ]
     },
     "execution_count": 42,
     "metadata": {},
     "output_type": "execute_result"
    },
    {
     "data": {
      "image/png": "[encoded data removed]",
      "text/plain": [
       "<Figure size 576x432 with 1 Axes>"
      ]
     },
     "metadata": {
      "needs_background": "light"
     },
     "output_type": "display_data"
    }
   ],
   "source": [
    "plt.figure(figsize=(8,6))\n",
    "plt.rcParams['patch.force_edgecolor'] = True\n",
    "ratings_mean_count['rating_counts'].hist(bins=50)"
   ]
  },
  {
   "cell_type": "code",
   "execution_count": 43,
   "metadata": {},
   "outputs": [
    {
     "data": {
      "text/plain": [
       "<matplotlib.axes._subplots.AxesSubplot at 0x20c1ccc1e10>"
      ]
     },
     "execution_count": 43,
     "metadata": {},
     "output_type": "execute_result"
    },
    {
     "data": {
      "image/png": "[encoded data removed]",
      "text/plain": [
       "<Figure size 576x432 with 1 Axes>"
      ]
     },
     "metadata": {
      "needs_background": "light"
     },
     "output_type": "display_data"
    }
   ],
   "source": [
    "plt.figure(figsize=(8,6))\n",
    "plt.rcParams['patch.force_edgecolor'] = True\n",
    "ratings_mean_count['Rating user'].hist(bins=50)"
   ]
  },
  {
   "cell_type": "code",
   "execution_count": 44,
   "metadata": {},
   "outputs": [
    {
     "data": {
      "text/plain": [
       "<seaborn.axisgrid.JointGrid at 0x20c1d5c1e48>"
      ]
     },
     "execution_count": 44,
     "metadata": {},
     "output_type": "execute_result"
    },
    {
     "data": {
      "text/plain": [
       "<Figure size 576x432 with 0 Axes>"
      ]
     },
     "metadata": {},
     "output_type": "display_data"
    },
    {
     "data": {
      "image/png": "[encoded data removed]",
      "text/plain": [
       "<Figure size 432x432 with 3 Axes>"
      ]
     },
     "metadata": {
      "needs_background": "light"
     },
     "output_type": "display_data"
    }
   ],
   "source": [
    "# shows clusters/range of ratings\n",
    "plt.figure(figsize=(8,6))\n",
    "plt.rcParams['patch.force_edgecolor'] = True\n",
    "sns.jointplot(x='Rating user', y='rating_counts', data=ratings_mean_count, alpha=0.4)"
   ]
  },
  {
   "cell_type": "code",
   "execution_count": 45,
   "metadata": {},
   "outputs": [
    {
     "data": {
      "text/plain": [
       "<matplotlib.axes._subplots.AxesSubplot at 0x20c1e221908>"
      ]
     },
     "execution_count": 45,
     "metadata": {},
     "output_type": "execute_result"
    },
    {
     "data": {
      "image/png": "[encoded data removed]",
      "text/plain": [
       "<Figure size 432x288 with 1 Axes>"
      ]
     },
     "metadata": {
      "needs_background": "light"
     },
     "output_type": "display_data"
    }
   ],
   "source": [
    "popular_products = pd.DataFrame(new_df.groupby('productId')['Rating user'].count())\n",
    "most_popular = popular_products.sort_values('Rating user', ascending=False)\n",
    "most_popular.head(30).plot(kind = \"bar\")"
   ]
  },
  {
   "cell_type": "markdown",
   "metadata": {},
   "source": [
    "# Collaborative Filtering model."
   ]
  },
  {
   "cell_type": "code",
   "execution_count": 46,
   "metadata": {},
   "outputs": [],
   "source": [
    "from surprise import KNNWithMeans\n",
    "from surprise import Dataset\n",
    "from surprise import accuracy\n",
    "from surprise import Reader\n",
    "import os\n",
    "from surprise.model_selection import train_test_split"
   ]
  },
  {
   "cell_type": "code",
   "execution_count": 47,
   "metadata": {},
   "outputs": [],
   "source": [
    "#Reading the dataset\n",
    "reader = Reader(rating_scale=(1, 5))\n",
    "data = Dataset.load_from_df(new_df,reader)\n"
   ]
  },
  {
   "cell_type": "code",
   "execution_count": 48,
   "metadata": {},
   "outputs": [],
   "source": [
    "#Splitting the dataset to 70:30 ratio.\n",
    "trainset, testset = train_test_split(data, test_size=0.3,random_state=10)\n"
   ]
  },
  {
   "cell_type": "code",
   "execution_count": 59,
   "metadata": {},
   "outputs": [
    {
     "data": {
      "text/plain": [
       "(5374313, 3)"
      ]
     },
     "execution_count": 59,
     "metadata": {},
     "output_type": "execute_result"
    }
   ],
   "source": [
    "new_df.shape"
   ]
  },
  {
   "cell_type": "code",
   "execution_count": 75,
   "metadata": {},
   "outputs": [],
   "source": [
    "\"\"\"\n",
    "While using huge dataset,getting memory error.So i have reduced dataset to 20k products.\n",
    "\"\"\"\n",
    "ReducedData20k = Dataset.load_from_df(new_df.head(20000),reader)"
   ]
  },
  {
   "cell_type": "code",
   "execution_count": 76,
   "metadata": {},
   "outputs": [],
   "source": [
    "Reducedtrainset, Reducedtestset = train_test_split(ReducedData20k, test_size=0.3,random_state=10)"
   ]
  },
  {
   "cell_type": "code",
   "execution_count": 77,
   "metadata": {},
   "outputs": [
    {
     "name": "stdout",
     "output_type": "stream",
     "text": [
      "Estimating biases using als...\n",
      "Computing the pearson_baseline similarity matrix...\n",
      "Done computing similarity matrix.\n"
     ]
    },
    {
     "data": {
      "text/plain": [
       "<surprise.prediction_algorithms.knns.KNNWithMeans at 0x20ca8c6de80>"
      ]
     },
     "execution_count": 77,
     "metadata": {},
     "output_type": "execute_result"
    }
   ],
   "source": [
    "# Use user_based true/false to switch between user-based  or item-item collaborative filtering\n",
    "algorithm = KNNWithMeans(k=5, sim_options={'name': 'pearson_baseline', 'user_based': True})\n",
    "algorithm.fit(Reducedtrainset)"
   ]
  },
  {
   "cell_type": "code",
   "execution_count": 78,
   "metadata": {},
   "outputs": [],
   "source": [
    "# run the trained model against the testset\n",
    "test_pred = algorithm.test(Reducedtestset)"
   ]
  },
  {
   "cell_type": "code",
   "execution_count": 79,
   "metadata": {},
   "outputs": [
    {
     "data": {
      "text/plain": [
       "[Prediction(uid='A41KSARVTNG38', iid='B00001P4ZH', r_ui=5.0, est=4.114571428571429, details={'was_impossible': True, 'reason': 'User and/or item is unkown.'}),\n",
       " Prediction(uid='A3MEIR72XKQY88', iid='B00000JSGF', r_ui=4.0, est=5, details={'actual_k': 0, 'was_impossible': False}),\n",
       " Prediction(uid='A14ERDBXQVVYI3', iid='0972683275', r_ui=5.0, est=4.114571428571429, details={'was_impossible': True, 'reason': 'User and/or item is unkown.'}),\n",
       " Prediction(uid='A2NYVPWJGI4ZV4', iid='B00001WRSJ', r_ui=5.0, est=4.114571428571429, details={'was_impossible': True, 'reason': 'User and/or item is unkown.'}),\n",
       " Prediction(uid='A3T9FFUTTWVNUB', iid='B00001WRSJ', r_ui=4.0, est=4.114571428571429, details={'was_impossible': True, 'reason': 'User and/or item is unkown.'}),\n",
       " Prediction(uid='A3OA5H4NRLI7MU', iid='0972683275', r_ui=5.0, est=4.114571428571429, details={'was_impossible': True, 'reason': 'User and/or item is unkown.'}),\n",
       " Prediction(uid='A3EFWASQBKXFK3', iid='B00000JYWQ', r_ui=4.0, est=4.114571428571429, details={'was_impossible': True, 'reason': 'User and/or item is unkown.'}),\n",
       " Prediction(uid='A3AAHKI7B5IMLT', iid='B00000J3NF', r_ui=4.0, est=4.114571428571429, details={'was_impossible': True, 'reason': 'User and/or item is unkown.'}),\n",
       " Prediction(uid='A1EHAX7WGEJFEV', iid='0972683275', r_ui=5.0, est=4.114571428571429, details={'was_impossible': True, 'reason': 'User and/or item is unkown.'}),\n",
       " Prediction(uid='AAN6SCMSOCVM1', iid='B00001WRSJ', r_ui=5.0, est=4.114571428571429, details={'was_impossible': True, 'reason': 'User and/or item is unkown.'}),\n",
       " Prediction(uid='A1R1B3C8CFK4CZ', iid='1400532655', r_ui=3.0, est=4.114571428571429, details={'was_impossible': True, 'reason': 'User and/or item is unkown.'}),\n",
       " Prediction(uid='A1MHQQPDF0MAJ', iid='B00000DM9W', r_ui=5.0, est=4.114571428571429, details={'was_impossible': True, 'reason': 'User and/or item is unkown.'}),\n",
       " Prediction(uid='AY2DOF31KJHLK', iid='1400532620', r_ui=5.0, est=4.114571428571429, details={'was_impossible': True, 'reason': 'User and/or item is unkown.'}),\n",
       " Prediction(uid='A1SNAWQ3DYNK5I', iid='1400599997', r_ui=1.0, est=4.114571428571429, details={'was_impossible': True, 'reason': 'User and/or item is unkown.'}),\n",
       " Prediction(uid='A21J7TC00MICKM', iid='1400532620', r_ui=5.0, est=4.114571428571429, details={'was_impossible': True, 'reason': 'User and/or item is unkown.'}),\n",
       " Prediction(uid='AR5MYH2Y0X3GY', iid='9573212919', r_ui=5.0, est=4.114571428571429, details={'was_impossible': True, 'reason': 'User and/or item is unkown.'}),\n",
       " Prediction(uid='AABQX881W1S4K', iid='9573212919', r_ui=4.0, est=4.114571428571429, details={'was_impossible': True, 'reason': 'User and/or item is unkown.'}),\n",
       " Prediction(uid='A3P1K3A8LZLFJ3', iid='B00000J0D2', r_ui=4.0, est=4.114571428571429, details={'was_impossible': True, 'reason': 'User and/or item is unkown.'}),\n",
       " Prediction(uid='A14Q49DO3MTZKT', iid='B00000J1U8', r_ui=5.0, est=4.114571428571429, details={'was_impossible': True, 'reason': 'User and/or item is unkown.'}),\n",
       " Prediction(uid='A2AB6TUU6XFWFY', iid='140053271X', r_ui=5.0, est=4.114571428571429, details={'was_impossible': True, 'reason': 'User and/or item is unkown.'}),\n",
       " Prediction(uid='A2F8AZZA2CL3O5', iid='B00001P4ZH', r_ui=4.0, est=4.114571428571429, details={'was_impossible': True, 'reason': 'User and/or item is unkown.'}),\n",
       " Prediction(uid='A3RJOWUIPMR54A', iid='B000023VW2', r_ui=5.0, est=4.114571428571429, details={'was_impossible': True, 'reason': 'User and/or item is unkown.'}),\n",
       " Prediction(uid='A23AF9X5323ME3', iid='0972683275', r_ui=3.0, est=4.114571428571429, details={'was_impossible': True, 'reason': 'User and/or item is unkown.'}),\n",
       " Prediction(uid='A1PLH8QRV17A6E', iid='B00002EQCW', r_ui=5.0, est=4.114571428571429, details={'was_impossible': True, 'reason': 'User and/or item is unkown.'}),\n",
       " Prediction(uid='A8VNC6541C6Z9', iid='0972683275', r_ui=5.0, est=4.114571428571429, details={'was_impossible': True, 'reason': 'User and/or item is unkown.'}),\n",
       " Prediction(uid='AVAAUW2RDNI5N', iid='8862935293', r_ui=2.0, est=4.114571428571429, details={'was_impossible': True, 'reason': 'User and/or item is unkown.'}),\n",
       " Prediction(uid='ATYQBGM6Q5UMD', iid='B00000JCTO', r_ui=4.0, est=4.114571428571429, details={'was_impossible': True, 'reason': 'User and/or item is unkown.'}),\n",
       " Prediction(uid='A2Q1P5AEQA21GO', iid='B00002EQCW', r_ui=5.0, est=4.114571428571429, details={'was_impossible': True, 'reason': 'User and/or item is unkown.'}),\n",
       " Prediction(uid='A2MTU2IXXZ35ZF', iid='B00001P4ZH', r_ui=4.0, est=3.0, details={'actual_k': 0, 'was_impossible': False}),\n",
       " Prediction(uid='AOHQVDAGYMV6J', iid='1400501466', r_ui=5.0, est=5, details={'actual_k': 0, 'was_impossible': False}),\n",
       " Prediction(uid='A3USB290U0YJ23', iid='B00001WRSJ', r_ui=4.0, est=4.114571428571429, details={'was_impossible': True, 'reason': 'User and/or item is unkown.'}),\n",
       " Prediction(uid='A1AN7HLQB27TWK', iid='B00001WRSJ', r_ui=5.0, est=4.114571428571429, details={'was_impossible': True, 'reason': 'User and/or item is unkown.'}),\n",
       " Prediction(uid='A3G9BG16ETR643', iid='B0000222MY', r_ui=1.0, est=4.114571428571429, details={'was_impossible': True, 'reason': 'User and/or item is unkown.'}),\n",
       " Prediction(uid='A2LVL00GO3VY4L', iid='B00000J1QK', r_ui=5.0, est=4.114571428571429, details={'was_impossible': True, 'reason': 'User and/or item is unkown.'}),\n",
       " Prediction(uid='A1X6VVP8JLFEJ', iid='B00001P4XH', r_ui=4.0, est=4.0, details={'actual_k': 0, 'was_impossible': False}),\n",
       " Prediction(uid='A57TH5BVZMB2L', iid='B00001WRSJ', r_ui=4.0, est=4.114571428571429, details={'was_impossible': True, 'reason': 'User and/or item is unkown.'}),\n",
       " Prediction(uid='A12162CPC0IJJB', iid='B00001ZT4H', r_ui=5.0, est=4.114571428571429, details={'was_impossible': True, 'reason': 'User and/or item is unkown.'}),\n",
       " Prediction(uid='A3T4VZEOIHT0OS', iid='B00001WRSJ', r_ui=4.0, est=4.114571428571429, details={'was_impossible': True, 'reason': 'User and/or item is unkown.'}),\n",
       " Prediction(uid='AJYOGRY24VT0S', iid='B00001ZWXA', r_ui=5.0, est=4.114571428571429, details={'was_impossible': True, 'reason': 'User and/or item is unkown.'}),\n",
       " Prediction(uid='A3O1K4FHVGO5RR', iid='B00001WRSJ', r_ui=5.0, est=4.114571428571429, details={'was_impossible': True, 'reason': 'User and/or item is unkown.'}),\n",
       " Prediction(uid='A2OVJKYODHN1RF', iid='B00001WRSJ', r_ui=1.0, est=4.114571428571429, details={'was_impossible': True, 'reason': 'User and/or item is unkown.'}),\n",
       " Prediction(uid='A2HG4AFBEP9084', iid='B00000JSGF', r_ui=4.0, est=4.114571428571429, details={'was_impossible': True, 'reason': 'User and/or item is unkown.'}),\n",
       " Prediction(uid='A3GUAEOIF8OTJD', iid='B000001OM4', r_ui=4.0, est=4.114571428571429, details={'was_impossible': True, 'reason': 'User and/or item is unkown.'}),\n",
       " Prediction(uid='AJSMJNCHNTJGR', iid='B00001P4ZH', r_ui=5.0, est=4.114571428571429, details={'was_impossible': True, 'reason': 'User and/or item is unkown.'}),\n",
       " Prediction(uid='A2YNZOF39JTB5R', iid='B00000K4KH', r_ui=2.0, est=4.114571428571429, details={'was_impossible': True, 'reason': 'User and/or item is unkown.'}),\n",
       " Prediction(uid='A266PY9OPJHHQW', iid='B00001P4XH', r_ui=5.0, est=4.114571428571429, details={'was_impossible': True, 'reason': 'User and/or item is unkown.'}),\n",
       " Prediction(uid='A3BFJFJRXMWXAX', iid='B00001P505', r_ui=5.0, est=4.114571428571429, details={'was_impossible': True, 'reason': 'User and/or item is unkown.'}),\n",
       " Prediction(uid='A2LJMLLVQYD2UW', iid='B00000K4KH', r_ui=5.0, est=4.114571428571429, details={'was_impossible': True, 'reason': 'User and/or item is unkown.'}),\n",
       " Prediction(uid='A386OQPREUTRMN', iid='0972683275', r_ui=4.0, est=4.114571428571429, details={'was_impossible': True, 'reason': 'User and/or item is unkown.'}),\n",
       " Prediction(uid='APZA8SXX9DMT8', iid='B00000JYWQ', r_ui=1.0, est=4.114571428571429, details={'was_impossible': True, 'reason': 'User and/or item is unkown.'}),\n",
       " Prediction(uid='A34HHEX4Y8LF9L', iid='B00002EQCS', r_ui=4.0, est=4.114571428571429, details={'was_impossible': True, 'reason': 'User and/or item is unkown.'}),\n",
       " Prediction(uid='A38OQ2VNVJKOQV', iid='B00000J1V5', r_ui=5.0, est=4.114571428571429, details={'was_impossible': True, 'reason': 'User and/or item is unkown.'}),\n",
       " Prediction(uid='ATU2OHN3LP876', iid='B00001P4ZH', r_ui=4.0, est=4.114571428571429, details={'was_impossible': True, 'reason': 'User and/or item is unkown.'}),\n",
       " Prediction(uid='A1CDSJ18J7QVXZ', iid='B00000JBAT', r_ui=4.0, est=4.114571428571429, details={'was_impossible': True, 'reason': 'User and/or item is unkown.'}),\n",
       " Prediction(uid='A2U3HFFK3XQZOG', iid='B000023VW2', r_ui=4.0, est=4.114571428571429, details={'was_impossible': True, 'reason': 'User and/or item is unkown.'}),\n",
       " Prediction(uid='A3VQTA1NFV7AAI', iid='B00000JBAT', r_ui=2.0, est=4.114571428571429, details={'was_impossible': True, 'reason': 'User and/or item is unkown.'}),\n",
       " Prediction(uid='A2CHC18PJXLLEZ', iid='B00001W0DH', r_ui=5.0, est=4.114571428571429, details={'was_impossible': True, 'reason': 'User and/or item is unkown.'}),\n",
       " Prediction(uid='A1MBIZWJ71BR0P', iid='B00000J1UQ', r_ui=4.0, est=4.114571428571429, details={'was_impossible': True, 'reason': 'User and/or item is unkown.'}),\n",
       " Prediction(uid='AN51IIO35LRYU', iid='B00001P4ZH', r_ui=5.0, est=4.114571428571429, details={'was_impossible': True, 'reason': 'User and/or item is unkown.'}),\n",
       " Prediction(uid='A24FMTOVGP01DS', iid='B00000JBHP', r_ui=5.0, est=4.114571428571429, details={'was_impossible': True, 'reason': 'User and/or item is unkown.'}),\n",
       " Prediction(uid='A2DFARAH4MCY4D', iid='B00000DM9W', r_ui=5.0, est=4.114571428571429, details={'was_impossible': True, 'reason': 'User and/or item is unkown.'}),\n",
       " Prediction(uid='A70CMRWH37V60', iid='B00000J1V5', r_ui=1.0, est=4.114571428571429, details={'was_impossible': True, 'reason': 'User and/or item is unkown.'}),\n",
       " Prediction(uid='AOVMTR7PA8XB9', iid='B00000DM9W', r_ui=5.0, est=4.114571428571429, details={'was_impossible': True, 'reason': 'User and/or item is unkown.'}),\n",
       " Prediction(uid='A2TKX1QE9OGFQM', iid='B00000J1QR', r_ui=5.0, est=4.114571428571429, details={'was_impossible': True, 'reason': 'User and/or item is unkown.'}),\n",
       " Prediction(uid='A13D9HGHUC65GR', iid='B00001WRSJ', r_ui=5.0, est=4.114571428571429, details={'was_impossible': True, 'reason': 'User and/or item is unkown.'}),\n",
       " Prediction(uid='A15DAA7T18AWRE', iid='B00001P4XA', r_ui=5.0, est=4.114571428571429, details={'was_impossible': True, 'reason': 'User and/or item is unkown.'}),\n",
       " Prediction(uid='A1AS0NU2ZBW8PN', iid='1400501776', r_ui=5.0, est=4.114571428571429, details={'was_impossible': True, 'reason': 'User and/or item is unkown.'}),\n",
       " Prediction(uid='A8472BL2ZDFPO', iid='B00001ZWXA', r_ui=1.0, est=4.114571428571429, details={'was_impossible': True, 'reason': 'User and/or item is unkown.'}),\n",
       " Prediction(uid='A3AZD6B7WNPFI5', iid='B00001WRSJ', r_ui=5.0, est=4.114571428571429, details={'was_impossible': True, 'reason': 'User and/or item is unkown.'}),\n",
       " Prediction(uid='A36DGTGJ6Y6M0Q', iid='B0000228GF', r_ui=4.0, est=4.114571428571429, details={'was_impossible': True, 'reason': 'User and/or item is unkown.'}),\n",
       " Prediction(uid='APWLM3HOWBDBE', iid='1400532620', r_ui=2.0, est=4.114571428571429, details={'was_impossible': True, 'reason': 'User and/or item is unkown.'}),\n",
       " Prediction(uid='A1NF2Y5WSC4KM8', iid='B00000JBAT', r_ui=5.0, est=4.114571428571429, details={'was_impossible': True, 'reason': 'User and/or item is unkown.'}),\n",
       " Prediction(uid='A3QTTA1U3V4HI1', iid='8862935293', r_ui=4.0, est=4.114571428571429, details={'was_impossible': True, 'reason': 'User and/or item is unkown.'}),\n",
       " Prediction(uid='A257O9H69Y1920', iid='B00001WRSJ', r_ui=4.0, est=4.114571428571429, details={'was_impossible': True, 'reason': 'User and/or item is unkown.'}),\n",
       " Prediction(uid='AZLII3QU8Y9DQ', iid='B00001WRSJ', r_ui=5.0, est=4.114571428571429, details={'was_impossible': True, 'reason': 'User and/or item is unkown.'}),\n",
       " Prediction(uid='A1GE5Z95TVMTCA', iid='B00001P4ZH', r_ui=3.0, est=4.114571428571429, details={'was_impossible': True, 'reason': 'User and/or item is unkown.'}),\n",
       " Prediction(uid='A2RTQBJBU1V5HG', iid='B00001W0EQ', r_ui=5.0, est=4.114571428571429, details={'was_impossible': True, 'reason': 'User and/or item is unkown.'}),\n",
       " Prediction(uid='A14V89LNZUNDVX', iid='0972683275', r_ui=5.0, est=4.114571428571429, details={'was_impossible': True, 'reason': 'User and/or item is unkown.'}),\n",
       " Prediction(uid='A1V4MH8W5QV6EK', iid='B00001WRSJ', r_ui=4.0, est=4.114571428571429, details={'was_impossible': True, 'reason': 'User and/or item is unkown.'}),\n",
       " Prediction(uid='AGBVM3I9RFV89', iid='9573212919', r_ui=4.0, est=4.114571428571429, details={'was_impossible': True, 'reason': 'User and/or item is unkown.'}),\n",
       " Prediction(uid='A1U2N58I53PDV', iid='B00001WRSJ', r_ui=5.0, est=4.114571428571429, details={'was_impossible': True, 'reason': 'User and/or item is unkown.'}),\n",
       " Prediction(uid='A2EVLFN3CCGYV9', iid='B00001W0DH', r_ui=4.0, est=4.114571428571429, details={'was_impossible': True, 'reason': 'User and/or item is unkown.'}),\n",
       " Prediction(uid='A8AOI70PT1R1B', iid='B00001OWYM', r_ui=1.0, est=4.114571428571429, details={'was_impossible': True, 'reason': 'User and/or item is unkown.'}),\n",
       " Prediction(uid='A1AXJJTN6GPQ0I', iid='B00001P4ZH', r_ui=5.0, est=4.114571428571429, details={'was_impossible': True, 'reason': 'User and/or item is unkown.'}),\n",
       " Prediction(uid='A2OBRBYSY3AW19', iid='B00001WRSJ', r_ui=5.0, est=4.114571428571429, details={'was_impossible': True, 'reason': 'User and/or item is unkown.'}),\n",
       " Prediction(uid='A2UZQ5I2XLQYXD', iid='0972683275', r_ui=5.0, est=4.114571428571429, details={'was_impossible': True, 'reason': 'User and/or item is unkown.'}),\n",
       " Prediction(uid='A3BF89QES5N7ED', iid='B00000K135', r_ui=4.0, est=4.114571428571429, details={'was_impossible': True, 'reason': 'User and/or item is unkown.'}),\n",
       " Prediction(uid='A1LTNCGM8E63C1', iid='B000026D8E', r_ui=2.0, est=4.114571428571429, details={'was_impossible': True, 'reason': 'User and/or item is unkown.'}),\n",
       " Prediction(uid='ALV5EOEJW5JG4', iid='B00001P4XH', r_ui=4.0, est=4.114571428571429, details={'was_impossible': True, 'reason': 'User and/or item is unkown.'}),\n",
       " Prediction(uid='A1YCCP42082H3K', iid='B00001W0DH', r_ui=4.0, est=4.114571428571429, details={'was_impossible': True, 'reason': 'User and/or item is unkown.'}),\n",
       " Prediction(uid='A2GZHHKT2ARIMN', iid='B00001P4ZH', r_ui=5.0, est=4.114571428571429, details={'was_impossible': True, 'reason': 'User and/or item is unkown.'}),\n",
       " Prediction(uid='A22IZADLVYIO5I', iid='B00001W0DD', r_ui=5.0, est=4.114571428571429, details={'was_impossible': True, 'reason': 'User and/or item is unkown.'}),\n",
       " Prediction(uid='A2H1GR94J9JVFI', iid='B00001P4ZH', r_ui=4.0, est=4.114571428571429, details={'was_impossible': True, 'reason': 'User and/or item is unkown.'}),\n",
       " Prediction(uid='A2WAFQHC378GP7', iid='B00001W0DG', r_ui=4.0, est=4.114571428571429, details={'was_impossible': True, 'reason': 'User and/or item is unkown.'}),\n",
       " Prediction(uid='A3AHB4713V5DJ6', iid='B00001P4ZH', r_ui=5.0, est=4.114571428571429, details={'was_impossible': True, 'reason': 'User and/or item is unkown.'}),\n",
       " Prediction(uid='A3EVJFU8OGK8IT', iid='B00001P505', r_ui=5.0, est=4.114571428571429, details={'was_impossible': True, 'reason': 'User and/or item is unkown.'}),\n",
       " Prediction(uid='A3TJA9FC2O3YGV', iid='9983891212', r_ui=5.0, est=4.114571428571429, details={'was_impossible': True, 'reason': 'User and/or item is unkown.'}),\n",
       " Prediction(uid='A1GJKM2FUBIDT6', iid='B00000K2YR', r_ui=5.0, est=4.114571428571429, details={'was_impossible': True, 'reason': 'User and/or item is unkown.'}),\n",
       " Prediction(uid='A3G4KLBF3ADK0O', iid='1400599997', r_ui=5.0, est=4.114571428571429, details={'was_impossible': True, 'reason': 'User and/or item is unkown.'}),\n",
       " Prediction(uid='AYDTNYX38CUOI', iid='B00000JMUG', r_ui=4.0, est=4.114571428571429, details={'was_impossible': True, 'reason': 'User and/or item is unkown.'}),\n",
       " Prediction(uid='A14NBX5DA012DD', iid='B00000K2YR', r_ui=5.0, est=4.114571428571429, details={'was_impossible': True, 'reason': 'User and/or item is unkown.'}),\n",
       " Prediction(uid='A3LZ1RFLR4DENN', iid='B00001W0DI', r_ui=5.0, est=4.114571428571429, details={'was_impossible': True, 'reason': 'User and/or item is unkown.'}),\n",
       " Prediction(uid='A2I16SKF3RHED6', iid='B00001P4ZH', r_ui=5.0, est=4.0, details={'actual_k': 0, 'was_impossible': False}),\n",
       " Prediction(uid='A23BQYM5VACS3X', iid='B00001W0DI', r_ui=5.0, est=4.114571428571429, details={'was_impossible': True, 'reason': 'User and/or item is unkown.'}),\n",
       " Prediction(uid='ACGPC21TXRBS1', iid='B00001P4ZH', r_ui=5.0, est=4.114571428571429, details={'was_impossible': True, 'reason': 'User and/or item is unkown.'}),\n",
       " Prediction(uid='A2BWRKASRE27GB', iid='B00000JI4F', r_ui=5.0, est=4.114571428571429, details={'was_impossible': True, 'reason': 'User and/or item is unkown.'}),\n",
       " Prediction(uid='A3Q2EAAZ1I0QP8', iid='0972683275', r_ui=2.0, est=4.114571428571429, details={'was_impossible': True, 'reason': 'User and/or item is unkown.'}),\n",
       " Prediction(uid='A1QD9U5MR3MDL6', iid='B00000K4KH', r_ui=5.0, est=4.114571428571429, details={'was_impossible': True, 'reason': 'User and/or item is unkown.'}),\n",
       " Prediction(uid='AUZXRYWIW59K2', iid='B00001W0DH', r_ui=4.0, est=4.114571428571429, details={'was_impossible': True, 'reason': 'User and/or item is unkown.'}),\n",
       " Prediction(uid='A1KR3NI3GHHTI5', iid='1400599997', r_ui=1.0, est=4.114571428571429, details={'was_impossible': True, 'reason': 'User and/or item is unkown.'}),\n",
       " Prediction(uid='A1OKXYEBH75140', iid='B00000JDF6', r_ui=5.0, est=4.114571428571429, details={'was_impossible': True, 'reason': 'User and/or item is unkown.'}),\n",
       " Prediction(uid='A3300RYY4RFVH1', iid='B00000JCT8', r_ui=5.0, est=4.114571428571429, details={'was_impossible': True, 'reason': 'User and/or item is unkown.'}),\n",
       " Prediction(uid='ABX131BYH3SCE', iid='B00000JHWX', r_ui=5.0, est=4.114571428571429, details={'was_impossible': True, 'reason': 'User and/or item is unkown.'}),\n",
       " Prediction(uid='A14R4K86STZFD2', iid='0972683275', r_ui=5.0, est=4.114571428571429, details={'was_impossible': True, 'reason': 'User and/or item is unkown.'}),\n",
       " Prediction(uid='A2E30AV53XVK1D', iid='B00001ZWXA', r_ui=1.0, est=4.114571428571429, details={'was_impossible': True, 'reason': 'User and/or item is unkown.'}),\n",
       " Prediction(uid='A2VSQ6QPVFW2KC', iid='B00000J0D8', r_ui=1.0, est=4.114571428571429, details={'was_impossible': True, 'reason': 'User and/or item is unkown.'}),\n",
       " Prediction(uid='A2FC7OC5D6LYNX', iid='B00000JDF6', r_ui=5.0, est=4.114571428571429, details={'was_impossible': True, 'reason': 'User and/or item is unkown.'}),\n",
       " Prediction(uid='A2MVHEPBFI8VID', iid='B00001P4ZH', r_ui=5.0, est=4.114571428571429, details={'was_impossible': True, 'reason': 'User and/or item is unkown.'}),\n",
       " Prediction(uid='A2XRMOGEES0OZS', iid='B00001P4ZH', r_ui=5.0, est=4.114571428571429, details={'was_impossible': True, 'reason': 'User and/or item is unkown.'}),\n",
       " Prediction(uid='A1NW2PF0NWSFEX', iid='9888002198', r_ui=5.0, est=4.114571428571429, details={'was_impossible': True, 'reason': 'User and/or item is unkown.'}),\n",
       " Prediction(uid='ANF685VF4WXSI', iid='B00001P4XA', r_ui=4.0, est=4.114571428571429, details={'was_impossible': True, 'reason': 'User and/or item is unkown.'}),\n",
       " Prediction(uid='A3L6L5O89JTX2T', iid='9983891212', r_ui=5.0, est=4.114571428571429, details={'was_impossible': True, 'reason': 'User and/or item is unkown.'}),\n",
       " Prediction(uid='AHJUIITRPBMK7', iid='B00001P4ZH', r_ui=3.0, est=4.114571428571429, details={'was_impossible': True, 'reason': 'User and/or item is unkown.'}),\n",
       " Prediction(uid='A1YM9EWD81N5O1', iid='7214047977', r_ui=4.0, est=4.114571428571429, details={'was_impossible': True, 'reason': 'User and/or item is unkown.'}),\n",
       " Prediction(uid='A2LGVQ75T5GF66', iid='B00001W0EQ', r_ui=1.0, est=4.114571428571429, details={'was_impossible': True, 'reason': 'User and/or item is unkown.'}),\n",
       " Prediction(uid='A2Q5DZRXBR6KAT', iid='B00001P4ZH', r_ui=5.0, est=4.114571428571429, details={'was_impossible': True, 'reason': 'User and/or item is unkown.'}),\n",
       " Prediction(uid='AYLRGKLP47HR1', iid='B00000J1EJ', r_ui=4.0, est=4.114571428571429, details={'was_impossible': True, 'reason': 'User and/or item is unkown.'}),\n",
       " Prediction(uid='A1S71JIN40YHXK', iid='1400532620', r_ui=5.0, est=4.114571428571429, details={'was_impossible': True, 'reason': 'User and/or item is unkown.'}),\n",
       " Prediction(uid='A15P4PLDUGEDK6', iid='B00001WRSJ', r_ui=4.0, est=4.114571428571429, details={'was_impossible': True, 'reason': 'User and/or item is unkown.'}),\n",
       " Prediction(uid='A21FPF9FQSYNXL', iid='B00000J1EJ', r_ui=5.0, est=4.114571428571429, details={'was_impossible': True, 'reason': 'User and/or item is unkown.'}),\n",
       " Prediction(uid='A3J3FS4TOYJR3K', iid='B000001ON6', r_ui=1.0, est=4.114571428571429, details={'was_impossible': True, 'reason': 'User and/or item is unkown.'}),\n",
       " Prediction(uid='A12F6005KZKKFJ', iid='1400501466', r_ui=5.0, est=4.114571428571429, details={'was_impossible': True, 'reason': 'User and/or item is unkown.'}),\n",
       " Prediction(uid='A342Y2NNIHTF5E', iid='B00000J1QK', r_ui=3.0, est=4.114571428571429, details={'was_impossible': True, 'reason': 'User and/or item is unkown.'}),\n",
       " Prediction(uid='AOILFEF84QRQR', iid='B00000JII6', r_ui=1.0, est=4.114571428571429, details={'was_impossible': True, 'reason': 'User and/or item is unkown.'}),\n",
       " Prediction(uid='A2PKAABRO16ZAK', iid='B00001WRSJ', r_ui=5.0, est=4.114571428571429, details={'was_impossible': True, 'reason': 'User and/or item is unkown.'}),\n",
       " Prediction(uid='A2A3HDJXDN8W47', iid='140053271X', r_ui=1.0, est=4.114571428571429, details={'was_impossible': True, 'reason': 'User and/or item is unkown.'}),\n",
       " Prediction(uid='A2OXV9Q03XSKV6', iid='B000001ON6', r_ui=1.0, est=4.114571428571429, details={'was_impossible': True, 'reason': 'User and/or item is unkown.'}),\n",
       " Prediction(uid='ALH8OGEJ8J1T6', iid='B00001P4XA', r_ui=4.0, est=4.114571428571429, details={'was_impossible': True, 'reason': 'User and/or item is unkown.'}),\n",
       " Prediction(uid='A3RVARO0HV209Q', iid='B00000J1SC', r_ui=2.0, est=4.114571428571429, details={'was_impossible': True, 'reason': 'User and/or item is unkown.'}),\n",
       " Prediction(uid='A2S4UO73LBY2EZ', iid='B00001P4ZR', r_ui=4.0, est=4.114571428571429, details={'was_impossible': True, 'reason': 'User and/or item is unkown.'}),\n",
       " Prediction(uid='AI615OWXFM0H', iid='B00001W0EQ', r_ui=3.0, est=4.114571428571429, details={'was_impossible': True, 'reason': 'User and/or item is unkown.'}),\n",
       " Prediction(uid='A3VMGC2Y6JMMQB', iid='B00001P4ZH', r_ui=5.0, est=4.114571428571429, details={'was_impossible': True, 'reason': 'User and/or item is unkown.'}),\n",
       " Prediction(uid='A2G9MH5HAODO0F', iid='B00002NDRQ', r_ui=4.0, est=4.114571428571429, details={'was_impossible': True, 'reason': 'User and/or item is unkown.'}),\n",
       " Prediction(uid='A2KN382EO6GYZ7', iid='0972683275', r_ui=5.0, est=4.114571428571429, details={'was_impossible': True, 'reason': 'User and/or item is unkown.'}),\n",
       " Prediction(uid='A3DTMHPIC7UBM', iid='B00001P4ZH', r_ui=5.0, est=4.114571428571429, details={'was_impossible': True, 'reason': 'User and/or item is unkown.'}),\n",
       " Prediction(uid='ANLRDIKW6TY5L', iid='1400532655', r_ui=5.0, est=4.114571428571429, details={'was_impossible': True, 'reason': 'User and/or item is unkown.'}),\n",
       " Prediction(uid='A3HRBWBN7DH9XV', iid='B00000J061', r_ui=4.0, est=4.114571428571429, details={'was_impossible': True, 'reason': 'User and/or item is unkown.'}),\n",
       " Prediction(uid='A2XTTBXNX2FKOT', iid='B00001P4ZH', r_ui=5.0, est=4.114571428571429, details={'was_impossible': True, 'reason': 'User and/or item is unkown.'}),\n",
       " Prediction(uid='A30IGV5VHS7EU7', iid='B00001P4ZH', r_ui=5.0, est=4.114571428571429, details={'was_impossible': True, 'reason': 'User and/or item is unkown.'}),\n",
       " Prediction(uid='A1IRW11LQRH0GP', iid='B00001OWYM', r_ui=1.0, est=4.114571428571429, details={'was_impossible': True, 'reason': 'User and/or item is unkown.'}),\n",
       " Prediction(uid='AKE69F2JO3UVK', iid='9573212919', r_ui=5.0, est=4.114571428571429, details={'was_impossible': True, 'reason': 'User and/or item is unkown.'}),\n",
       " Prediction(uid='A2AFGNDUPNWVSN', iid='B000001OM4', r_ui=5.0, est=4.114571428571429, details={'was_impossible': True, 'reason': 'User and/or item is unkown.'}),\n",
       " Prediction(uid='A3LHM5YKF4YCMN', iid='B00001WRSJ', r_ui=5.0, est=4.114571428571429, details={'was_impossible': True, 'reason': 'User and/or item is unkown.'}),\n",
       " Prediction(uid='AQV240XF36FSX', iid='0972683275', r_ui=5.0, est=4.114571428571429, details={'was_impossible': True, 'reason': 'User and/or item is unkown.'}),\n",
       " Prediction(uid='A3UCF82XIPJME2', iid='1400532620', r_ui=5.0, est=4.114571428571429, details={'was_impossible': True, 'reason': 'User and/or item is unkown.'}),\n",
       " Prediction(uid='A1T8DDTIJ0TZDN', iid='B00001P4XA', r_ui=5.0, est=4.114571428571429, details={'was_impossible': True, 'reason': 'User and/or item is unkown.'}),\n",
       " Prediction(uid='A154Q8G3EXQ0Y0', iid='1400532655', r_ui=1.0, est=4.114571428571429, details={'was_impossible': True, 'reason': 'User and/or item is unkown.'}),\n",
       " Prediction(uid='A2UQIIJ2CD8REE', iid='6301977173', r_ui=5.0, est=4.114571428571429, details={'was_impossible': True, 'reason': 'User and/or item is unkown.'}),\n",
       " Prediction(uid='AVVTZZ6VCUH03', iid='B00000K2YR', r_ui=4.0, est=4.114571428571429, details={'was_impossible': True, 'reason': 'User and/or item is unkown.'}),\n",
       " Prediction(uid='A3LXXO6R3NJVEC', iid='B00001P4ZH', r_ui=5.0, est=4.114571428571429, details={'was_impossible': True, 'reason': 'User and/or item is unkown.'}),\n",
       " Prediction(uid='A2U4TEVNMRRXP2', iid='B00001P4ZH', r_ui=5.0, est=4.114571428571429, details={'was_impossible': True, 'reason': 'User and/or item is unkown.'}),\n",
       " Prediction(uid='A17HNPM0R7HT9Y', iid='B00002NDRQ', r_ui=5.0, est=4.114571428571429, details={'was_impossible': True, 'reason': 'User and/or item is unkown.'}),\n",
       " Prediction(uid='A1FZB2OSNPVZI1', iid='B00002JXFH', r_ui=5.0, est=4.114571428571429, details={'was_impossible': True, 'reason': 'User and/or item is unkown.'}),\n",
       " Prediction(uid='A1JQ1QVH9LR56Y', iid='140053271X', r_ui=1.0, est=4.114571428571429, details={'was_impossible': True, 'reason': 'User and/or item is unkown.'}),\n",
       " Prediction(uid='A3Q95HLHAUC34M', iid='0972683275', r_ui=5.0, est=4.114571428571429, details={'was_impossible': True, 'reason': 'User and/or item is unkown.'}),\n",
       " Prediction(uid='APGN8QGF0P5QR', iid='B00001P4ZH', r_ui=4.0, est=4.114571428571429, details={'was_impossible': True, 'reason': 'User and/or item is unkown.'}),\n",
       " Prediction(uid='A2X5EVO3YSBCIW', iid='B000021YUO', r_ui=3.0, est=4.114571428571429, details={'was_impossible': True, 'reason': 'User and/or item is unkown.'}),\n",
       " Prediction(uid='AHBCFCB295VIS', iid='B00001P4ZH', r_ui=5.0, est=4.114571428571429, details={'was_impossible': True, 'reason': 'User and/or item is unkown.'}),\n",
       " Prediction(uid='A1VXVT5CNFM46U', iid='B00000J1UQ', r_ui=5.0, est=4.114571428571429, details={'was_impossible': True, 'reason': 'User and/or item is unkown.'}),\n",
       " Prediction(uid='A25LUH4NQJAXLS', iid='B00001P4ZH', r_ui=5.0, est=4.114571428571429, details={'was_impossible': True, 'reason': 'User and/or item is unkown.'}),\n",
       " Prediction(uid='A16OC6HT03OB7L', iid='140053271X', r_ui=4.0, est=4.114571428571429, details={'was_impossible': True, 'reason': 'User and/or item is unkown.'}),\n",
       " Prediction(uid='A191TDRIN91X1M', iid='B00000DM9W', r_ui=5.0, est=4.114571428571429, details={'was_impossible': True, 'reason': 'User and/or item is unkown.'}),\n",
       " Prediction(uid='A99TMXJYXUL55', iid='B00001P4ZH', r_ui=3.0, est=4.114571428571429, details={'was_impossible': True, 'reason': 'User and/or item is unkown.'}),\n",
       " Prediction(uid='A21X5QEOLT6JGO', iid='B00000JII6', r_ui=5.0, est=4.114571428571429, details={'was_impossible': True, 'reason': 'User and/or item is unkown.'}),\n",
       " Prediction(uid='A3K4IFDEHTYRSU', iid='B00001WRSJ', r_ui=5.0, est=4.114571428571429, details={'was_impossible': True, 'reason': 'User and/or item is unkown.'}),\n",
       " Prediction(uid='APOHJ0S99TKAF', iid='B00001P4XA', r_ui=3.0, est=4.114571428571429, details={'was_impossible': True, 'reason': 'User and/or item is unkown.'}),\n",
       " Prediction(uid='A28CRL5C0NEZD7', iid='B00000DM9W', r_ui=1.0, est=4.114571428571429, details={'was_impossible': True, 'reason': 'User and/or item is unkown.'}),\n",
       " Prediction(uid='A340ZQU07LT7IK', iid='B00001W0DI', r_ui=5.0, est=4.114571428571429, details={'was_impossible': True, 'reason': 'User and/or item is unkown.'}),\n",
       " Prediction(uid='A381YC9NE1K8R8', iid='B00000J1EQ', r_ui=5.0, est=4.114571428571429, details={'was_impossible': True, 'reason': 'User and/or item is unkown.'}),\n",
       " Prediction(uid='AJHKWMY0H3SJF', iid='9888002198', r_ui=1.0, est=4.114571428571429, details={'was_impossible': True, 'reason': 'User and/or item is unkown.'}),\n",
       " Prediction(uid='AY5TMAZLGB09U', iid='B00001P4XH', r_ui=5.0, est=4.114571428571429, details={'was_impossible': True, 'reason': 'User and/or item is unkown.'}),\n",
       " Prediction(uid='AFVCZOXM4JV5W', iid='B00001ZWXA', r_ui=5.0, est=4.114571428571429, details={'was_impossible': True, 'reason': 'User and/or item is unkown.'}),\n",
       " Prediction(uid='A2UD5EG63WWTUR', iid='B00001P4ZH', r_ui=4.0, est=4.114571428571429, details={'was_impossible': True, 'reason': 'User and/or item is unkown.'}),\n",
       " Prediction(uid='A3U454B540HWZS', iid='B00002EQCW', r_ui=4.0, est=4.114571428571429, details={'was_impossible': True, 'reason': 'User and/or item is unkown.'}),\n",
       " Prediction(uid='A388MRFILHL3DB', iid='B00000J4FS', r_ui=4.0, est=4.114571428571429, details={'was_impossible': True, 'reason': 'User and/or item is unkown.'}),\n",
       " Prediction(uid='A2K1QRBOBJ3YM6', iid='B00000K2YR', r_ui=5.0, est=4.114571428571429, details={'was_impossible': True, 'reason': 'User and/or item is unkown.'}),\n",
       " Prediction(uid='A1SXQ7CSLW6KDW', iid='8862935293', r_ui=3.0, est=4.114571428571429, details={'was_impossible': True, 'reason': 'User and/or item is unkown.'}),\n",
       " Prediction(uid='A2VN8DIGMYOPMK', iid='B00000JFIF', r_ui=5.0, est=4.114571428571429, details={'was_impossible': True, 'reason': 'User and/or item is unkown.'}),\n",
       " Prediction(uid='A3LZ7HUDLQ1J4X', iid='B00001P4ZH', r_ui=5.0, est=4.114571428571429, details={'was_impossible': True, 'reason': 'User and/or item is unkown.'}),\n",
       " Prediction(uid='A1ZW3D1PHMGZ9H', iid='B00000J061', r_ui=3.0, est=4.114571428571429, details={'was_impossible': True, 'reason': 'User and/or item is unkown.'}),\n",
       " Prediction(uid='A228VA8S67TWTS', iid='B00001P4ZH', r_ui=5.0, est=4.114571428571429, details={'was_impossible': True, 'reason': 'User and/or item is unkown.'}),\n",
       " Prediction(uid='A1MRESWHA86B5B', iid='B00000JDF6', r_ui=5.0, est=4.114571428571429, details={'was_impossible': True, 'reason': 'User and/or item is unkown.'}),\n",
       " Prediction(uid='A3G0G05H9QKXU5', iid='B00000K135', r_ui=5.0, est=4.114571428571429, details={'was_impossible': True, 'reason': 'User and/or item is unkown.'}),\n",
       " Prediction(uid='A21ZZUXAM2PUCA', iid='B00001P4ZR', r_ui=5.0, est=4.114571428571429, details={'was_impossible': True, 'reason': 'User and/or item is unkown.'}),\n",
       " Prediction(uid='A31IDDWN95JKFC', iid='B00000JDF5', r_ui=5.0, est=4.114571428571429, details={'was_impossible': True, 'reason': 'User and/or item is unkown.'}),\n",
       " Prediction(uid='A2RV93OBCRR1NG', iid='B00000J1EP', r_ui=5.0, est=4.114571428571429, details={'was_impossible': True, 'reason': 'User and/or item is unkown.'}),\n",
       " Prediction(uid='AFL2L2QPU3J76', iid='B00001W0DI', r_ui=4.0, est=4.114571428571429, details={'was_impossible': True, 'reason': 'User and/or item is unkown.'}),\n",
       " Prediction(uid='A3LPTRW8V5ZDI7', iid='B00000JFE3', r_ui=5.0, est=4.114571428571429, details={'was_impossible': True, 'reason': 'User and/or item is unkown.'}),\n",
       " Prediction(uid='A3A15L96IYUO6V', iid='B00000JCTO', r_ui=4.0, est=4.0, details={'actual_k': 0, 'was_impossible': False}),\n",
       " Prediction(uid='A20L9XD115IBDM', iid='B00000JI4F', r_ui=1.0, est=4.114571428571429, details={'was_impossible': True, 'reason': 'User and/or item is unkown.'}),\n",
       " Prediction(uid='A1SC319I0JG5CW', iid='B000023VUL', r_ui=5.0, est=4.114571428571429, details={'was_impossible': True, 'reason': 'User and/or item is unkown.'}),\n",
       " Prediction(uid='AF8EJ3J9QJZF', iid='B00000J1EJ', r_ui=4.0, est=4.114571428571429, details={'was_impossible': True, 'reason': 'User and/or item is unkown.'}),\n",
       " Prediction(uid='A1BDMSJDPX5MDF', iid='B00000JBHP', r_ui=4.0, est=4.114571428571429, details={'was_impossible': True, 'reason': 'User and/or item is unkown.'}),\n",
       " Prediction(uid='A1P81BJXS62M6W', iid='B00000J061', r_ui=5.0, est=4.114571428571429, details={'was_impossible': True, 'reason': 'User and/or item is unkown.'}),\n",
       " Prediction(uid='ACZ7LEL5BHIK5', iid='B00000K2YR', r_ui=3.0, est=4.114571428571429, details={'was_impossible': True, 'reason': 'User and/or item is unkown.'}),\n",
       " Prediction(uid='A3AFDN9UFIHVN1', iid='B00000J1EJ', r_ui=1.0, est=4.114571428571429, details={'was_impossible': True, 'reason': 'User and/or item is unkown.'}),\n",
       " Prediction(uid='A2MOHLO9XB2H4L', iid='B00001OWYM', r_ui=1.0, est=4.114571428571429, details={'was_impossible': True, 'reason': 'User and/or item is unkown.'}),\n",
       " Prediction(uid='A2R2ZMVX4ENQTU', iid='B0000228GF', r_ui=5.0, est=4.114571428571429, details={'was_impossible': True, 'reason': 'User and/or item is unkown.'}),\n",
       " Prediction(uid='A1EN23MM1N1Q8B', iid='B00001WRSJ', r_ui=5.0, est=4.114571428571429, details={'was_impossible': True, 'reason': 'User and/or item is unkown.'}),\n",
       " Prediction(uid='AZPT6K5K0IVCT', iid='140053271X', r_ui=5.0, est=4.114571428571429, details={'was_impossible': True, 'reason': 'User and/or item is unkown.'}),\n",
       " Prediction(uid='A33HBF4YD4C5UJ', iid='B000028F42', r_ui=4.0, est=4.114571428571429, details={'was_impossible': True, 'reason': 'User and/or item is unkown.'}),\n",
       " Prediction(uid='A3NJPWPSD5NOCV', iid='B000001ON6', r_ui=1.0, est=4.114571428571429, details={'was_impossible': True, 'reason': 'User and/or item is unkown.'}),\n",
       " Prediction(uid='AYHYGK3XN3ZRA', iid='B00000J061', r_ui=1.0, est=4.114571428571429, details={'was_impossible': True, 'reason': 'User and/or item is unkown.'}),\n",
       " Prediction(uid='A3LU5NGC76QR1', iid='B00000J1EQ', r_ui=5.0, est=4.114571428571429, details={'was_impossible': True, 'reason': 'User and/or item is unkown.'}),\n",
       " Prediction(uid='A1MEY9ETHMVX4Q', iid='B00002EQCW', r_ui=5.0, est=4.114571428571429, details={'was_impossible': True, 'reason': 'User and/or item is unkown.'}),\n",
       " Prediction(uid='A1DOGF646L7XS0', iid='B00001P4ZH', r_ui=4.0, est=4.114571428571429, details={'was_impossible': True, 'reason': 'User and/or item is unkown.'}),\n",
       " Prediction(uid='A3SK1TOIE9QZ0C', iid='B00001WRSJ', r_ui=5.0, est=4.114571428571429, details={'was_impossible': True, 'reason': 'User and/or item is unkown.'}),\n",
       " Prediction(uid='ADFBMKY3DX8IC', iid='B00000J3UJ', r_ui=1.0, est=4.114571428571429, details={'was_impossible': True, 'reason': 'User and/or item is unkown.'}),\n",
       " Prediction(uid='A2P3YBNPLNZPEX', iid='140053271X', r_ui=5.0, est=4.114571428571429, details={'was_impossible': True, 'reason': 'User and/or item is unkown.'}),\n",
       " Prediction(uid='A3NLHE3JGOBTLU', iid='B000001ON6', r_ui=5.0, est=4.114571428571429, details={'was_impossible': True, 'reason': 'User and/or item is unkown.'}),\n",
       " Prediction(uid='A37894K753YF3J', iid='B00000K2YR', r_ui=5.0, est=4.114571428571429, details={'was_impossible': True, 'reason': 'User and/or item is unkown.'}),\n",
       " Prediction(uid='A3ATF868IEP191', iid='0972683275', r_ui=4.0, est=4.114571428571429, details={'was_impossible': True, 'reason': 'User and/or item is unkown.'}),\n",
       " Prediction(uid='A8E0SNQFWA5TB', iid='B00002EQCW', r_ui=5.0, est=4.114571428571429, details={'was_impossible': True, 'reason': 'User and/or item is unkown.'}),\n",
       " Prediction(uid='A3DB8M323QHWZM', iid='B00000J0D2', r_ui=4.0, est=4.114571428571429, details={'was_impossible': True, 'reason': 'User and/or item is unkown.'}),\n",
       " Prediction(uid='A3TSAQ6H6HKXIZ', iid='9573212919', r_ui=5.0, est=4.114571428571429, details={'was_impossible': True, 'reason': 'User and/or item is unkown.'}),\n",
       " Prediction(uid='A1RJUXDK64O91A', iid='B00000J6WY', r_ui=4.0, est=4.114571428571429, details={'was_impossible': True, 'reason': 'User and/or item is unkown.'}),\n",
       " Prediction(uid='AURW67ORPANXK', iid='B00000JCTO', r_ui=3.0, est=4.114571428571429, details={'was_impossible': True, 'reason': 'User and/or item is unkown.'}),\n",
       " Prediction(uid='AVDFVR0OPRPYR', iid='B00001W0DI', r_ui=5.0, est=4.114571428571429, details={'was_impossible': True, 'reason': 'User and/or item is unkown.'}),\n",
       " Prediction(uid='ASSYGC3PU7Q1L', iid='B00001WRSJ', r_ui=5.0, est=4.114571428571429, details={'was_impossible': True, 'reason': 'User and/or item is unkown.'}),\n",
       " Prediction(uid='AF91OAOXOPTXM', iid='B00001P4XA', r_ui=5.0, est=4.114571428571429, details={'was_impossible': True, 'reason': 'User and/or item is unkown.'}),\n",
       " Prediction(uid='A13BX9O5UDBILC', iid='B00000JD34', r_ui=5.0, est=4.114571428571429, details={'was_impossible': True, 'reason': 'User and/or item is unkown.'}),\n",
       " Prediction(uid='A1YG5RLEAXEE5E', iid='B00001P4ZH', r_ui=3.0, est=4.114571428571429, details={'was_impossible': True, 'reason': 'User and/or item is unkown.'}),\n",
       " Prediction(uid='A2YLHOQ21JMTQ4', iid='B00000J4GE', r_ui=2.0, est=4.114571428571429, details={'was_impossible': True, 'reason': 'User and/or item is unkown.'}),\n",
       " Prediction(uid='AVTZAKQ999MDE', iid='B00000J1QK', r_ui=4.0, est=4.114571428571429, details={'was_impossible': True, 'reason': 'User and/or item is unkown.'}),\n",
       " Prediction(uid='A2UL0RBGVET58D', iid='B00001P4XA', r_ui=4.0, est=4.114571428571429, details={'was_impossible': True, 'reason': 'User and/or item is unkown.'}),\n",
       " Prediction(uid='A1GJWIOL0YLHBS', iid='B00001P4ZH', r_ui=5.0, est=4.114571428571429, details={'was_impossible': True, 'reason': 'User and/or item is unkown.'}),\n",
       " Prediction(uid='A2V7N60X4TH13B', iid='B00000JDF5', r_ui=5.0, est=4.114571428571429, details={'was_impossible': True, 'reason': 'User and/or item is unkown.'}),\n",
       " Prediction(uid='A12W59CO41DMUQ', iid='B00000JBAT', r_ui=2.0, est=4.114571428571429, details={'was_impossible': True, 'reason': 'User and/or item is unkown.'}),\n",
       " Prediction(uid='A3FF9B6A977XVU', iid='7214047977', r_ui=5.0, est=4.114571428571429, details={'was_impossible': True, 'reason': 'User and/or item is unkown.'}),\n",
       " Prediction(uid='A3HLUBDLMU8RGO', iid='B00000K135', r_ui=5.0, est=4.114571428571429, details={'was_impossible': True, 'reason': 'User and/or item is unkown.'}),\n",
       " Prediction(uid='A1X1DS4OWX7WJK', iid='0972683275', r_ui=3.0, est=4.114571428571429, details={'was_impossible': True, 'reason': 'User and/or item is unkown.'}),\n",
       " Prediction(uid='A1TM37ZK2PC87J', iid='B00001OWYM', r_ui=1.0, est=4.114571428571429, details={'was_impossible': True, 'reason': 'User and/or item is unkown.'}),\n",
       " Prediction(uid='A2D3WIS7V7U9D9', iid='1400501466', r_ui=1.0, est=4.114571428571429, details={'was_impossible': True, 'reason': 'User and/or item is unkown.'}),\n",
       " Prediction(uid='A1SSM7WW1YTXL6', iid='B00001P4ZR', r_ui=3.0, est=4.114571428571429, details={'was_impossible': True, 'reason': 'User and/or item is unkown.'}),\n",
       " Prediction(uid='AL2XB3XNNUV9J', iid='1400501466', r_ui=3.0, est=4.114571428571429, details={'was_impossible': True, 'reason': 'User and/or item is unkown.'}),\n",
       " Prediction(uid='A3L11EX1JUJ0HH', iid='B00001OWYM', r_ui=1.0, est=4.114571428571429, details={'was_impossible': True, 'reason': 'User and/or item is unkown.'}),\n",
       " Prediction(uid='A237NCHQXTEHHB', iid='1400532620', r_ui=5.0, est=4.114571428571429, details={'was_impossible': True, 'reason': 'User and/or item is unkown.'}),\n",
       " Prediction(uid='ACSYXU72Z73M4', iid='B00000J3NF', r_ui=5.0, est=4.114571428571429, details={'was_impossible': True, 'reason': 'User and/or item is unkown.'}),\n",
       " Prediction(uid='A11SX0QI0EFZY0', iid='0972683275', r_ui=5.0, est=4.114571428571429, details={'was_impossible': True, 'reason': 'User and/or item is unkown.'}),\n",
       " Prediction(uid='AHP58GS4FXDLJ', iid='B00000J1EQ', r_ui=5.0, est=4.114571428571429, details={'was_impossible': True, 'reason': 'User and/or item is unkown.'}),\n",
       " Prediction(uid='A3MGAVYXXVYOJ3', iid='B00000JI4F', r_ui=5.0, est=4.114571428571429, details={'was_impossible': True, 'reason': 'User and/or item is unkown.'}),\n",
       " Prediction(uid='AASA7WB4OMG3E', iid='B00001P4XA', r_ui=5.0, est=4.114571428571429, details={'was_impossible': True, 'reason': 'User and/or item is unkown.'}),\n",
       " Prediction(uid='A25UZ1X4MF9C8L', iid='B00001WRSJ', r_ui=5.0, est=4.114571428571429, details={'was_impossible': True, 'reason': 'User and/or item is unkown.'}),\n",
       " Prediction(uid='A1M3LCM5NVO8SC', iid='B00001WRSJ', r_ui=5.0, est=4.114571428571429, details={'was_impossible': True, 'reason': 'User and/or item is unkown.'}),\n",
       " Prediction(uid='AA81KFW4X8UIH', iid='0972683275', r_ui=5.0, est=4.114571428571429, details={'was_impossible': True, 'reason': 'User and/or item is unkown.'}),\n",
       " Prediction(uid='A3SFS0VCBV7D0E', iid='B000026D8E', r_ui=5.0, est=4.114571428571429, details={'was_impossible': True, 'reason': 'User and/or item is unkown.'}),\n",
       " Prediction(uid='ATO7H6R5SQKIX', iid='B00000J1QK', r_ui=5.0, est=4.114571428571429, details={'was_impossible': True, 'reason': 'User and/or item is unkown.'}),\n",
       " Prediction(uid='A1TEEBGRM13VJ1', iid='B00000J3UJ', r_ui=1.0, est=4.114571428571429, details={'was_impossible': True, 'reason': 'User and/or item is unkown.'}),\n",
       " Prediction(uid='A5TQA00BUBKZU', iid='B00000DM9W', r_ui=5.0, est=4.114571428571429, details={'was_impossible': True, 'reason': 'User and/or item is unkown.'}),\n",
       " Prediction(uid='AZBELVP7XNQ2W', iid='B00000J061', r_ui=5.0, est=4.114571428571429, details={'was_impossible': True, 'reason': 'User and/or item is unkown.'}),\n",
       " Prediction(uid='A1WHCQQ1016OC4', iid='0972683275', r_ui=5.0, est=4.114571428571429, details={'was_impossible': True, 'reason': 'User and/or item is unkown.'}),\n",
       " Prediction(uid='A3APRCLTH2C7HL', iid='9983891212', r_ui=5.0, est=4.114571428571429, details={'was_impossible': True, 'reason': 'User and/or item is unkown.'}),\n",
       " Prediction(uid='AWQT6S1BYA0YO', iid='1400532655', r_ui=5.0, est=4.114571428571429, details={'was_impossible': True, 'reason': 'User and/or item is unkown.'}),\n",
       " Prediction(uid='A26IMQSA1IHMDL', iid='B00001U0AJ', r_ui=2.0, est=4.114571428571429, details={'was_impossible': True, 'reason': 'User and/or item is unkown.'}),\n",
       " Prediction(uid='A3TYDUWO6PKID6', iid='B000001OM5', r_ui=5.0, est=4.114571428571429, details={'was_impossible': True, 'reason': 'User and/or item is unkown.'}),\n",
       " Prediction(uid='AUZDK9LXMDBOZ', iid='B00000J4GE', r_ui=1.0, est=4.114571428571429, details={'was_impossible': True, 'reason': 'User and/or item is unkown.'}),\n",
       " Prediction(uid='A22C2HG8EGTREJ', iid='B00000JDHV', r_ui=5.0, est=4.114571428571429, details={'was_impossible': True, 'reason': 'User and/or item is unkown.'}),\n",
       " Prediction(uid='A1L87SLZ4BKHHU', iid='B00001WRSJ', r_ui=1.0, est=4.114571428571429, details={'was_impossible': True, 'reason': 'User and/or item is unkown.'}),\n",
       " Prediction(uid='A31EP4GSCUNBTN', iid='B00000JI4F', r_ui=3.0, est=4.114571428571429, details={'was_impossible': True, 'reason': 'User and/or item is unkown.'}),\n",
       " Prediction(uid='AJ3AI41YD0IHK', iid='B00001P4XH', r_ui=5.0, est=4.114571428571429, details={'was_impossible': True, 'reason': 'User and/or item is unkown.'}),\n",
       " Prediction(uid='AMDZ6MZR6CRG9', iid='B00001P505', r_ui=4.0, est=4.114571428571429, details={'was_impossible': True, 'reason': 'User and/or item is unkown.'}),\n",
       " Prediction(uid='A2BG26WQ7YD2CW', iid='B00000K4KH', r_ui=4.0, est=4.114571428571429, details={'was_impossible': True, 'reason': 'User and/or item is unkown.'}),\n",
       " Prediction(uid='A3B20R4ZAH0Y2Y', iid='B00001P4ZR', r_ui=4.0, est=4.114571428571429, details={'was_impossible': True, 'reason': 'User and/or item is unkown.'}),\n",
       " Prediction(uid='AOO41PZSDC7J1', iid='B00001WRSJ', r_ui=5.0, est=4.114571428571429, details={'was_impossible': True, 'reason': 'User and/or item is unkown.'}),\n",
       " Prediction(uid='A1M4TDJ4RJKFPS', iid='B00001W0DD', r_ui=5.0, est=4.114571428571429, details={'was_impossible': True, 'reason': 'User and/or item is unkown.'}),\n",
       " Prediction(uid='A154290YYMKY14', iid='1400501466', r_ui=5.0, est=4.114571428571429, details={'was_impossible': True, 'reason': 'User and/or item is unkown.'}),\n",
       " Prediction(uid='A35DGOWXUZYTWS', iid='0972683275', r_ui=5.0, est=4.114571428571429, details={'was_impossible': True, 'reason': 'User and/or item is unkown.'}),\n",
       " Prediction(uid='AUARCGPW0KDXK', iid='B00001P4ZH', r_ui=5.0, est=4.114571428571429, details={'was_impossible': True, 'reason': 'User and/or item is unkown.'}),\n",
       " Prediction(uid='A25XRRX4S0C7LF', iid='B00001W0DH', r_ui=5.0, est=4.114571428571429, details={'was_impossible': True, 'reason': 'User and/or item is unkown.'}),\n",
       " Prediction(uid='A3QMCI8K2A99E4', iid='1400532655', r_ui=5.0, est=4.114571428571429, details={'was_impossible': True, 'reason': 'User and/or item is unkown.'}),\n",
       " Prediction(uid='A3HGBY7QCHY0BR', iid='B00001WRSJ', r_ui=4.0, est=4.114571428571429, details={'was_impossible': True, 'reason': 'User and/or item is unkown.'}),\n",
       " Prediction(uid='ADSQEUSHTBYQ7', iid='B000001OM5', r_ui=2.0, est=4.114571428571429, details={'was_impossible': True, 'reason': 'User and/or item is unkown.'}),\n",
       " Prediction(uid='A31ELTOSUKIZW7', iid='8862935293', r_ui=2.0, est=4.114571428571429, details={'was_impossible': True, 'reason': 'User and/or item is unkown.'}),\n",
       " Prediction(uid='A3W4UV6IFQVAKV', iid='1400501520', r_ui=5.0, est=4.114571428571429, details={'was_impossible': True, 'reason': 'User and/or item is unkown.'}),\n",
       " Prediction(uid='APJXF6Z4Z61YW', iid='B00001P4ZH', r_ui=5.0, est=4.114571428571429, details={'was_impossible': True, 'reason': 'User and/or item is unkown.'}),\n",
       " Prediction(uid='AUGKVL076AUOR', iid='B00000J3NF', r_ui=5.0, est=4.114571428571429, details={'was_impossible': True, 'reason': 'User and/or item is unkown.'}),\n",
       " Prediction(uid='A3FRLT6Z4EWMVS', iid='B00001ZT4H', r_ui=2.0, est=4.114571428571429, details={'was_impossible': True, 'reason': 'User and/or item is unkown.'}),\n",
       " Prediction(uid='AVEIEHF8KRLS7', iid='140053271X', r_ui=5.0, est=4.114571428571429, details={'was_impossible': True, 'reason': 'User and/or item is unkown.'}),\n",
       " Prediction(uid='AY6RKDK61SZC3', iid='B00000K135', r_ui=5.0, est=4.114571428571429, details={'was_impossible': True, 'reason': 'User and/or item is unkown.'}),\n",
       " Prediction(uid='A2WTZZ1O3XXY5', iid='B00001WRSJ', r_ui=5.0, est=4.114571428571429, details={'was_impossible': True, 'reason': 'User and/or item is unkown.'}),\n",
       " Prediction(uid='AIJWAL4ZGCK2F', iid='0972683275', r_ui=5.0, est=4.114571428571429, details={'was_impossible': True, 'reason': 'User and/or item is unkown.'}),\n",
       " Prediction(uid='A1D0JJRXG5EZ3C', iid='B00001X5AL', r_ui=5.0, est=4.114571428571429, details={'was_impossible': True, 'reason': 'User and/or item is unkown.'}),\n",
       " Prediction(uid='A1O3XZKDXD2LND', iid='8862935293', r_ui=5.0, est=4.114571428571429, details={'was_impossible': True, 'reason': 'User and/or item is unkown.'}),\n",
       " Prediction(uid='A3DKTFCWFNFD21', iid='9966694544', r_ui=5.0, est=4.114571428571429, details={'was_impossible': True, 'reason': 'User and/or item is unkown.'}),\n",
       " Prediction(uid='A1LVOCWC4ZKZ4M', iid='B00001P4ZR', r_ui=5.0, est=4.114571428571429, details={'was_impossible': True, 'reason': 'User and/or item is unkown.'}),\n",
       " Prediction(uid='A3S3MK7WOMFHZP', iid='B00000JFMK', r_ui=5.0, est=4.114571428571429, details={'was_impossible': True, 'reason': 'User and/or item is unkown.'}),\n",
       " Prediction(uid='A1DSHVZ36VE9KS', iid='B00001WRSJ', r_ui=5.0, est=4.114571428571429, details={'was_impossible': True, 'reason': 'User and/or item is unkown.'}),\n",
       " Prediction(uid='A8LX0PN6LAH2S', iid='B00001OWYM', r_ui=1.0, est=4.114571428571429, details={'was_impossible': True, 'reason': 'User and/or item is unkown.'}),\n",
       " Prediction(uid='A30YCWV3I1MRJL', iid='B00001ZWXA', r_ui=4.0, est=4.114571428571429, details={'was_impossible': True, 'reason': 'User and/or item is unkown.'}),\n",
       " Prediction(uid='A82I57PJ4SCC', iid='B00002NDRQ', r_ui=5.0, est=4.114571428571429, details={'was_impossible': True, 'reason': 'User and/or item is unkown.'}),\n",
       " Prediction(uid='ADS8ZCA0NSJMH', iid='B00000JDF6', r_ui=5.0, est=4.114571428571429, details={'was_impossible': True, 'reason': 'User and/or item is unkown.'}),\n",
       " Prediction(uid='A3MPBA6NVIEZ6A', iid='B00000J1V3', r_ui=4.0, est=4.114571428571429, details={'was_impossible': True, 'reason': 'User and/or item is unkown.'}),\n",
       " Prediction(uid='AMVDZC9ZPSZA1', iid='B00001WRSJ', r_ui=5.0, est=4.114571428571429, details={'was_impossible': True, 'reason': 'User and/or item is unkown.'}),\n",
       " Prediction(uid='A212CU7ZC7H14B', iid='B00001OPJZ', r_ui=4.0, est=4.114571428571429, details={'was_impossible': True, 'reason': 'User and/or item is unkown.'}),\n",
       " Prediction(uid='A2Q9CBET12OZKI', iid='B00001P4ZR', r_ui=4.0, est=4.114571428571429, details={'was_impossible': True, 'reason': 'User and/or item is unkown.'}),\n",
       " Prediction(uid='A3NRMLUN74MQXA', iid='B00001WRSJ', r_ui=5.0, est=4.114571428571429, details={'was_impossible': True, 'reason': 'User and/or item is unkown.'}),\n",
       " Prediction(uid='A2PBEP4Q6QYPQ2', iid='B00000JFE3', r_ui=5.0, est=4.114571428571429, details={'was_impossible': True, 'reason': 'User and/or item is unkown.'}),\n",
       " Prediction(uid='A2E4RAMP50WX41', iid='B00000JI4F', r_ui=4.0, est=4.114571428571429, details={'was_impossible': True, 'reason': 'User and/or item is unkown.'}),\n",
       " Prediction(uid='A2MSAT8TDRIT69', iid='B00001OWYM', r_ui=5.0, est=4.114571428571429, details={'was_impossible': True, 'reason': 'User and/or item is unkown.'}),\n",
       " Prediction(uid='A321RGIBIH9B4M', iid='9966694544', r_ui=3.0, est=4.114571428571429, details={'was_impossible': True, 'reason': 'User and/or item is unkown.'}),\n",
       " Prediction(uid='A2TYL50CSBNNXK', iid='B00001WRSJ', r_ui=5.0, est=4.114571428571429, details={'was_impossible': True, 'reason': 'User and/or item is unkown.'}),\n",
       " Prediction(uid='A3VH5BB9P1L2CN', iid='B00000JI4F', r_ui=5.0, est=4.114571428571429, details={'was_impossible': True, 'reason': 'User and/or item is unkown.'}),\n",
       " Prediction(uid='A24XQKM79FYFV0', iid='B00001WRSJ', r_ui=3.0, est=4.114571428571429, details={'was_impossible': True, 'reason': 'User and/or item is unkown.'}),\n",
       " Prediction(uid='A25TMWFMVX5Y1K', iid='B000023VW2', r_ui=3.0, est=4.114571428571429, details={'was_impossible': True, 'reason': 'User and/or item is unkown.'}),\n",
       " Prediction(uid='AE3X2ZX6OLZ13', iid='0972683275', r_ui=5.0, est=4.114571428571429, details={'was_impossible': True, 'reason': 'User and/or item is unkown.'}),\n",
       " Prediction(uid='A2H9S6PTI94ELV', iid='B00000JDF5', r_ui=5.0, est=5, details={'actual_k': 0, 'was_impossible': False}),\n",
       " Prediction(uid='AYH46IDR9V47P', iid='B00001OWYM', r_ui=4.0, est=4.114571428571429, details={'was_impossible': True, 'reason': 'User and/or item is unkown.'}),\n",
       " Prediction(uid='A9A673ZJS3ZGI', iid='B00000K4KH', r_ui=4.0, est=4.114571428571429, details={'was_impossible': True, 'reason': 'User and/or item is unkown.'}),\n",
       " Prediction(uid='A2X3V4PF1HNZX5', iid='B00001WRSJ', r_ui=5.0, est=4.114571428571429, details={'was_impossible': True, 'reason': 'User and/or item is unkown.'}),\n",
       " Prediction(uid='A32RDPAKVCVXTA', iid='B00001ZWXA', r_ui=5.0, est=4.114571428571429, details={'was_impossible': True, 'reason': 'User and/or item is unkown.'}),\n",
       " Prediction(uid='A16X61RLY1YJL7', iid='B00001W0DD', r_ui=5.0, est=4.114571428571429, details={'was_impossible': True, 'reason': 'User and/or item is unkown.'}),\n",
       " Prediction(uid='A3ODENXA668OR', iid='1400501466', r_ui=4.0, est=4.114571428571429, details={'was_impossible': True, 'reason': 'User and/or item is unkown.'}),\n",
       " Prediction(uid='A3P95V8EMCCQVI', iid='B00000JSGF', r_ui=5.0, est=4.114571428571429, details={'was_impossible': True, 'reason': 'User and/or item is unkown.'}),\n",
       " Prediction(uid='ADASFKUOQ451F', iid='B00002EQCW', r_ui=5.0, est=4.114571428571429, details={'was_impossible': True, 'reason': 'User and/or item is unkown.'}),\n",
       " Prediction(uid='AYMJ0CNEMPG48', iid='B00001W0DH', r_ui=5.0, est=4.114571428571429, details={'was_impossible': True, 'reason': 'User and/or item is unkown.'}),\n",
       " Prediction(uid='A1GYV9PJ0U8ERX', iid='B00000J1EQ', r_ui=5.0, est=4.114571428571429, details={'was_impossible': True, 'reason': 'User and/or item is unkown.'}),\n",
       " Prediction(uid='A3DMJ74Q2GG9BX', iid='B00001P4ZH', r_ui=5.0, est=4.114571428571429, details={'was_impossible': True, 'reason': 'User and/or item is unkown.'}),\n",
       " Prediction(uid='ANYUY28INXRTW', iid='B0000228GG', r_ui=4.0, est=4.114571428571429, details={'was_impossible': True, 'reason': 'User and/or item is unkown.'}),\n",
       " Prediction(uid='AH71R7W18VGGB', iid='B00000JCT8', r_ui=4.0, est=4.114571428571429, details={'was_impossible': True, 'reason': 'User and/or item is unkown.'}),\n",
       " Prediction(uid='A2UDCSN51OG5QS', iid='9985511476', r_ui=5.0, est=4.114571428571429, details={'was_impossible': True, 'reason': 'User and/or item is unkown.'}),\n",
       " Prediction(uid='A1B8O4HRL8EDY2', iid='1400532620', r_ui=5.0, est=4.114571428571429, details={'was_impossible': True, 'reason': 'User and/or item is unkown.'}),\n",
       " Prediction(uid='A2KDPUUGZ0U69O', iid='B00000JFIF', r_ui=5.0, est=4.114571428571429, details={'was_impossible': True, 'reason': 'User and/or item is unkown.'}),\n",
       " Prediction(uid='A2L9OKK2KHXKHR', iid='B00000K2YR', r_ui=5.0, est=4.114571428571429, details={'was_impossible': True, 'reason': 'User and/or item is unkown.'}),\n",
       " Prediction(uid='A29CXVK4YQJCVI', iid='1400532655', r_ui=1.0, est=4.114571428571429, details={'was_impossible': True, 'reason': 'User and/or item is unkown.'}),\n",
       " Prediction(uid='A4WMKUUBZAX35', iid='B00001P4XH', r_ui=5.0, est=4.114571428571429, details={'was_impossible': True, 'reason': 'User and/or item is unkown.'}),\n",
       " Prediction(uid='A1P0T2LT65ENSE', iid='1400532655', r_ui=2.0, est=4.114571428571429, details={'was_impossible': True, 'reason': 'User and/or item is unkown.'}),\n",
       " Prediction(uid='A17PJXD7YBSD8F', iid='0972683275', r_ui=5.0, est=4.114571428571429, details={'was_impossible': True, 'reason': 'User and/or item is unkown.'}),\n",
       " Prediction(uid='A18L768JGNLTJC', iid='B00001P4ZR', r_ui=3.0, est=4.114571428571429, details={'was_impossible': True, 'reason': 'User and/or item is unkown.'}),\n",
       " Prediction(uid='A5O0P0JV6PLU3', iid='0972683275', r_ui=5.0, est=4.114571428571429, details={'was_impossible': True, 'reason': 'User and/or item is unkown.'}),\n",
       " Prediction(uid='AP9Z1043ZNN5S', iid='9625993428', r_ui=1.0, est=4.114571428571429, details={'was_impossible': True, 'reason': 'User and/or item is unkown.'}),\n",
       " Prediction(uid='A14PTJ17T1GTCE', iid='B00000JI4F', r_ui=4.0, est=4.114571428571429, details={'was_impossible': True, 'reason': 'User and/or item is unkown.'}),\n",
       " Prediction(uid='A1E9QC9QSIADY0', iid='9984984354', r_ui=5.0, est=4.114571428571429, details={'was_impossible': True, 'reason': 'User and/or item is unkown.'}),\n",
       " Prediction(uid='A3HE8VNBXD2BR0', iid='B00001WRSJ', r_ui=5.0, est=4.114571428571429, details={'was_impossible': True, 'reason': 'User and/or item is unkown.'}),\n",
       " Prediction(uid='A3182RLN09Y7V6', iid='9575871979', r_ui=5.0, est=4.114571428571429, details={'was_impossible': True, 'reason': 'User and/or item is unkown.'}),\n",
       " Prediction(uid='A3O4CQSM06AP8Q', iid='B00001WRSJ', r_ui=5.0, est=4.114571428571429, details={'was_impossible': True, 'reason': 'User and/or item is unkown.'}),\n",
       " Prediction(uid='A3RPB3KAZUV5C7', iid='B00000J3NF', r_ui=5.0, est=4.114571428571429, details={'was_impossible': True, 'reason': 'User and/or item is unkown.'}),\n",
       " Prediction(uid='A1ZENFU4DB38EU', iid='B00001P4ZH', r_ui=4.0, est=4.114571428571429, details={'was_impossible': True, 'reason': 'User and/or item is unkown.'}),\n",
       " Prediction(uid='A1G8EM31OOC32T', iid='B00001WRSJ', r_ui=5.0, est=4.114571428571429, details={'was_impossible': True, 'reason': 'User and/or item is unkown.'}),\n",
       " Prediction(uid='A11NR4AJK9TNQM', iid='0972683275', r_ui=4.0, est=4.114571428571429, details={'was_impossible': True, 'reason': 'User and/or item is unkown.'}),\n",
       " Prediction(uid='AC641L63OT64F', iid='0972683275', r_ui=5.0, est=4.114571428571429, details={'was_impossible': True, 'reason': 'User and/or item is unkown.'}),\n",
       " Prediction(uid='A6C22IH8OAMQE', iid='B00001P4XH', r_ui=5.0, est=4.114571428571429, details={'was_impossible': True, 'reason': 'User and/or item is unkown.'}),\n",
       " Prediction(uid='A3LG6B3PI1GJXZ', iid='9983891212', r_ui=5.0, est=4.114571428571429, details={'was_impossible': True, 'reason': 'User and/or item is unkown.'}),\n",
       " Prediction(uid='A212IGSSR49ERU', iid='B00000J434', r_ui=5.0, est=4.114571428571429, details={'was_impossible': True, 'reason': 'User and/or item is unkown.'}),\n",
       " Prediction(uid='APHEQQGFN0F31', iid='B00001P4ZH', r_ui=4.0, est=4.114571428571429, details={'was_impossible': True, 'reason': 'User and/or item is unkown.'}),\n",
       " Prediction(uid='A320PM9LQ131EO', iid='B00001P4XA', r_ui=5.0, est=4.114571428571429, details={'was_impossible': True, 'reason': 'User and/or item is unkown.'}),\n",
       " Prediction(uid='A80YUMOKXX4ZG', iid='B00002EQCW', r_ui=5.0, est=4.114571428571429, details={'was_impossible': True, 'reason': 'User and/or item is unkown.'}),\n",
       " Prediction(uid='A3IWSCI3KCL041', iid='1400532655', r_ui=4.0, est=4.114571428571429, details={'was_impossible': True, 'reason': 'User and/or item is unkown.'}),\n",
       " Prediction(uid='AKU39VXG6NYRJ', iid='B00000JDF5', r_ui=5.0, est=4.114571428571429, details={'was_impossible': True, 'reason': 'User and/or item is unkown.'}),\n",
       " Prediction(uid='AWVPJDHC29NNK', iid='B00001P4ZH', r_ui=5.0, est=4.114571428571429, details={'was_impossible': True, 'reason': 'User and/or item is unkown.'}),\n",
       " Prediction(uid='A1IE3DQMCUAKBT', iid='B00001P505', r_ui=4.0, est=4.114571428571429, details={'was_impossible': True, 'reason': 'User and/or item is unkown.'}),\n",
       " Prediction(uid='A30263Y3PGF9BW', iid='B00001P4ZH', r_ui=4.0, est=4.114571428571429, details={'was_impossible': True, 'reason': 'User and/or item is unkown.'}),\n",
       " Prediction(uid='A1MYWVAUZ0WKUO', iid='B00000J3NF', r_ui=5.0, est=4.114571428571429, details={'was_impossible': True, 'reason': 'User and/or item is unkown.'}),\n",
       " Prediction(uid='ALHETC5QZ6IGV', iid='B00000J05A', r_ui=3.0, est=4.114571428571429, details={'was_impossible': True, 'reason': 'User and/or item is unkown.'}),\n",
       " Prediction(uid='A3NJEJVW8JNIT6', iid='1400532736', r_ui=5.0, est=4.114571428571429, details={'was_impossible': True, 'reason': 'User and/or item is unkown.'}),\n",
       " Prediction(uid='AZ3DVRQOQMC59', iid='0972683275', r_ui=5.0, est=4.114571428571429, details={'was_impossible': True, 'reason': 'User and/or item is unkown.'}),\n",
       " Prediction(uid='A254AGEWJ5VRFI', iid='B00001WRSJ', r_ui=5.0, est=4.114571428571429, details={'was_impossible': True, 'reason': 'User and/or item is unkown.'}),\n",
       " Prediction(uid='A1HDQGHB96WY3Q', iid='B00000J1GA', r_ui=2.0, est=4.114571428571429, details={'was_impossible': True, 'reason': 'User and/or item is unkown.'}),\n",
       " Prediction(uid='A2IKNHD7GF3YSX', iid='B00001ZWXA', r_ui=5.0, est=4.114571428571429, details={'was_impossible': True, 'reason': 'User and/or item is unkown.'}),\n",
       " Prediction(uid='A1FMPZZL2642ZL', iid='B00001P4ZH', r_ui=5.0, est=4.114571428571429, details={'was_impossible': True, 'reason': 'User and/or item is unkown.'}),\n",
       " Prediction(uid='A3CM26BZSA86XI', iid='B00002EQCW', r_ui=5.0, est=4.114571428571429, details={'was_impossible': True, 'reason': 'User and/or item is unkown.'}),\n",
       " Prediction(uid='A3DUH4DFZR3YEW', iid='B00000JCT8', r_ui=2.0, est=4.114571428571429, details={'was_impossible': True, 'reason': 'User and/or item is unkown.'}),\n",
       " Prediction(uid='A1S7LXQEXMJLBP', iid='B00001P4XA', r_ui=3.0, est=4.114571428571429, details={'was_impossible': True, 'reason': 'User and/or item is unkown.'}),\n",
       " Prediction(uid='A165EVALNKOZB9', iid='B00001W0DD', r_ui=4.0, est=4.114571428571429, details={'was_impossible': True, 'reason': 'User and/or item is unkown.'}),\n",
       " Prediction(uid='A1XGX88KG9OOWY', iid='B00001W0DD', r_ui=4.0, est=4.114571428571429, details={'was_impossible': True, 'reason': 'User and/or item is unkown.'}),\n",
       " Prediction(uid='A3DQ1J53YYIC69', iid='B00001P4ZH', r_ui=5.0, est=4.114571428571429, details={'was_impossible': True, 'reason': 'User and/or item is unkown.'}),\n",
       " Prediction(uid='A12VD8FJ5Z5VWH', iid='B00000JI4F', r_ui=5.0, est=4.114571428571429, details={'was_impossible': True, 'reason': 'User and/or item is unkown.'}),\n",
       " Prediction(uid='A2ZDX9MYUKMCT5', iid='B00001W0DH', r_ui=5.0, est=4.114571428571429, details={'was_impossible': True, 'reason': 'User and/or item is unkown.'}),\n",
       " Prediction(uid='A2OVU5GHC8R0FT', iid='B00001P4XA', r_ui=1.0, est=4.114571428571429, details={'was_impossible': True, 'reason': 'User and/or item is unkown.'}),\n",
       " Prediction(uid='A2MC3G9G7BG1NL', iid='B00000J1TX', r_ui=5.0, est=4.114571428571429, details={'was_impossible': True, 'reason': 'User and/or item is unkown.'}),\n",
       " Prediction(uid='A2CM3WPOK657W5', iid='B000023VW2', r_ui=4.0, est=4.114571428571429, details={'was_impossible': True, 'reason': 'User and/or item is unkown.'}),\n",
       " Prediction(uid='A1WBVTNWH4QPMG', iid='B0000222MY', r_ui=2.0, est=4.114571428571429, details={'was_impossible': True, 'reason': 'User and/or item is unkown.'}),\n",
       " Prediction(uid='A8TGE17IGV90P', iid='B00001WRSJ', r_ui=5.0, est=4.114571428571429, details={'was_impossible': True, 'reason': 'User and/or item is unkown.'}),\n",
       " Prediction(uid='AR1TDNU2ZUGM1', iid='1400501466', r_ui=4.0, est=4.114571428571429, details={'was_impossible': True, 'reason': 'User and/or item is unkown.'}),\n",
       " Prediction(uid='A2YTYI8P1UNCM2', iid='B000001ON6', r_ui=1.0, est=4.114571428571429, details={'was_impossible': True, 'reason': 'User and/or item is unkown.'}),\n",
       " Prediction(uid='A12W4CJSDMKBFS', iid='B00000J1SC', r_ui=3.0, est=4.114571428571429, details={'was_impossible': True, 'reason': 'User and/or item is unkown.'}),\n",
       " Prediction(uid='AFFOUXPFSRW94', iid='9573212919', r_ui=5.0, est=4.114571428571429, details={'was_impossible': True, 'reason': 'User and/or item is unkown.'}),\n",
       " Prediction(uid='A2K0VNVAH1UXG4', iid='B00000JCT8', r_ui=2.0, est=4.114571428571429, details={'was_impossible': True, 'reason': 'User and/or item is unkown.'}),\n",
       " Prediction(uid='A1E2VKUGGGGL9S', iid='B00001W0EQ', r_ui=1.0, est=4.114571428571429, details={'was_impossible': True, 'reason': 'User and/or item is unkown.'}),\n",
       " Prediction(uid='A1L80SGRHZCLL7', iid='B00001WRSJ', r_ui=5.0, est=4.114571428571429, details={'was_impossible': True, 'reason': 'User and/or item is unkown.'}),\n",
       " Prediction(uid='A2FQMQ0IYTYFWV', iid='B00001ZT4H', r_ui=5.0, est=4.114571428571429, details={'was_impossible': True, 'reason': 'User and/or item is unkown.'}),\n",
       " Prediction(uid='A2QO4JQX6MTS75', iid='7214047977', r_ui=4.0, est=4.114571428571429, details={'was_impossible': True, 'reason': 'User and/or item is unkown.'}),\n",
       " Prediction(uid='A1KT8QQ74E3SVQ', iid='B00001WRSJ', r_ui=5.0, est=4.114571428571429, details={'was_impossible': True, 'reason': 'User and/or item is unkown.'}),\n",
       " Prediction(uid='A193VXN4T1XJU', iid='B00001ZWXA', r_ui=5.0, est=4.114571428571429, details={'was_impossible': True, 'reason': 'User and/or item is unkown.'}),\n",
       " Prediction(uid='A146Q4BUHVGJIZ', iid='B00000JMUG', r_ui=4.0, est=4.114571428571429, details={'was_impossible': True, 'reason': 'User and/or item is unkown.'}),\n",
       " Prediction(uid='A2G9NNSRTX8HMW', iid='B000001OMI', r_ui=5.0, est=4.114571428571429, details={'was_impossible': True, 'reason': 'User and/or item is unkown.'}),\n",
       " Prediction(uid='A34ZFS8Z5ISLQR', iid='1400698987', r_ui=2.0, est=4.114571428571429, details={'was_impossible': True, 'reason': 'User and/or item is unkown.'}),\n",
       " Prediction(uid='A17R0NHFFV74KE', iid='B00000JDF5', r_ui=5.0, est=4.114571428571429, details={'was_impossible': True, 'reason': 'User and/or item is unkown.'}),\n",
       " Prediction(uid='A3CDDT0GSY5X2A', iid='B00001P4ZH', r_ui=4.0, est=4.114571428571429, details={'was_impossible': True, 'reason': 'User and/or item is unkown.'}),\n",
       " Prediction(uid='A15CI8I0LRTNG5', iid='B00001ZWXA', r_ui=1.0, est=4.114571428571429, details={'was_impossible': True, 'reason': 'User and/or item is unkown.'}),\n",
       " Prediction(uid='A934OMKR4PISH', iid='B00002JXFH', r_ui=3.0, est=4.114571428571429, details={'was_impossible': True, 'reason': 'User and/or item is unkown.'}),\n",
       " Prediction(uid='A127B7Q6ZPH72Q', iid='B00001OPJZ', r_ui=1.0, est=4.114571428571429, details={'was_impossible': True, 'reason': 'User and/or item is unkown.'}),\n",
       " Prediction(uid='ABIN1JYQ9F3J', iid='1400599997', r_ui=3.0, est=4.114571428571429, details={'was_impossible': True, 'reason': 'User and/or item is unkown.'}),\n",
       " Prediction(uid='A2QTGLNWW1K1JD', iid='B00000J4FS', r_ui=4.0, est=4.114571428571429, details={'was_impossible': True, 'reason': 'User and/or item is unkown.'}),\n",
       " Prediction(uid='A3AHQJOOMXAE7I', iid='B00000JCT8', r_ui=3.0, est=4.114571428571429, details={'was_impossible': True, 'reason': 'User and/or item is unkown.'}),\n",
       " Prediction(uid='AMDZ6MZR6CRG9', iid='B00001P4ZH', r_ui=5.0, est=4.114571428571429, details={'was_impossible': True, 'reason': 'User and/or item is unkown.'}),\n",
       " Prediction(uid='AZ2HXI7PM360N', iid='B00001WRSJ', r_ui=5.0, est=4.114571428571429, details={'was_impossible': True, 'reason': 'User and/or item is unkown.'}),\n",
       " Prediction(uid='A29H22EZ29AUSK', iid='B00001OWYM', r_ui=1.0, est=4.114571428571429, details={'was_impossible': True, 'reason': 'User and/or item is unkown.'}),\n",
       " Prediction(uid='A39W1MVZ5BYPSR', iid='140053271X', r_ui=4.0, est=4.114571428571429, details={'was_impossible': True, 'reason': 'User and/or item is unkown.'}),\n",
       " Prediction(uid='A3P7KN9Z1N5OOR', iid='B00000J1SC', r_ui=5.0, est=4.114571428571429, details={'was_impossible': True, 'reason': 'User and/or item is unkown.'}),\n",
       " Prediction(uid='A2GY2Z4MECGBAK', iid='B00001ZWXA', r_ui=5.0, est=4.114571428571429, details={'was_impossible': True, 'reason': 'User and/or item is unkown.'}),\n",
       " Prediction(uid='A2XEO2W78WS34Z', iid='B00000J1V5', r_ui=5.0, est=4.114571428571429, details={'was_impossible': True, 'reason': 'User and/or item is unkown.'}),\n",
       " Prediction(uid='A35BUCJFT3WHX1', iid='B00000J4GE', r_ui=5.0, est=4.114571428571429, details={'was_impossible': True, 'reason': 'User and/or item is unkown.'}),\n",
       " Prediction(uid='AANEB3ICACKM0', iid='0972683275', r_ui=5.0, est=4.114571428571429, details={'was_impossible': True, 'reason': 'User and/or item is unkown.'}),\n",
       " Prediction(uid='APB9F7PC2NB0K', iid='B00000J0D2', r_ui=5.0, est=4.114571428571429, details={'was_impossible': True, 'reason': 'User and/or item is unkown.'}),\n",
       " Prediction(uid='A7REF5K703ZC9', iid='B00001WRSJ', r_ui=3.0, est=4.114571428571429, details={'was_impossible': True, 'reason': 'User and/or item is unkown.'}),\n",
       " Prediction(uid='A3BE26DJEB5S8Q', iid='B00001P505', r_ui=4.0, est=4.114571428571429, details={'was_impossible': True, 'reason': 'User and/or item is unkown.'}),\n",
       " Prediction(uid='A324AV52X68JI5', iid='B00000J1V5', r_ui=2.0, est=4.114571428571429, details={'was_impossible': True, 'reason': 'User and/or item is unkown.'}),\n",
       " Prediction(uid='A3GQRV3U0075RW', iid='B00000JYWQ', r_ui=2.0, est=4.114571428571429, details={'was_impossible': True, 'reason': 'User and/or item is unkown.'}),\n",
       " Prediction(uid='AHGNQEKEW83JG', iid='B00000K13A', r_ui=5.0, est=4.114571428571429, details={'was_impossible': True, 'reason': 'User and/or item is unkown.'}),\n",
       " Prediction(uid='A9GQAUE87NOBM', iid='B00001WRSJ', r_ui=5.0, est=4.114571428571429, details={'was_impossible': True, 'reason': 'User and/or item is unkown.'}),\n",
       " Prediction(uid='A1VP3V36TO3IJN', iid='B00000J1F3', r_ui=1.0, est=4.114571428571429, details={'was_impossible': True, 'reason': 'User and/or item is unkown.'}),\n",
       " Prediction(uid='A3IJMGVOWPBCPJ', iid='B000023VW2', r_ui=3.0, est=4.114571428571429, details={'was_impossible': True, 'reason': 'User and/or item is unkown.'}),\n",
       " Prediction(uid='A143ONYTRZY3SF', iid='0972683275', r_ui=5.0, est=4.114571428571429, details={'was_impossible': True, 'reason': 'User and/or item is unkown.'}),\n",
       " Prediction(uid='A1JRWN50MPG8EH', iid='0972683275', r_ui=2.0, est=4.114571428571429, details={'was_impossible': True, 'reason': 'User and/or item is unkown.'}),\n",
       " Prediction(uid='A1R8PMKGSQFD5N', iid='B00001WRSJ', r_ui=5.0, est=4.114571428571429, details={'was_impossible': True, 'reason': 'User and/or item is unkown.'}),\n",
       " Prediction(uid='A1N2YDAHTH2U5R', iid='B00001ZWXA', r_ui=5.0, est=4.114571428571429, details={'was_impossible': True, 'reason': 'User and/or item is unkown.'}),\n",
       " Prediction(uid='AFPSH1HQ49M3', iid='B00001P4ZR', r_ui=5.0, est=4.114571428571429, details={'was_impossible': True, 'reason': 'User and/or item is unkown.'}),\n",
       " Prediction(uid='A3G0X875ONLY58', iid='B00000J1V5', r_ui=5.0, est=4.114571428571429, details={'was_impossible': True, 'reason': 'User and/or item is unkown.'}),\n",
       " Prediction(uid='A3DJ8DG0WPNXQA', iid='B00000J0D2', r_ui=1.0, est=4.114571428571429, details={'was_impossible': True, 'reason': 'User and/or item is unkown.'}),\n",
       " Prediction(uid='AHIMHJ4XUTGIM', iid='1400532655', r_ui=5.0, est=4.114571428571429, details={'was_impossible': True, 'reason': 'User and/or item is unkown.'}),\n",
       " Prediction(uid='A27WOJ6K428QIP', iid='B00000DM9W', r_ui=4.0, est=4.114571428571429, details={'was_impossible': True, 'reason': 'User and/or item is unkown.'}),\n",
       " Prediction(uid='A3FBBCQSIZCMB1', iid='B000023VW2', r_ui=5.0, est=4.114571428571429, details={'was_impossible': True, 'reason': 'User and/or item is unkown.'}),\n",
       " Prediction(uid='A1QSR3HQCW3YI1', iid='B00001P4ZH', r_ui=5.0, est=4.114571428571429, details={'was_impossible': True, 'reason': 'User and/or item is unkown.'}),\n",
       " Prediction(uid='A1507NTRNWS2KE', iid='B00000J3UJ', r_ui=5.0, est=4.114571428571429, details={'was_impossible': True, 'reason': 'User and/or item is unkown.'}),\n",
       " Prediction(uid='AGZ1HS2KBSFRG', iid='0972683275', r_ui=4.0, est=4.114571428571429, details={'was_impossible': True, 'reason': 'User and/or item is unkown.'}),\n",
       " Prediction(uid='A2HFQT18K5HNZH', iid='B00001P4ZR', r_ui=5.0, est=4.114571428571429, details={'was_impossible': True, 'reason': 'User and/or item is unkown.'}),\n",
       " Prediction(uid='A1MJMYLRTZ76ZX', iid='B000021YU8', r_ui=5.0, est=4.666666666666667, details={'actual_k': 0, 'was_impossible': False}),\n",
       " Prediction(uid='A39XC9ME16JRK5', iid='B000023VW2', r_ui=4.0, est=4.114571428571429, details={'was_impossible': True, 'reason': 'User and/or item is unkown.'}),\n",
       " Prediction(uid='A2K0JL9L38MK8L', iid='1400501520', r_ui=5.0, est=4.114571428571429, details={'was_impossible': True, 'reason': 'User and/or item is unkown.'}),\n",
       " Prediction(uid='A3SXRG9TFJ41ZF', iid='B00001ZWXA', r_ui=5.0, est=4.114571428571429, details={'was_impossible': True, 'reason': 'User and/or item is unkown.'}),\n",
       " Prediction(uid='A3BYU08QSEJME5', iid='B000023VUL', r_ui=2.0, est=4.114571428571429, details={'was_impossible': True, 'reason': 'User and/or item is unkown.'}),\n",
       " Prediction(uid='A1ZD73MDX4POAY', iid='0972683275', r_ui=5.0, est=4.114571428571429, details={'was_impossible': True, 'reason': 'User and/or item is unkown.'}),\n",
       " Prediction(uid='AGX8IMCPITRRO', iid='B00002EQCW', r_ui=5.0, est=4.114571428571429, details={'was_impossible': True, 'reason': 'User and/or item is unkown.'}),\n",
       " Prediction(uid='A2ERFC79MRZV8H', iid='B00001P4ZR', r_ui=4.0, est=4.114571428571429, details={'was_impossible': True, 'reason': 'User and/or item is unkown.'}),\n",
       " Prediction(uid='A2IBUZECB34CMS', iid='B00001P4XH', r_ui=5.0, est=4.114571428571429, details={'was_impossible': True, 'reason': 'User and/or item is unkown.'}),\n",
       " Prediction(uid='A2PXO42GVOVZGM', iid='B00000DM9W', r_ui=5.0, est=4.114571428571429, details={'was_impossible': True, 'reason': 'User and/or item is unkown.'}),\n",
       " Prediction(uid='A2CAFCESCL3KWL', iid='B000001OM5', r_ui=3.0, est=4.114571428571429, details={'was_impossible': True, 'reason': 'User and/or item is unkown.'}),\n",
       " Prediction(uid='A2WGGA6W04PU3W', iid='140053271X', r_ui=3.0, est=4.114571428571429, details={'was_impossible': True, 'reason': 'User and/or item is unkown.'}),\n",
       " Prediction(uid='A2M53WGLXK4N3E', iid='B00001P4XH', r_ui=4.0, est=4.114571428571429, details={'was_impossible': True, 'reason': 'User and/or item is unkown.'}),\n",
       " Prediction(uid='A3DDBALZLWE0XV', iid='B00000J1U8', r_ui=5.0, est=4.114571428571429, details={'was_impossible': True, 'reason': 'User and/or item is unkown.'}),\n",
       " Prediction(uid='A2MTJ7G6L2G1Z4', iid='B00000J08Q', r_ui=5.0, est=4.114571428571429, details={'was_impossible': True, 'reason': 'User and/or item is unkown.'}),\n",
       " Prediction(uid='A8IOSRUDTZARD', iid='B00001WRSJ', r_ui=5.0, est=4.114571428571429, details={'was_impossible': True, 'reason': 'User and/or item is unkown.'}),\n",
       " Prediction(uid='A1G9L2BT6DTE95', iid='B00001W0DG', r_ui=3.0, est=3.0, details={'actual_k': 0, 'was_impossible': False}),\n",
       " Prediction(uid='A2Z56YRJX4NY59', iid='B00000JI4F', r_ui=5.0, est=4.114571428571429, details={'was_impossible': True, 'reason': 'User and/or item is unkown.'}),\n",
       " Prediction(uid='A1CQ0H3D50C3SD', iid='B00001WRSJ', r_ui=5.0, est=4.114571428571429, details={'was_impossible': True, 'reason': 'User and/or item is unkown.'}),\n",
       " Prediction(uid='A3TYSC724J8DOT', iid='B00001P4XH', r_ui=3.0, est=4.114571428571429, details={'was_impossible': True, 'reason': 'User and/or item is unkown.'}),\n",
       " Prediction(uid='A1T6RI3FZ6KXES', iid='1400532655', r_ui=3.0, est=4.114571428571429, details={'was_impossible': True, 'reason': 'User and/or item is unkown.'}),\n",
       " Prediction(uid='A2T4RPHVVIO0BV', iid='B00000J1EP', r_ui=5.0, est=4.114571428571429, details={'was_impossible': True, 'reason': 'User and/or item is unkown.'}),\n",
       " Prediction(uid='A2FKF76DIFRATY', iid='B000001OM5', r_ui=5.0, est=4.114571428571429, details={'was_impossible': True, 'reason': 'User and/or item is unkown.'}),\n",
       " Prediction(uid='AL725TBR1I3BZ', iid='B00001WRSJ', r_ui=5.0, est=4.114571428571429, details={'was_impossible': True, 'reason': 'User and/or item is unkown.'}),\n",
       " Prediction(uid='A1QGTR9ZT689Z5', iid='B00002EQCW', r_ui=3.0, est=4.114571428571429, details={'was_impossible': True, 'reason': 'User and/or item is unkown.'}),\n",
       " Prediction(uid='AOOOS7GKZN04E', iid='B00001WRSJ', r_ui=5.0, est=4.114571428571429, details={'was_impossible': True, 'reason': 'User and/or item is unkown.'}),\n",
       " Prediction(uid='A1WYOITCEMFM9G', iid='B000001OM4', r_ui=3.0, est=4.114571428571429, details={'was_impossible': True, 'reason': 'User and/or item is unkown.'}),\n",
       " Prediction(uid='ACGC5PM64LQ8Y', iid='1400532620', r_ui=2.0, est=4.114571428571429, details={'was_impossible': True, 'reason': 'User and/or item is unkown.'}),\n",
       " Prediction(uid='A23LG3G7EBG2HU', iid='B00001P4ZH', r_ui=4.0, est=4.114571428571429, details={'was_impossible': True, 'reason': 'User and/or item is unkown.'}),\n",
       " Prediction(uid='A2C1XRZGFO8WK9', iid='B00001P4ZR', r_ui=4.0, est=4.114571428571429, details={'was_impossible': True, 'reason': 'User and/or item is unkown.'}),\n",
       " Prediction(uid='A1SF0589DRG9AD', iid='B00000JDF5', r_ui=4.0, est=4.114571428571429, details={'was_impossible': True, 'reason': 'User and/or item is unkown.'}),\n",
       " Prediction(uid='A3L6M7UZEIW7SX', iid='B00001P4XA', r_ui=4.0, est=4.114571428571429, details={'was_impossible': True, 'reason': 'User and/or item is unkown.'}),\n",
       " Prediction(uid='A9OFHGOE0RWW4', iid='B00000K2YR', r_ui=5.0, est=4.114571428571429, details={'was_impossible': True, 'reason': 'User and/or item is unkown.'}),\n",
       " Prediction(uid='A1LKRGU650HBXW', iid='B00000J1GA', r_ui=5.0, est=4.114571428571429, details={'was_impossible': True, 'reason': 'User and/or item is unkown.'}),\n",
       " Prediction(uid='A3GN3YF8UF7XWO', iid='1400501466', r_ui=3.0, est=4.114571428571429, details={'was_impossible': True, 'reason': 'User and/or item is unkown.'}),\n",
       " Prediction(uid='A2DCF8TGPLIO8Z', iid='B00000K135', r_ui=5.0, est=4.114571428571429, details={'was_impossible': True, 'reason': 'User and/or item is unkown.'}),\n",
       " Prediction(uid='A2IKVBAII6DEU2', iid='B00001WRSJ', r_ui=4.0, est=4.114571428571429, details={'was_impossible': True, 'reason': 'User and/or item is unkown.'}),\n",
       " Prediction(uid='A1T48JL1SP0PVK', iid='B00001P4ZR', r_ui=5.0, est=4.114571428571429, details={'was_impossible': True, 'reason': 'User and/or item is unkown.'}),\n",
       " Prediction(uid='A2TUJJN2C8ND38', iid='B00001W0EQ', r_ui=1.0, est=4.114571428571429, details={'was_impossible': True, 'reason': 'User and/or item is unkown.'}),\n",
       " Prediction(uid='A31X7N03BZ3242', iid='B00001P4ZH', r_ui=5.0, est=4.114571428571429, details={'was_impossible': True, 'reason': 'User and/or item is unkown.'}),\n",
       " Prediction(uid='A2SCZ5QHCDZLXQ', iid='140053271X', r_ui=5.0, est=4.114571428571429, details={'was_impossible': True, 'reason': 'User and/or item is unkown.'}),\n",
       " Prediction(uid='A2JYDSFIMD0ZKK', iid='B00000J1EQ', r_ui=4.0, est=4.114571428571429, details={'was_impossible': True, 'reason': 'User and/or item is unkown.'}),\n",
       " Prediction(uid='A354G99EYVQQ43', iid='B00000J061', r_ui=5.0, est=4.114571428571429, details={'was_impossible': True, 'reason': 'User and/or item is unkown.'}),\n",
       " Prediction(uid='A33TFX6J52RLYP', iid='0972683275', r_ui=4.0, est=4.114571428571429, details={'was_impossible': True, 'reason': 'User and/or item is unkown.'}),\n",
       " Prediction(uid='A1R4I72MWUNOBK', iid='1400532655', r_ui=4.0, est=4.114571428571429, details={'was_impossible': True, 'reason': 'User and/or item is unkown.'}),\n",
       " Prediction(uid='A2OLJ3NHHOHCHQ', iid='B00001OWYM', r_ui=2.0, est=4.114571428571429, details={'was_impossible': True, 'reason': 'User and/or item is unkown.'}),\n",
       " Prediction(uid='A391VSDDL0NTF4', iid='B00001P4ZH', r_ui=3.0, est=4.114571428571429, details={'was_impossible': True, 'reason': 'User and/or item is unkown.'}),\n",
       " Prediction(uid='A1PC9JGLGGTINN', iid='B00000J0D8', r_ui=5.0, est=4.114571428571429, details={'was_impossible': True, 'reason': 'User and/or item is unkown.'}),\n",
       " Prediction(uid='AD0OZJHU0V2JY', iid='B00001P505', r_ui=5.0, est=4.114571428571429, details={'was_impossible': True, 'reason': 'User and/or item is unkown.'}),\n",
       " Prediction(uid='AG0N0Z56V0NSP', iid='B00001P4ZH', r_ui=5.0, est=4.114571428571429, details={'was_impossible': True, 'reason': 'User and/or item is unkown.'}),\n",
       " Prediction(uid='A2BWX768VJ5QFS', iid='0972683275', r_ui=5.0, est=4.114571428571429, details={'was_impossible': True, 'reason': 'User and/or item is unkown.'}),\n",
       " Prediction(uid='A2T2NVQ14BBBAS', iid='B00001P4ZH', r_ui=5.0, est=4.114571428571429, details={'was_impossible': True, 'reason': 'User and/or item is unkown.'}),\n",
       " Prediction(uid='A3C88JS4VHQS4R', iid='B00000K2YR', r_ui=5.0, est=4.114571428571429, details={'was_impossible': True, 'reason': 'User and/or item is unkown.'}),\n",
       " Prediction(uid='AV7O8VWFULN5M', iid='B00001WRSJ', r_ui=5.0, est=4.114571428571429, details={'was_impossible': True, 'reason': 'User and/or item is unkown.'}),\n",
       " Prediction(uid='A3KBOI34DFVF9W', iid='B00000JCTO', r_ui=3.0, est=4.114571428571429, details={'was_impossible': True, 'reason': 'User and/or item is unkown.'}),\n",
       " Prediction(uid='A2EUR74UXH5PQW', iid='B00001QEMF', r_ui=5.0, est=4.114571428571429, details={'was_impossible': True, 'reason': 'User and/or item is unkown.'}),\n",
       " Prediction(uid='A10OJS6YZNT0L6', iid='B00000J0D8', r_ui=4.0, est=4.114571428571429, details={'was_impossible': True, 'reason': 'User and/or item is unkown.'}),\n",
       " Prediction(uid='A3KYJZW29L5R2R', iid='B00000J1QK', r_ui=1.0, est=4.114571428571429, details={'was_impossible': True, 'reason': 'User and/or item is unkown.'}),\n",
       " Prediction(uid='A1ZG9WMHNMGY62', iid='B00002JXFH', r_ui=5.0, est=4.114571428571429, details={'was_impossible': True, 'reason': 'User and/or item is unkown.'}),\n",
       " Prediction(uid='A1M120X6FJZELI', iid='B00000J1F3', r_ui=5.0, est=4.114571428571429, details={'was_impossible': True, 'reason': 'User and/or item is unkown.'}),\n",
       " Prediction(uid='A25ZUDAMGR49MA', iid='B00001WRSJ', r_ui=5.0, est=4.114571428571429, details={'was_impossible': True, 'reason': 'User and/or item is unkown.'}),\n",
       " Prediction(uid='A33M6XO4NOJ6ZO', iid='B00000K13L', r_ui=5.0, est=4.114571428571429, details={'was_impossible': True, 'reason': 'User and/or item is unkown.'}),\n",
       " Prediction(uid='A2ZDADVIBD50VB', iid='B00001P4XH', r_ui=1.0, est=4.114571428571429, details={'was_impossible': True, 'reason': 'User and/or item is unkown.'}),\n",
       " Prediction(uid='A12G7V6HEAQ9JK', iid='B00001P4XH', r_ui=5.0, est=4.114571428571429, details={'was_impossible': True, 'reason': 'User and/or item is unkown.'}),\n",
       " Prediction(uid='A1ATU31M76UR5L', iid='B00002N7FQ', r_ui=5.0, est=4.114571428571429, details={'was_impossible': True, 'reason': 'User and/or item is unkown.'}),\n",
       " Prediction(uid='AYBP700B8IW2B', iid='B00001WRSJ', r_ui=5.0, est=4.114571428571429, details={'was_impossible': True, 'reason': 'User and/or item is unkown.'}),\n",
       " Prediction(uid='A23WG9V6BVB8LG', iid='6301977173', r_ui=5.0, est=4.114571428571429, details={'was_impossible': True, 'reason': 'User and/or item is unkown.'}),\n",
       " Prediction(uid='A2FCRM6LKL8NOP', iid='9984984354', r_ui=1.0, est=4.114571428571429, details={'was_impossible': True, 'reason': 'User and/or item is unkown.'}),\n",
       " Prediction(uid='A2X5ELC3F4SBIJ', iid='1400532655', r_ui=5.0, est=4.114571428571429, details={'was_impossible': True, 'reason': 'User and/or item is unkown.'}),\n",
       " Prediction(uid='AMHUWD15MY93I', iid='B00001WRSJ', r_ui=4.0, est=4.114571428571429, details={'was_impossible': True, 'reason': 'User and/or item is unkown.'}),\n",
       " Prediction(uid='A2EF2TV9PUIKOO', iid='B00000JI4F', r_ui=3.0, est=4.114571428571429, details={'was_impossible': True, 'reason': 'User and/or item is unkown.'}),\n",
       " Prediction(uid='A2EP0WOZE8HCJX', iid='B00000J6WY', r_ui=1.0, est=4.114571428571429, details={'was_impossible': True, 'reason': 'User and/or item is unkown.'}),\n",
       " Prediction(uid='AX0R8HTL4RTB7', iid='B00001P4ZH', r_ui=4.0, est=4.114571428571429, details={'was_impossible': True, 'reason': 'User and/or item is unkown.'}),\n",
       " Prediction(uid='A2I4J1INDYAIZL', iid='B00001W0EQ', r_ui=3.0, est=4.114571428571429, details={'was_impossible': True, 'reason': 'User and/or item is unkown.'}),\n",
       " Prediction(uid='AQ9O2ACE8C9WS', iid='B00001P4ZH', r_ui=4.0, est=4.114571428571429, details={'was_impossible': True, 'reason': 'User and/or item is unkown.'}),\n",
       " Prediction(uid='A2Q5WQXFRN46IF', iid='B00001W0EQ', r_ui=5.0, est=4.114571428571429, details={'was_impossible': True, 'reason': 'User and/or item is unkown.'}),\n",
       " Prediction(uid='A226SYGFHI52GG', iid='140053271X', r_ui=1.0, est=4.114571428571429, details={'was_impossible': True, 'reason': 'User and/or item is unkown.'}),\n",
       " Prediction(uid='A2NCAXX6Z5REP5', iid='1400532655', r_ui=5.0, est=4.114571428571429, details={'was_impossible': True, 'reason': 'User and/or item is unkown.'}),\n",
       " Prediction(uid='A3OKH5G69MS8D9', iid='1400599997', r_ui=3.0, est=4.114571428571429, details={'was_impossible': True, 'reason': 'User and/or item is unkown.'}),\n",
       " Prediction(uid='A10B82IVNNAG6X', iid='B00001WRSJ', r_ui=5.0, est=4.114571428571429, details={'was_impossible': True, 'reason': 'User and/or item is unkown.'}),\n",
       " Prediction(uid='A31DKOZO5EYEUR', iid='B00001ZWXA', r_ui=5.0, est=4.114571428571429, details={'was_impossible': True, 'reason': 'User and/or item is unkown.'}),\n",
       " Prediction(uid='A2GT2US8WM8L6Z', iid='B00000JD34', r_ui=3.0, est=4.114571428571429, details={'was_impossible': True, 'reason': 'User and/or item is unkown.'}),\n",
       " Prediction(uid='A24WJXSXVNB9KF', iid='B00001P4XH', r_ui=5.0, est=4.114571428571429, details={'was_impossible': True, 'reason': 'User and/or item is unkown.'}),\n",
       " Prediction(uid='A36ZD92R4M2NZ9', iid='0972683275', r_ui=1.0, est=4.114571428571429, details={'was_impossible': True, 'reason': 'User and/or item is unkown.'}),\n",
       " Prediction(uid='A1D5HLEQD8J0MI', iid='B00001P4ZH', r_ui=4.0, est=4.114571428571429, details={'was_impossible': True, 'reason': 'User and/or item is unkown.'}),\n",
       " Prediction(uid='A1IKYURNYPSD02', iid='B00001P4ZH', r_ui=3.0, est=4.114571428571429, details={'was_impossible': True, 'reason': 'User and/or item is unkown.'}),\n",
       " Prediction(uid='A1NZH03BZTSPS2', iid='1400532620', r_ui=4.0, est=4.114571428571429, details={'was_impossible': True, 'reason': 'User and/or item is unkown.'}),\n",
       " Prediction(uid='A3VYTHBU44KOWE', iid='B00001W0DI', r_ui=3.0, est=4.114571428571429, details={'was_impossible': True, 'reason': 'User and/or item is unkown.'}),\n",
       " Prediction(uid='A1A629D04LRFUD', iid='B00001P4ZH', r_ui=5.0, est=4.114571428571429, details={'was_impossible': True, 'reason': 'User and/or item is unkown.'}),\n",
       " Prediction(uid='A39FX5FTFK8LK8', iid='1400599997', r_ui=5.0, est=5, details={'actual_k': 0, 'was_impossible': False}),\n",
       " Prediction(uid='A13GLI8HMWNCEV', iid='9888002198', r_ui=2.0, est=4.114571428571429, details={'was_impossible': True, 'reason': 'User and/or item is unkown.'}),\n",
       " Prediction(uid='A2X7MHF5YF0XZN', iid='B00001WRSJ', r_ui=1.0, est=4.114571428571429, details={'was_impossible': True, 'reason': 'User and/or item is unkown.'}),\n",
       " Prediction(uid='A17VI5JKD3AQFH', iid='B00000JHWX', r_ui=5.0, est=4.114571428571429, details={'was_impossible': True, 'reason': 'User and/or item is unkown.'}),\n",
       " Prediction(uid='A197WNUX98X8HN', iid='B00001P4ZH', r_ui=5.0, est=4.114571428571429, details={'was_impossible': True, 'reason': 'User and/or item is unkown.'}),\n",
       " Prediction(uid='AKKBYT8HGON3C', iid='1400532655', r_ui=4.0, est=4.114571428571429, details={'was_impossible': True, 'reason': 'User and/or item is unkown.'}),\n",
       " Prediction(uid='A18NLG35HLRE41', iid='140053271X', r_ui=1.0, est=4.114571428571429, details={'was_impossible': True, 'reason': 'User and/or item is unkown.'}),\n",
       " Prediction(uid='A1MQ96EGV5CRC5', iid='B00001P4XA', r_ui=2.0, est=4.114571428571429, details={'was_impossible': True, 'reason': 'User and/or item is unkown.'}),\n",
       " Prediction(uid='A1HYHOBZPJKY1I', iid='0972683275', r_ui=5.0, est=4.114571428571429, details={'was_impossible': True, 'reason': 'User and/or item is unkown.'}),\n",
       " Prediction(uid='A1LAQBND3AZD73', iid='B00001P4ZH', r_ui=5.0, est=4.114571428571429, details={'was_impossible': True, 'reason': 'User and/or item is unkown.'}),\n",
       " Prediction(uid='A13831TMEGELTX', iid='B00001P4XH', r_ui=1.0, est=4.114571428571429, details={'was_impossible': True, 'reason': 'User and/or item is unkown.'}),\n",
       " Prediction(uid='AR9M6ADI1BMJ9', iid='1400501776', r_ui=4.0, est=4.114571428571429, details={'was_impossible': True, 'reason': 'User and/or item is unkown.'}),\n",
       " Prediction(uid='A4Z8LCQ6RSFTR', iid='B00000J1EQ', r_ui=5.0, est=2.0, details={'actual_k': 0, 'was_impossible': False}),\n",
       " Prediction(uid='A20XXTXWF2TCPY', iid='0972683275', r_ui=5.0, est=4.114571428571429, details={'was_impossible': True, 'reason': 'User and/or item is unkown.'}),\n",
       " Prediction(uid='A2XRYB7Y7M12RK', iid='B00000J1V5', r_ui=4.0, est=4.114571428571429, details={'was_impossible': True, 'reason': 'User and/or item is unkown.'}),\n",
       " Prediction(uid='A5S3T3BYBNMYO', iid='B00000DM9W', r_ui=5.0, est=4.114571428571429, details={'was_impossible': True, 'reason': 'User and/or item is unkown.'}),\n",
       " Prediction(uid='A1XIJOAN8M6YK7', iid='B00000JYWQ', r_ui=4.0, est=4.114571428571429, details={'was_impossible': True, 'reason': 'User and/or item is unkown.'}),\n",
       " Prediction(uid='A2U1BXKAHF0AFF', iid='B00001P4ZH', r_ui=5.0, est=4.114571428571429, details={'was_impossible': True, 'reason': 'User and/or item is unkown.'}),\n",
       " Prediction(uid='A1H2BMTLJEXKUS', iid='9573212919', r_ui=3.0, est=4.114571428571429, details={'was_impossible': True, 'reason': 'User and/or item is unkown.'}),\n",
       " Prediction(uid='A1OG07N4UW1W', iid='B00002EQCW', r_ui=4.0, est=4.114571428571429, details={'was_impossible': True, 'reason': 'User and/or item is unkown.'}),\n",
       " Prediction(uid='A39TSOLD1HTE8M', iid='B00001P4ZH', r_ui=5.0, est=4.114571428571429, details={'was_impossible': True, 'reason': 'User and/or item is unkown.'}),\n",
       " Prediction(uid='A3IBGS3MVB7G6U', iid='B00000J061', r_ui=5.0, est=4.0, details={'actual_k': 0, 'was_impossible': False}),\n",
       " Prediction(uid='ASLITWH5GJ1T5', iid='B00001WRSJ', r_ui=5.0, est=4.114571428571429, details={'was_impossible': True, 'reason': 'User and/or item is unkown.'}),\n",
       " Prediction(uid='A322ARXVXLTMAL', iid='B00001P4ZH', r_ui=3.0, est=4.114571428571429, details={'was_impossible': True, 'reason': 'User and/or item is unkown.'}),\n",
       " Prediction(uid='A1V3PP5AP7ZS3W', iid='B00001WRSJ', r_ui=5.0, est=4.114571428571429, details={'was_impossible': True, 'reason': 'User and/or item is unkown.'}),\n",
       " Prediction(uid='ARW6TM5P7PRPJ', iid='1400532655', r_ui=5.0, est=4.114571428571429, details={'was_impossible': True, 'reason': 'User and/or item is unkown.'}),\n",
       " Prediction(uid='A39B0SSJKCS0WY', iid='B00000JD34', r_ui=5.0, est=4.114571428571429, details={'was_impossible': True, 'reason': 'User and/or item is unkown.'}),\n",
       " Prediction(uid='A1KRHIY9NDPFCD', iid='0972683275', r_ui=5.0, est=4.114571428571429, details={'was_impossible': True, 'reason': 'User and/or item is unkown.'}),\n",
       " Prediction(uid='A1C5RD4QUK5530', iid='B00000JDF5', r_ui=5.0, est=4.114571428571429, details={'was_impossible': True, 'reason': 'User and/or item is unkown.'}),\n",
       " Prediction(uid='AJC1GSPFHZJ3E', iid='B00000JI4F', r_ui=5.0, est=4.114571428571429, details={'was_impossible': True, 'reason': 'User and/or item is unkown.'}),\n",
       " Prediction(uid='AYEYYPJTVXRHJ', iid='B000021YU8', r_ui=5.0, est=4.114571428571429, details={'was_impossible': True, 'reason': 'User and/or item is unkown.'}),\n",
       " Prediction(uid='A2KOJ0BUVBBI8L', iid='B00000J6WY', r_ui=3.0, est=4.114571428571429, details={'was_impossible': True, 'reason': 'User and/or item is unkown.'}),\n",
       " Prediction(uid='A1U39WQKVEFIGS', iid='B00001WRSJ', r_ui=5.0, est=4.114571428571429, details={'was_impossible': True, 'reason': 'User and/or item is unkown.'}),\n",
       " Prediction(uid='A29U0J04IR21AW', iid='B00000J4FS', r_ui=3.0, est=4.114571428571429, details={'was_impossible': True, 'reason': 'User and/or item is unkown.'}),\n",
       " Prediction(uid='A1UEM6KIJ1TA4H', iid='B00001WRSJ', r_ui=5.0, est=4.114571428571429, details={'was_impossible': True, 'reason': 'User and/or item is unkown.'}),\n",
       " Prediction(uid='A2PNFOSCMJ24KT', iid='B00001P4XA', r_ui=1.0, est=4.114571428571429, details={'was_impossible': True, 'reason': 'User and/or item is unkown.'}),\n",
       " Prediction(uid='A29GWIJL72GXXZ', iid='B00000K13A', r_ui=4.0, est=4.114571428571429, details={'was_impossible': True, 'reason': 'User and/or item is unkown.'}),\n",
       " Prediction(uid='A2KIKZ86G7A4Y7', iid='B00001P4ZR', r_ui=2.0, est=4.114571428571429, details={'was_impossible': True, 'reason': 'User and/or item is unkown.'}),\n",
       " Prediction(uid='ARUJMHCVUC0KY', iid='1400501776', r_ui=5.0, est=4.114571428571429, details={'was_impossible': True, 'reason': 'User and/or item is unkown.'}),\n",
       " Prediction(uid='A33BT5EP6NODVQ', iid='1400599997', r_ui=5.0, est=4.114571428571429, details={'was_impossible': True, 'reason': 'User and/or item is unkown.'}),\n",
       " Prediction(uid='ADOVMN6Q4AI8T', iid='1400532655', r_ui=5.0, est=4.114571428571429, details={'was_impossible': True, 'reason': 'User and/or item is unkown.'}),\n",
       " Prediction(uid='A2LR9WP2JGDT8E', iid='0972683275', r_ui=2.0, est=4.114571428571429, details={'was_impossible': True, 'reason': 'User and/or item is unkown.'}),\n",
       " Prediction(uid='A3E28650JHMNLW', iid='1400532736', r_ui=5.0, est=4.114571428571429, details={'was_impossible': True, 'reason': 'User and/or item is unkown.'}),\n",
       " Prediction(uid='A2ZM9BGE3K3SY2', iid='B00001U0AJ', r_ui=4.0, est=4.114571428571429, details={'was_impossible': True, 'reason': 'User and/or item is unkown.'}),\n",
       " Prediction(uid='A2ISPN7R10S8SU', iid='B00000J1SC', r_ui=5.0, est=4.114571428571429, details={'was_impossible': True, 'reason': 'User and/or item is unkown.'}),\n",
       " Prediction(uid='A14VTHAEWQ4EHH', iid='B000026D8E', r_ui=1.0, est=4.114571428571429, details={'was_impossible': True, 'reason': 'User and/or item is unkown.'}),\n",
       " Prediction(uid='A15QE56OD514MU', iid='B00001P4ZH', r_ui=4.0, est=4.114571428571429, details={'was_impossible': True, 'reason': 'User and/or item is unkown.'}),\n",
       " Prediction(uid='A2G1VSFQA58KE6', iid='B00000J434', r_ui=5.0, est=4.114571428571429, details={'was_impossible': True, 'reason': 'User and/or item is unkown.'}),\n",
       " Prediction(uid='A101N04POEB9CL', iid='B00001P4ZH', r_ui=4.0, est=4.114571428571429, details={'was_impossible': True, 'reason': 'User and/or item is unkown.'}),\n",
       " Prediction(uid='A1QTL602RD7LV7', iid='B00001WRSJ', r_ui=5.0, est=4.114571428571429, details={'was_impossible': True, 'reason': 'User and/or item is unkown.'}),\n",
       " Prediction(uid='A324TKA3UXI33H', iid='B00001P4ZH', r_ui=5.0, est=4.114571428571429, details={'was_impossible': True, 'reason': 'User and/or item is unkown.'}),\n",
       " Prediction(uid='ASUTI8X39OEF6', iid='1400501520', r_ui=5.0, est=4.114571428571429, details={'was_impossible': True, 'reason': 'User and/or item is unkown.'}),\n",
       " Prediction(uid='A1FI33BIAC1SRF', iid='B00000J1EP', r_ui=5.0, est=4.114571428571429, details={'was_impossible': True, 'reason': 'User and/or item is unkown.'}),\n",
       " Prediction(uid='A11CGMG2L6JEFT', iid='B00001P4XA', r_ui=4.0, est=4.114571428571429, details={'was_impossible': True, 'reason': 'User and/or item is unkown.'}),\n",
       " Prediction(uid='A3BV3YMY9S395J', iid='B00001P505', r_ui=2.0, est=4.114571428571429, details={'was_impossible': True, 'reason': 'User and/or item is unkown.'}),\n",
       " Prediction(uid='A75LZVXSBIW81', iid='9573212919', r_ui=5.0, est=4.114571428571429, details={'was_impossible': True, 'reason': 'User and/or item is unkown.'}),\n",
       " Prediction(uid='A19YQ7WLQFWOR3', iid='1400532655', r_ui=4.0, est=4.114571428571429, details={'was_impossible': True, 'reason': 'User and/or item is unkown.'}),\n",
       " Prediction(uid='A3J2N1QSTRTKS6', iid='B00001P4ZH', r_ui=5.0, est=4.114571428571429, details={'was_impossible': True, 'reason': 'User and/or item is unkown.'}),\n",
       " Prediction(uid='A1SF9FS1O6FKF8', iid='B00000J1GA', r_ui=5.0, est=4.114571428571429, details={'was_impossible': True, 'reason': 'User and/or item is unkown.'}),\n",
       " Prediction(uid='A1S2BTVDZV4PYD', iid='1400532736', r_ui=4.0, est=5, details={'actual_k': 0, 'was_impossible': False}),\n",
       " Prediction(uid='A28FQESE0JHE1V', iid='B000023VW2', r_ui=4.0, est=4.114571428571429, details={'was_impossible': True, 'reason': 'User and/or item is unkown.'}),\n",
       " Prediction(uid='A2HFOS6ULS3BQJ', iid='B000001OM5', r_ui=3.0, est=4.114571428571429, details={'was_impossible': True, 'reason': 'User and/or item is unkown.'}),\n",
       " Prediction(uid='A14IQLYZ7N9SWM', iid='B00001P4ZH', r_ui=5.0, est=4.114571428571429, details={'was_impossible': True, 'reason': 'User and/or item is unkown.'}),\n",
       " Prediction(uid='AU2KDGQQKTCJ0', iid='0972683275', r_ui=5.0, est=4.114571428571429, details={'was_impossible': True, 'reason': 'User and/or item is unkown.'}),\n",
       " Prediction(uid='A1W3D42N13EYZ7', iid='B00000J061', r_ui=2.0, est=4.114571428571429, details={'was_impossible': True, 'reason': 'User and/or item is unkown.'}),\n",
       " Prediction(uid='A1CJTG0URUS91K', iid='B00001WRSJ', r_ui=5.0, est=4.114571428571429, details={'was_impossible': True, 'reason': 'User and/or item is unkown.'}),\n",
       " Prediction(uid='A38D3QN2N8BXXK', iid='9573212919', r_ui=4.0, est=4.114571428571429, details={'was_impossible': True, 'reason': 'User and/or item is unkown.'}),\n",
       " Prediction(uid='A2TQUTVIN89ZXD', iid='B00001P4ZH', r_ui=5.0, est=4.114571428571429, details={'was_impossible': True, 'reason': 'User and/or item is unkown.'}),\n",
       " Prediction(uid='A1WUPCB9SXEKSG', iid='B00001WRSJ', r_ui=4.0, est=4.114571428571429, details={'was_impossible': True, 'reason': 'User and/or item is unkown.'}),\n",
       " Prediction(uid='A2FE6WD4QSBDMM', iid='B00001OWYM', r_ui=5.0, est=4.114571428571429, details={'was_impossible': True, 'reason': 'User and/or item is unkown.'}),\n",
       " Prediction(uid='A1UJB03PXSGQON', iid='B00001WRSJ', r_ui=5.0, est=4.114571428571429, details={'was_impossible': True, 'reason': 'User and/or item is unkown.'}),\n",
       " Prediction(uid='A1KTN3D5LRIBFA', iid='B00000JDF5', r_ui=5.0, est=4.114571428571429, details={'was_impossible': True, 'reason': 'User and/or item is unkown.'}),\n",
       " Prediction(uid='AQDP0LRIFC9UU', iid='B00000J1F3', r_ui=3.0, est=4.114571428571429, details={'was_impossible': True, 'reason': 'User and/or item is unkown.'}),\n",
       " Prediction(uid='A32OGIZOO8YA4E', iid='B00001X5AL', r_ui=2.0, est=4.114571428571429, details={'was_impossible': True, 'reason': 'User and/or item is unkown.'}),\n",
       " Prediction(uid='AIJHFSUFADJG6', iid='B00001P4ZH', r_ui=5.0, est=4.114571428571429, details={'was_impossible': True, 'reason': 'User and/or item is unkown.'}),\n",
       " Prediction(uid='A139ZT26UI0Y3Q', iid='B00000J1V5', r_ui=5.0, est=4.114571428571429, details={'was_impossible': True, 'reason': 'User and/or item is unkown.'}),\n",
       " Prediction(uid='A2SDNOYCI5XZ1W', iid='B000021YUO', r_ui=5.0, est=4.114571428571429, details={'was_impossible': True, 'reason': 'User and/or item is unkown.'}),\n",
       " Prediction(uid='AQ4T1DUD9HI3F', iid='B00001P4ZH', r_ui=5.0, est=4.114571428571429, details={'was_impossible': True, 'reason': 'User and/or item is unkown.'}),\n",
       " Prediction(uid='AA24EMYGLX593', iid='0972683275', r_ui=5.0, est=4.114571428571429, details={'was_impossible': True, 'reason': 'User and/or item is unkown.'}),\n",
       " Prediction(uid='A1ZDN7MJ2WI2XT', iid='B00000JFE3', r_ui=1.0, est=4.114571428571429, details={'was_impossible': True, 'reason': 'User and/or item is unkown.'}),\n",
       " Prediction(uid='A2JY120A19TPIJ', iid='B00000K4KH', r_ui=4.0, est=4.114571428571429, details={'was_impossible': True, 'reason': 'User and/or item is unkown.'}),\n",
       " Prediction(uid='A1K426K52L1SKV', iid='B00001W0DI', r_ui=5.0, est=4.114571428571429, details={'was_impossible': True, 'reason': 'User and/or item is unkown.'}),\n",
       " Prediction(uid='AK7SOQGBI6K8P', iid='B00001ZWXA', r_ui=5.0, est=4.114571428571429, details={'was_impossible': True, 'reason': 'User and/or item is unkown.'}),\n",
       " Prediction(uid='APFUPC3VKD9D8', iid='B00000DM9W', r_ui=5.0, est=4.114571428571429, details={'was_impossible': True, 'reason': 'User and/or item is unkown.'}),\n",
       " Prediction(uid='ABKSTEJVAZZXY', iid='B00000JCTO', r_ui=5.0, est=4.114571428571429, details={'was_impossible': True, 'reason': 'User and/or item is unkown.'}),\n",
       " Prediction(uid='A1FUKG29OEUCX9', iid='8862935293', r_ui=5.0, est=4.114571428571429, details={'was_impossible': True, 'reason': 'User and/or item is unkown.'}),\n",
       " Prediction(uid='A1SV0FYYADJLPG', iid='B00001WRSJ', r_ui=5.0, est=4.114571428571429, details={'was_impossible': True, 'reason': 'User and/or item is unkown.'}),\n",
       " Prediction(uid='A2JHT2LTGZ6XE6', iid='B00000JFMK', r_ui=5.0, est=4.114571428571429, details={'was_impossible': True, 'reason': 'User and/or item is unkown.'}),\n",
       " Prediction(uid='A3PN94Q3V3YDV4', iid='B000028F42', r_ui=1.0, est=4.114571428571429, details={'was_impossible': True, 'reason': 'User and/or item is unkown.'}),\n",
       " Prediction(uid='A2SOGGC3XTX2Y1', iid='B00000DM9W', r_ui=5.0, est=4.114571428571429, details={'was_impossible': True, 'reason': 'User and/or item is unkown.'}),\n",
       " Prediction(uid='A3OYBTP0TDS9VW', iid='B0000222MY', r_ui=2.0, est=4.114571428571429, details={'was_impossible': True, 'reason': 'User and/or item is unkown.'}),\n",
       " Prediction(uid='A3G15U1ZTHYX56', iid='B00000JD34', r_ui=1.0, est=4.114571428571429, details={'was_impossible': True, 'reason': 'User and/or item is unkown.'}),\n",
       " Prediction(uid='A2MLXORECPVV23', iid='B00000JDF5', r_ui=3.0, est=4.114571428571429, details={'was_impossible': True, 'reason': 'User and/or item is unkown.'}),\n",
       " Prediction(uid='A1UCG05D0YE3F', iid='B00000J1V3', r_ui=5.0, est=4.114571428571429, details={'was_impossible': True, 'reason': 'User and/or item is unkown.'}),\n",
       " Prediction(uid='A1D74C1HK63UR9', iid='B00002CEX9', r_ui=1.0, est=4.114571428571429, details={'was_impossible': True, 'reason': 'User and/or item is unkown.'}),\n",
       " Prediction(uid='A3K68R7OFWZ718', iid='B00000JDHV', r_ui=5.0, est=4.114571428571429, details={'was_impossible': True, 'reason': 'User and/or item is unkown.'}),\n",
       " Prediction(uid='A2ZWLZHPWI6JGG', iid='B00000J4GE', r_ui=4.0, est=4.114571428571429, details={'was_impossible': True, 'reason': 'User and/or item is unkown.'}),\n",
       " Prediction(uid='A2UDBHS7MZP06L', iid='B00000J0D5', r_ui=1.0, est=4.114571428571429, details={'was_impossible': True, 'reason': 'User and/or item is unkown.'}),\n",
       " Prediction(uid='A3OE1Z3XJGW5W1', iid='B00000J1F3', r_ui=5.0, est=4.114571428571429, details={'was_impossible': True, 'reason': 'User and/or item is unkown.'}),\n",
       " Prediction(uid='A2M02RSOGQ62IT', iid='B00001P4ZH', r_ui=4.0, est=4.114571428571429, details={'was_impossible': True, 'reason': 'User and/or item is unkown.'}),\n",
       " Prediction(uid='A3RMXJ4XMR56GB', iid='B00001P4ZH', r_ui=4.0, est=4.114571428571429, details={'was_impossible': True, 'reason': 'User and/or item is unkown.'}),\n",
       " Prediction(uid='A3FR9FK47CMIR9', iid='B00000J1QK', r_ui=1.0, est=4.114571428571429, details={'was_impossible': True, 'reason': 'User and/or item is unkown.'}),\n",
       " Prediction(uid='A3RYV3RDOLA97F', iid='B00000JFE3', r_ui=2.0, est=4.114571428571429, details={'was_impossible': True, 'reason': 'User and/or item is unkown.'}),\n",
       " Prediction(uid='A1CWJIHXZJB0XU', iid='0972683275', r_ui=5.0, est=4.114571428571429, details={'was_impossible': True, 'reason': 'User and/or item is unkown.'}),\n",
       " Prediction(uid='AJS0MSS9BZ5XU', iid='B00000J1QK', r_ui=4.0, est=4.114571428571429, details={'was_impossible': True, 'reason': 'User and/or item is unkown.'}),\n",
       " Prediction(uid='A42YG78Z1GBBD', iid='1400599997', r_ui=5.0, est=4.114571428571429, details={'was_impossible': True, 'reason': 'User and/or item is unkown.'}),\n",
       " Prediction(uid='A3GADYS3CGOV43', iid='1400698987', r_ui=5.0, est=4.114571428571429, details={'was_impossible': True, 'reason': 'User and/or item is unkown.'}),\n",
       " Prediction(uid='A3N1X8EM3G0ODT', iid='B00000JCTO', r_ui=5.0, est=4.114571428571429, details={'was_impossible': True, 'reason': 'User and/or item is unkown.'}),\n",
       " Prediction(uid='A2U00MW8SAX2N', iid='B00002CEX9', r_ui=4.0, est=4.114571428571429, details={'was_impossible': True, 'reason': 'User and/or item is unkown.'}),\n",
       " Prediction(uid='A273U6RA2OT6NK', iid='140053271X', r_ui=2.0, est=4.114571428571429, details={'was_impossible': True, 'reason': 'User and/or item is unkown.'}),\n",
       " Prediction(uid='A1ZKSCA711X3Q7', iid='1400532736', r_ui=2.0, est=4.114571428571429, details={'was_impossible': True, 'reason': 'User and/or item is unkown.'}),\n",
       " Prediction(uid='A39K7R4Y1ZD5SZ', iid='140053271X', r_ui=5.0, est=3.0, details={'actual_k': 0, 'was_impossible': False}),\n",
       " Prediction(uid='A1UYX3I9YWDB0C', iid='B00000JI4F', r_ui=5.0, est=4.114571428571429, details={'was_impossible': True, 'reason': 'User and/or item is unkown.'}),\n",
       " Prediction(uid='A14NSELR34WBZE', iid='B00000JI4F', r_ui=3.0, est=4.114571428571429, details={'was_impossible': True, 'reason': 'User and/or item is unkown.'}),\n",
       " Prediction(uid='AEAO0HQ7CHM4D', iid='B00000J061', r_ui=5.0, est=5, details={'actual_k': 0, 'was_impossible': False}),\n",
       " Prediction(uid='A2HLOKNGHKDVL0', iid='B00001P4ZH', r_ui=1.0, est=4.114571428571429, details={'was_impossible': True, 'reason': 'User and/or item is unkown.'}),\n",
       " Prediction(uid='A2SNY7XYIFGP54', iid='B00000JSGF', r_ui=4.0, est=4.114571428571429, details={'was_impossible': True, 'reason': 'User and/or item is unkown.'}),\n",
       " Prediction(uid='A2YY4HK2BC0IAX', iid='B000023VUL', r_ui=3.0, est=4.114571428571429, details={'was_impossible': True, 'reason': 'User and/or item is unkown.'}),\n",
       " Prediction(uid='A1OFIP9PEMFF4X', iid='B00001P4ZR', r_ui=5.0, est=4.114571428571429, details={'was_impossible': True, 'reason': 'User and/or item is unkown.'}),\n",
       " Prediction(uid='A2ZBW1GVAXYGNI', iid='0972683275', r_ui=1.0, est=4.114571428571429, details={'was_impossible': True, 'reason': 'User and/or item is unkown.'}),\n",
       " Prediction(uid='A1FWVB6RO56K8E', iid='B00001P4ZH', r_ui=5.0, est=4.114571428571429, details={'was_impossible': True, 'reason': 'User and/or item is unkown.'}),\n",
       " Prediction(uid='A3QOT94SZSRAPA', iid='B00001P4ZH', r_ui=5.0, est=4.114571428571429, details={'was_impossible': True, 'reason': 'User and/or item is unkown.'}),\n",
       " Prediction(uid='A3MN5FMEN5Y4R9', iid='B00001W0DG', r_ui=2.0, est=4.114571428571429, details={'was_impossible': True, 'reason': 'User and/or item is unkown.'}),\n",
       " Prediction(uid='A2U1OA15BA9SYF', iid='B00000K2YR', r_ui=5.0, est=4.114571428571429, details={'was_impossible': True, 'reason': 'User and/or item is unkown.'}),\n",
       " Prediction(uid='A3O04WF9J04C6P', iid='B00000JDF5', r_ui=4.0, est=4.114571428571429, details={'was_impossible': True, 'reason': 'User and/or item is unkown.'}),\n",
       " Prediction(uid='A3CFH7IL0GL187', iid='B00000J1SC', r_ui=4.0, est=4.114571428571429, details={'was_impossible': True, 'reason': 'User and/or item is unkown.'}),\n",
       " Prediction(uid='A1AC0ZLC6SVXSD', iid='B00000J4FS', r_ui=5.0, est=3.5, details={'actual_k': 0, 'was_impossible': False}),\n",
       " Prediction(uid='A8F60KBQL22LT', iid='B00001WRSJ', r_ui=4.0, est=4.114571428571429, details={'was_impossible': True, 'reason': 'User and/or item is unkown.'}),\n",
       " Prediction(uid='A2WE8VVT8JZOCI', iid='B00001WRSJ', r_ui=4.0, est=4.114571428571429, details={'was_impossible': True, 'reason': 'User and/or item is unkown.'}),\n",
       " Prediction(uid='A1T4U9CAQ25IBR', iid='B00001WRSJ', r_ui=5.0, est=4.114571428571429, details={'was_impossible': True, 'reason': 'User and/or item is unkown.'}),\n",
       " Prediction(uid='A2VHOE5RVFXJ3S', iid='B00000JI4F', r_ui=1.0, est=4.114571428571429, details={'was_impossible': True, 'reason': 'User and/or item is unkown.'}),\n",
       " Prediction(uid='A3AVF2XDSXYT77', iid='B00002EQCW', r_ui=5.0, est=4.114571428571429, details={'was_impossible': True, 'reason': 'User and/or item is unkown.'}),\n",
       " Prediction(uid='A1EA08F54PPH4O', iid='B00000DM9W', r_ui=4.0, est=4.114571428571429, details={'was_impossible': True, 'reason': 'User and/or item is unkown.'}),\n",
       " Prediction(uid='AUUTH6K51OCWO', iid='B00000J1QK', r_ui=1.0, est=4.114571428571429, details={'was_impossible': True, 'reason': 'User and/or item is unkown.'}),\n",
       " Prediction(uid='A1D3X5TOQV6FQ7', iid='1400532655', r_ui=4.0, est=4.114571428571429, details={'was_impossible': True, 'reason': 'User and/or item is unkown.'}),\n",
       " Prediction(uid='A2CUOPUW0ZDPW6', iid='B00001P4ZH', r_ui=3.0, est=4.114571428571429, details={'was_impossible': True, 'reason': 'User and/or item is unkown.'}),\n",
       " Prediction(uid='AV8NTE7E9QGJX', iid='B0000228GF', r_ui=4.0, est=4.114571428571429, details={'was_impossible': True, 'reason': 'User and/or item is unkown.'}),\n",
       " Prediction(uid='A2OGRLHZZWF411', iid='0972683275', r_ui=5.0, est=4.114571428571429, details={'was_impossible': True, 'reason': 'User and/or item is unkown.'}),\n",
       " Prediction(uid='AY9FGFRX2H492', iid='B00000JFMK', r_ui=2.0, est=4.114571428571429, details={'was_impossible': True, 'reason': 'User and/or item is unkown.'}),\n",
       " Prediction(uid='A22V3DIEBWPRKW', iid='B00001P4ZH', r_ui=5.0, est=5, details={'actual_k': 0, 'was_impossible': False}),\n",
       " Prediction(uid='A3NNSGACHBM7MK', iid='0972683275', r_ui=4.0, est=4.114571428571429, details={'was_impossible': True, 'reason': 'User and/or item is unkown.'}),\n",
       " Prediction(uid='APUTJBAVLA8UF', iid='B00000J0D2', r_ui=5.0, est=4.114571428571429, details={'was_impossible': True, 'reason': 'User and/or item is unkown.'}),\n",
       " Prediction(uid='A1A8G3JJM7OTKS', iid='B00000JBAT', r_ui=5.0, est=4.114571428571429, details={'was_impossible': True, 'reason': 'User and/or item is unkown.'}),\n",
       " Prediction(uid='A6BWWNC2077SQ', iid='B00001ZWXA', r_ui=1.0, est=4.114571428571429, details={'was_impossible': True, 'reason': 'User and/or item is unkown.'}),\n",
       " Prediction(uid='A21M8JLOHG5Q6V', iid='B00001P4XH', r_ui=5.0, est=4.114571428571429, details={'was_impossible': True, 'reason': 'User and/or item is unkown.'}),\n",
       " Prediction(uid='A263OQLPKEXPF1', iid='0972683275', r_ui=5.0, est=4.114571428571429, details={'was_impossible': True, 'reason': 'User and/or item is unkown.'}),\n",
       " Prediction(uid='A1BRRHSNSYDV9J', iid='B00000J1V5', r_ui=3.0, est=4.114571428571429, details={'was_impossible': True, 'reason': 'User and/or item is unkown.'}),\n",
       " Prediction(uid='AGDJFPY7X0AAA', iid='1400599997', r_ui=5.0, est=4.114571428571429, details={'was_impossible': True, 'reason': 'User and/or item is unkown.'}),\n",
       " Prediction(uid='A1BH3RSR2J0TF7', iid='B00000J061', r_ui=5.0, est=4.114571428571429, details={'was_impossible': True, 'reason': 'User and/or item is unkown.'}),\n",
       " Prediction(uid='AULKRRY1VAG7I', iid='B00000JBPB', r_ui=5.0, est=4.114571428571429, details={'was_impossible': True, 'reason': 'User and/or item is unkown.'}),\n",
       " Prediction(uid='A3E2GOV4OPCJ7I', iid='B00000JBAT', r_ui=1.0, est=4.114571428571429, details={'was_impossible': True, 'reason': 'User and/or item is unkown.'}),\n",
       " Prediction(uid='A24DBK597LTN4J', iid='B00001P4ZH', r_ui=5.0, est=4.114571428571429, details={'was_impossible': True, 'reason': 'User and/or item is unkown.'}),\n",
       " Prediction(uid='ASEBZLBIKPK3L', iid='B00001OWYM', r_ui=5.0, est=4.114571428571429, details={'was_impossible': True, 'reason': 'User and/or item is unkown.'}),\n",
       " Prediction(uid='A3PSGJREO570YX', iid='B00000J3UJ', r_ui=5.0, est=4.114571428571429, details={'was_impossible': True, 'reason': 'User and/or item is unkown.'}),\n",
       " Prediction(uid='A3385X0HT3IWE6', iid='B00001WRSJ', r_ui=5.0, est=4.114571428571429, details={'was_impossible': True, 'reason': 'User and/or item is unkown.'}),\n",
       " Prediction(uid='A1CV2FPP3G8Z87', iid='B00001WRSJ', r_ui=4.0, est=4.114571428571429, details={'was_impossible': True, 'reason': 'User and/or item is unkown.'}),\n",
       " Prediction(uid='AK3VALQTT1EWO', iid='B00000JBAT', r_ui=1.0, est=4.114571428571429, details={'was_impossible': True, 'reason': 'User and/or item is unkown.'}),\n",
       " Prediction(uid='A1ACOHCWUB5KQ7', iid='1400501466', r_ui=3.0, est=4.114571428571429, details={'was_impossible': True, 'reason': 'User and/or item is unkown.'}),\n",
       " Prediction(uid='AN560AP1HH0U1', iid='B00000K135', r_ui=5.0, est=4.0, details={'actual_k': 0, 'was_impossible': False}),\n",
       " Prediction(uid='AZHUZ7JBPSEQS', iid='B00001QEMF', r_ui=5.0, est=4.114571428571429, details={'was_impossible': True, 'reason': 'User and/or item is unkown.'}),\n",
       " Prediction(uid='A2K64Z8VT8T43Z', iid='B00001W0EQ', r_ui=1.0, est=4.114571428571429, details={'was_impossible': True, 'reason': 'User and/or item is unkown.'}),\n",
       " Prediction(uid='AQL8WBA5SW0I5', iid='B00001W0DI', r_ui=5.0, est=4.114571428571429, details={'was_impossible': True, 'reason': 'User and/or item is unkown.'}),\n",
       " Prediction(uid='A27ZS6Q5890YX4', iid='B00000J1V5', r_ui=5.0, est=4.114571428571429, details={'was_impossible': True, 'reason': 'User and/or item is unkown.'}),\n",
       " Prediction(uid='A3C48830QTTJ23', iid='B00001WRSJ', r_ui=3.0, est=4.114571428571429, details={'was_impossible': True, 'reason': 'User and/or item is unkown.'}),\n",
       " Prediction(uid='A31B03FF0SCORD', iid='B00000JFIF', r_ui=5.0, est=4.114571428571429, details={'was_impossible': True, 'reason': 'User and/or item is unkown.'}),\n",
       " Prediction(uid='A3ADONAT9GL89I', iid='9985511476', r_ui=5.0, est=4.114571428571429, details={'was_impossible': True, 'reason': 'User and/or item is unkown.'}),\n",
       " Prediction(uid='ASNJFFJ0QRE1S', iid='B00001W0DD', r_ui=2.0, est=5, details={'actual_k': 0, 'was_impossible': False}),\n",
       " Prediction(uid='A2KJV9P3Q523CI', iid='B00001P4ZH', r_ui=5.0, est=4.114571428571429, details={'was_impossible': True, 'reason': 'User and/or item is unkown.'}),\n",
       " Prediction(uid='A3PGAICBV5O6QR', iid='B00001OWYM', r_ui=2.0, est=4.114571428571429, details={'was_impossible': True, 'reason': 'User and/or item is unkown.'}),\n",
       " Prediction(uid='A267K0XQUET2UV', iid='B000021YU8', r_ui=4.0, est=4.114571428571429, details={'was_impossible': True, 'reason': 'User and/or item is unkown.'}),\n",
       " Prediction(uid='A2IZRPCRB1AUR5', iid='B00000J061', r_ui=4.0, est=4.114571428571429, details={'was_impossible': True, 'reason': 'User and/or item is unkown.'}),\n",
       " Prediction(uid='A1NKLCCK5NLARO', iid='B00001P4XA', r_ui=3.0, est=4.114571428571429, details={'was_impossible': True, 'reason': 'User and/or item is unkown.'}),\n",
       " Prediction(uid='A3LJQ7ZE3LUPS2', iid='9575871979', r_ui=5.0, est=4.114571428571429, details={'was_impossible': True, 'reason': 'User and/or item is unkown.'}),\n",
       " Prediction(uid='A2A9NAOV2RMPQ8', iid='B00000J1V3', r_ui=5.0, est=4.114571428571429, details={'was_impossible': True, 'reason': 'User and/or item is unkown.'}),\n",
       " Prediction(uid='A27WRC8KIFFTWS', iid='0972683275', r_ui=5.0, est=4.114571428571429, details={'was_impossible': True, 'reason': 'User and/or item is unkown.'}),\n",
       " Prediction(uid='A1O3AM1QV10Z60', iid='B00000JDF5', r_ui=5.0, est=4.114571428571429, details={'was_impossible': True, 'reason': 'User and/or item is unkown.'}),\n",
       " Prediction(uid='A1D9U33OHQTO18', iid='B000023VW2', r_ui=5.0, est=4.114571428571429, details={'was_impossible': True, 'reason': 'User and/or item is unkown.'}),\n",
       " Prediction(uid='A1HKHX9E58OSLX', iid='1400501466', r_ui=4.0, est=4.114571428571429, details={'was_impossible': True, 'reason': 'User and/or item is unkown.'}),\n",
       " Prediction(uid='A3QVRCSJ9TXYM7', iid='B00001WRSJ', r_ui=5.0, est=4.114571428571429, details={'was_impossible': True, 'reason': 'User and/or item is unkown.'}),\n",
       " Prediction(uid='A13OMZX5UHL36K', iid='B00000JDF6', r_ui=5.0, est=4.114571428571429, details={'was_impossible': True, 'reason': 'User and/or item is unkown.'}),\n",
       " Prediction(uid='A1FIR4LBQA39YR', iid='1400501776', r_ui=4.0, est=4.114571428571429, details={'was_impossible': True, 'reason': 'User and/or item is unkown.'}),\n",
       " Prediction(uid='A27L1LCXW07XZM', iid='B00001WRSJ', r_ui=5.0, est=4.114571428571429, details={'was_impossible': True, 'reason': 'User and/or item is unkown.'}),\n",
       " Prediction(uid='A11P6Z60TCZUXR', iid='B00001ZWXA', r_ui=5.0, est=4.114571428571429, details={'was_impossible': True, 'reason': 'User and/or item is unkown.'}),\n",
       " Prediction(uid='A1F4EPSDCON365', iid='B00001OWYM', r_ui=5.0, est=4.114571428571429, details={'was_impossible': True, 'reason': 'User and/or item is unkown.'}),\n",
       " Prediction(uid='A1CBB9RZI7Z1NM', iid='B00000J1U8', r_ui=5.0, est=4.114571428571429, details={'was_impossible': True, 'reason': 'User and/or item is unkown.'}),\n",
       " Prediction(uid='A32M8M41NU39TI', iid='B00000K135', r_ui=5.0, est=4.114571428571429, details={'was_impossible': True, 'reason': 'User and/or item is unkown.'}),\n",
       " Prediction(uid='AED5QZGBW0A38', iid='B00002EQCW', r_ui=5.0, est=4.114571428571429, details={'was_impossible': True, 'reason': 'User and/or item is unkown.'}),\n",
       " Prediction(uid='A32S5XUIJ6NEX0', iid='B00000JDF5', r_ui=5.0, est=4.114571428571429, details={'was_impossible': True, 'reason': 'User and/or item is unkown.'}),\n",
       " Prediction(uid='A2TOLOXNDL6SKR', iid='B00001ZWXA', r_ui=5.0, est=4.114571428571429, details={'was_impossible': True, 'reason': 'User and/or item is unkown.'}),\n",
       " Prediction(uid='A2IOMV16QO0DHN', iid='B00000DM9W', r_ui=5.0, est=4.114571428571429, details={'was_impossible': True, 'reason': 'User and/or item is unkown.'}),\n",
       " Prediction(uid='A1F8DK0Z5FJK5U', iid='B00001OWYM', r_ui=5.0, est=4.114571428571429, details={'was_impossible': True, 'reason': 'User and/or item is unkown.'}),\n",
       " Prediction(uid='A29B7JF50M0TPQ', iid='B00001P4ZH', r_ui=3.0, est=4.114571428571429, details={'was_impossible': True, 'reason': 'User and/or item is unkown.'}),\n",
       " Prediction(uid='A3C1D7ZJM4UG7J', iid='B00001W0DH', r_ui=4.0, est=4.114571428571429, details={'was_impossible': True, 'reason': 'User and/or item is unkown.'}),\n",
       " Prediction(uid='AJ8EI4DBZSNU5', iid='B00001W0DI', r_ui=4.0, est=4.114571428571429, details={'was_impossible': True, 'reason': 'User and/or item is unkown.'}),\n",
       " Prediction(uid='A18EJJ76JMBYGQ', iid='B00000J0D8', r_ui=1.0, est=4.114571428571429, details={'was_impossible': True, 'reason': 'User and/or item is unkown.'}),\n",
       " Prediction(uid='A2SJVK0G3KLIB1', iid='B00001W0EQ', r_ui=5.0, est=4.114571428571429, details={'was_impossible': True, 'reason': 'User and/or item is unkown.'}),\n",
       " Prediction(uid='A3MXYE2LUQ523F', iid='B00000J1U8', r_ui=5.0, est=4.114571428571429, details={'was_impossible': True, 'reason': 'User and/or item is unkown.'}),\n",
       " Prediction(uid='A25HHXQSRN4BD0', iid='B00000J1GA', r_ui=4.0, est=4.114571428571429, details={'was_impossible': True, 'reason': 'User and/or item is unkown.'}),\n",
       " Prediction(uid='A1B0M8C254WM7X', iid='6301977173', r_ui=5.0, est=4.114571428571429, details={'was_impossible': True, 'reason': 'User and/or item is unkown.'}),\n",
       " Prediction(uid='A3L94UTOBVTEE0', iid='B00002EQCS', r_ui=5.0, est=4.114571428571429, details={'was_impossible': True, 'reason': 'User and/or item is unkown.'}),\n",
       " Prediction(uid='A1S9FWW6CR9TUO', iid='B000023VW2', r_ui=5.0, est=4.114571428571429, details={'was_impossible': True, 'reason': 'User and/or item is unkown.'}),\n",
       " Prediction(uid='A2KALEDR6LY961', iid='B00001P4ZH', r_ui=4.0, est=4.114571428571429, details={'was_impossible': True, 'reason': 'User and/or item is unkown.'}),\n",
       " Prediction(uid='A1027EV8A9PV1O', iid='B00001P4ZH', r_ui=5.0, est=4.114571428571429, details={'was_impossible': True, 'reason': 'User and/or item is unkown.'}),\n",
       " Prediction(uid='A28GBOJ4J3ICI', iid='B00001WRSJ', r_ui=5.0, est=4.114571428571429, details={'was_impossible': True, 'reason': 'User and/or item is unkown.'}),\n",
       " Prediction(uid='AQT8N7YPGVWCM', iid='B00000J3UJ', r_ui=1.0, est=4.114571428571429, details={'was_impossible': True, 'reason': 'User and/or item is unkown.'}),\n",
       " Prediction(uid='A195BG3CUCC4CO', iid='B00000K2YR', r_ui=4.0, est=4.114571428571429, details={'was_impossible': True, 'reason': 'User and/or item is unkown.'}),\n",
       " Prediction(uid='A18D4SEWBREZ29', iid='B00000J1UQ', r_ui=5.0, est=4.114571428571429, details={'was_impossible': True, 'reason': 'User and/or item is unkown.'}),\n",
       " Prediction(uid='A3IR82A2D7R7FD', iid='0972683275', r_ui=4.0, est=4.114571428571429, details={'was_impossible': True, 'reason': 'User and/or item is unkown.'}),\n",
       " Prediction(uid='A3W0MSW7JZYO93', iid='B00001P4ZH', r_ui=2.0, est=4.114571428571429, details={'was_impossible': True, 'reason': 'User and/or item is unkown.'}),\n",
       " Prediction(uid='A2O3UQ1GB1QQXM', iid='140053271X', r_ui=5.0, est=4.114571428571429, details={'was_impossible': True, 'reason': 'User and/or item is unkown.'}),\n",
       " Prediction(uid='A3QMLDRQQDH4ZZ', iid='B00000J061', r_ui=5.0, est=4.114571428571429, details={'was_impossible': True, 'reason': 'User and/or item is unkown.'}),\n",
       " Prediction(uid='A1ZORKBJ1U6KHD', iid='8862935293', r_ui=5.0, est=4.114571428571429, details={'was_impossible': True, 'reason': 'User and/or item is unkown.'}),\n",
       " Prediction(uid='A2UANTHYEIGZUR', iid='9983891212', r_ui=5.0, est=4.114571428571429, details={'was_impossible': True, 'reason': 'User and/or item is unkown.'}),\n",
       " Prediction(uid='A1Z6298QUECUVB', iid='B00001P4ZH', r_ui=5.0, est=4.114571428571429, details={'was_impossible': True, 'reason': 'User and/or item is unkown.'}),\n",
       " Prediction(uid='A181QOJBZ8O5AY', iid='B00001P4XH', r_ui=5.0, est=4.114571428571429, details={'was_impossible': True, 'reason': 'User and/or item is unkown.'}),\n",
       " Prediction(uid='A3QMBKDKCJCIK9', iid='B00000J6WY', r_ui=5.0, est=4.114571428571429, details={'was_impossible': True, 'reason': 'User and/or item is unkown.'}),\n",
       " Prediction(uid='A1CURQD61V8GM4', iid='B00001W0DI', r_ui=4.0, est=4.114571428571429, details={'was_impossible': True, 'reason': 'User and/or item is unkown.'}),\n",
       " Prediction(uid='A2FAFWIJ7R90NF', iid='B00001WRSJ', r_ui=5.0, est=4.114571428571429, details={'was_impossible': True, 'reason': 'User and/or item is unkown.'}),\n",
       " Prediction(uid='A3BGPW4WNBZTWS', iid='B00001P4ZR', r_ui=4.0, est=4.114571428571429, details={'was_impossible': True, 'reason': 'User and/or item is unkown.'}),\n",
       " Prediction(uid='A2LR92ELH5D3AH', iid='B00000K2YR', r_ui=5.0, est=4.114571428571429, details={'was_impossible': True, 'reason': 'User and/or item is unkown.'}),\n",
       " Prediction(uid='AW5N3SNKDH63C', iid='B00001W0DH', r_ui=1.0, est=4.114571428571429, details={'was_impossible': True, 'reason': 'User and/or item is unkown.'}),\n",
       " Prediction(uid='A2P50XSO1AN0ND', iid='B00000J1EP', r_ui=4.0, est=4.114571428571429, details={'was_impossible': True, 'reason': 'User and/or item is unkown.'}),\n",
       " Prediction(uid='A19A4GQJW67VOD', iid='0972683275', r_ui=5.0, est=4.114571428571429, details={'was_impossible': True, 'reason': 'User and/or item is unkown.'}),\n",
       " Prediction(uid='A1CXY93H6HE4EH', iid='B00001W0DI', r_ui=5.0, est=4.114571428571429, details={'was_impossible': True, 'reason': 'User and/or item is unkown.'}),\n",
       " Prediction(uid='A8BUYABEEHJUD', iid='B00000J1TX', r_ui=4.0, est=4.114571428571429, details={'was_impossible': True, 'reason': 'User and/or item is unkown.'}),\n",
       " Prediction(uid='A2AM9IPXQKNO8L', iid='B00001P4ZR', r_ui=4.0, est=4.114571428571429, details={'was_impossible': True, 'reason': 'User and/or item is unkown.'}),\n",
       " Prediction(uid='A3MZSWSG6L8EN2', iid='B00001P4ZH', r_ui=5.0, est=4.114571428571429, details={'was_impossible': True, 'reason': 'User and/or item is unkown.'}),\n",
       " Prediction(uid='A1X0990QXMJIY7', iid='B00000J1EJ', r_ui=1.0, est=4.114571428571429, details={'was_impossible': True, 'reason': 'User and/or item is unkown.'}),\n",
       " Prediction(uid='AMSY2QH08RFPG', iid='B00000K13A', r_ui=5.0, est=4.114571428571429, details={'was_impossible': True, 'reason': 'User and/or item is unkown.'}),\n",
       " Prediction(uid='AKLPD6NNJG4HE', iid='B00000JCT8', r_ui=3.0, est=4.114571428571429, details={'was_impossible': True, 'reason': 'User and/or item is unkown.'}),\n",
       " Prediction(uid='A2K51F7XMZ3YY3', iid='B00001W0DI', r_ui=5.0, est=4.114571428571429, details={'was_impossible': True, 'reason': 'User and/or item is unkown.'}),\n",
       " Prediction(uid='AJJHOVXGWZKPB', iid='B00000J4FS', r_ui=5.0, est=4.114571428571429, details={'was_impossible': True, 'reason': 'User and/or item is unkown.'}),\n",
       " Prediction(uid='A1T6R772Q80FW7', iid='B00000JPPI', r_ui=5.0, est=4.114571428571429, details={'was_impossible': True, 'reason': 'User and/or item is unkown.'}),\n",
       " Prediction(uid='A39IMVHNMDZU0I', iid='0972683275', r_ui=5.0, est=4.114571428571429, details={'was_impossible': True, 'reason': 'User and/or item is unkown.'}),\n",
       " Prediction(uid='A4QCYNKAT2UN', iid='3744295508', r_ui=5.0, est=4.114571428571429, details={'was_impossible': True, 'reason': 'User and/or item is unkown.'}),\n",
       " Prediction(uid='A4SD1MX7QMD8', iid='B00001W0DH', r_ui=2.0, est=4.114571428571429, details={'was_impossible': True, 'reason': 'User and/or item is unkown.'}),\n",
       " Prediction(uid='A3CEPFGG336O73', iid='B00000J3UJ', r_ui=1.0, est=4.114571428571429, details={'was_impossible': True, 'reason': 'User and/or item is unkown.'}),\n",
       " Prediction(uid='ABU13T846HH3H', iid='B000001ON6', r_ui=5.0, est=4.114571428571429, details={'was_impossible': True, 'reason': 'User and/or item is unkown.'}),\n",
       " Prediction(uid='AV53PQCY3Z9VZ', iid='B00001P4XH', r_ui=1.0, est=4.114571428571429, details={'was_impossible': True, 'reason': 'User and/or item is unkown.'}),\n",
       " Prediction(uid='A1WREU7PGTX98P', iid='B00000JI4F', r_ui=1.0, est=4.114571428571429, details={'was_impossible': True, 'reason': 'User and/or item is unkown.'}),\n",
       " Prediction(uid='A3NJE4PPFR17UV', iid='1400599997', r_ui=1.0, est=4.114571428571429, details={'was_impossible': True, 'reason': 'User and/or item is unkown.'}),\n",
       " Prediction(uid='A3A8AO8UT3AG5Z', iid='B00001P4ZH', r_ui=5.0, est=4.114571428571429, details={'was_impossible': True, 'reason': 'User and/or item is unkown.'}),\n",
       " Prediction(uid='A1ART5LIGLOVZO', iid='B00001W0DI', r_ui=4.0, est=4.114571428571429, details={'was_impossible': True, 'reason': 'User and/or item is unkown.'}),\n",
       " Prediction(uid='A3PLI21ZZRXF8W', iid='B00001P505', r_ui=4.0, est=4.114571428571429, details={'was_impossible': True, 'reason': 'User and/or item is unkown.'}),\n",
       " Prediction(uid='A2A41KKJDR8813', iid='B00001P4ZH', r_ui=5.0, est=4.114571428571429, details={'was_impossible': True, 'reason': 'User and/or item is unkown.'}),\n",
       " Prediction(uid='A2YKN8E68KVMZL', iid='140053271X', r_ui=4.0, est=4.114571428571429, details={'was_impossible': True, 'reason': 'User and/or item is unkown.'}),\n",
       " Prediction(uid='A22VAX6ZCMABCF', iid='B00001P4XH', r_ui=5.0, est=4.114571428571429, details={'was_impossible': True, 'reason': 'User and/or item is unkown.'}),\n",
       " Prediction(uid='A2FW5DE4TX59OT', iid='B00001P4XA', r_ui=5.0, est=4.114571428571429, details={'was_impossible': True, 'reason': 'User and/or item is unkown.'}),\n",
       " Prediction(uid='A1YTZ30QIROKUI', iid='B00000JSGF', r_ui=5.0, est=4.114571428571429, details={'was_impossible': True, 'reason': 'User and/or item is unkown.'}),\n",
       " Prediction(uid='APNI0D19W2VQR', iid='B00000DM9W', r_ui=5.0, est=4.114571428571429, details={'was_impossible': True, 'reason': 'User and/or item is unkown.'}),\n",
       " Prediction(uid='A3PLKDPC3CRR91', iid='B00000DM9W', r_ui=2.0, est=4.114571428571429, details={'was_impossible': True, 'reason': 'User and/or item is unkown.'}),\n",
       " Prediction(uid='A3RG59VA8Q8SGB', iid='B00001WRSJ', r_ui=5.0, est=4.114571428571429, details={'was_impossible': True, 'reason': 'User and/or item is unkown.'}),\n",
       " Prediction(uid='A1G710PVDF7X01', iid='B00000JSGF', r_ui=5.0, est=4.114571428571429, details={'was_impossible': True, 'reason': 'User and/or item is unkown.'}),\n",
       " Prediction(uid='A3VWERLK6ZOWP', iid='1400599997', r_ui=4.0, est=4.114571428571429, details={'was_impossible': True, 'reason': 'User and/or item is unkown.'}),\n",
       " Prediction(uid='A1415PRQTR4HMY', iid='B000028F42', r_ui=4.0, est=4.114571428571429, details={'was_impossible': True, 'reason': 'User and/or item is unkown.'}),\n",
       " Prediction(uid='A7HEVWKSWUSI4', iid='B00001P4XA', r_ui=4.0, est=4.114571428571429, details={'was_impossible': True, 'reason': 'User and/or item is unkown.'}),\n",
       " Prediction(uid='ANK4IDARGV52U', iid='140053271X', r_ui=5.0, est=4.114571428571429, details={'was_impossible': True, 'reason': 'User and/or item is unkown.'}),\n",
       " Prediction(uid='AINPBMD8BIS27', iid='B00001WRSJ', r_ui=5.0, est=4.114571428571429, details={'was_impossible': True, 'reason': 'User and/or item is unkown.'}),\n",
       " Prediction(uid='A3EAA602DJCZQ4', iid='B000026D8E', r_ui=4.0, est=4.114571428571429, details={'was_impossible': True, 'reason': 'User and/or item is unkown.'}),\n",
       " Prediction(uid='A1LBNAE3BQW19J', iid='B000001ON6', r_ui=1.0, est=4.114571428571429, details={'was_impossible': True, 'reason': 'User and/or item is unkown.'}),\n",
       " Prediction(uid='A2KYVOT47SMS56', iid='9983891212', r_ui=5.0, est=4.114571428571429, details={'was_impossible': True, 'reason': 'User and/or item is unkown.'}),\n",
       " Prediction(uid='A1FF2PLA84KNAE', iid='B00001P4ZH', r_ui=4.0, est=4.114571428571429, details={'was_impossible': True, 'reason': 'User and/or item is unkown.'}),\n",
       " Prediction(uid='AB55OJ2TABN4G', iid='B00001WRSJ', r_ui=4.0, est=4.114571428571429, details={'was_impossible': True, 'reason': 'User and/or item is unkown.'}),\n",
       " Prediction(uid='AL29YSP075B3G', iid='0972683275', r_ui=5.0, est=4.114571428571429, details={'was_impossible': True, 'reason': 'User and/or item is unkown.'}),\n",
       " Prediction(uid='A2F1XPTGEADV8R', iid='0972683275', r_ui=4.0, est=4.114571428571429, details={'was_impossible': True, 'reason': 'User and/or item is unkown.'}),\n",
       " Prediction(uid='A2JL1GIC0JAFW9', iid='B00000K135', r_ui=5.0, est=4.114571428571429, details={'was_impossible': True, 'reason': 'User and/or item is unkown.'}),\n",
       " Prediction(uid='AH0BVC25PCKEO', iid='B00001W0DH', r_ui=5.0, est=4.114571428571429, details={'was_impossible': True, 'reason': 'User and/or item is unkown.'}),\n",
       " Prediction(uid='A2XQEB2JYDG1L8', iid='B00000J1V5', r_ui=5.0, est=4.114571428571429, details={'was_impossible': True, 'reason': 'User and/or item is unkown.'}),\n",
       " Prediction(uid='A1W5T6ZGF6L1DH', iid='B00001P4XA', r_ui=5.0, est=4.114571428571429, details={'was_impossible': True, 'reason': 'User and/or item is unkown.'}),\n",
       " Prediction(uid='A19DB7OTD7XTNF', iid='B00000JBPB', r_ui=4.0, est=4.114571428571429, details={'was_impossible': True, 'reason': 'User and/or item is unkown.'}),\n",
       " Prediction(uid='A3IOXFF191DDTQ', iid='B00001P4ZR', r_ui=3.0, est=4.114571428571429, details={'was_impossible': True, 'reason': 'User and/or item is unkown.'}),\n",
       " Prediction(uid='AR52CXOX54AW6', iid='B00001P4ZH', r_ui=5.0, est=4.114571428571429, details={'was_impossible': True, 'reason': 'User and/or item is unkown.'}),\n",
       " Prediction(uid='AEIONE895J5CW', iid='B00001P4XH', r_ui=3.0, est=4.114571428571429, details={'was_impossible': True, 'reason': 'User and/or item is unkown.'}),\n",
       " Prediction(uid='A2S0J4INU5CVFV', iid='B00001ZWXA', r_ui=1.0, est=4.114571428571429, details={'was_impossible': True, 'reason': 'User and/or item is unkown.'}),\n",
       " Prediction(uid='A2FVNLWPFKGIEK', iid='B00001WRSJ', r_ui=5.0, est=4.114571428571429, details={'was_impossible': True, 'reason': 'User and/or item is unkown.'}),\n",
       " Prediction(uid='A1LC6X68UIRTSN', iid='B000023VW2', r_ui=2.0, est=4.114571428571429, details={'was_impossible': True, 'reason': 'User and/or item is unkown.'}),\n",
       " Prediction(uid='A315B49T2VL4W', iid='B00000J1V3', r_ui=5.0, est=4.114571428571429, details={'was_impossible': True, 'reason': 'User and/or item is unkown.'}),\n",
       " Prediction(uid='A2K4R2WKHAICNX', iid='B00001WRSJ', r_ui=4.0, est=4.114571428571429, details={'was_impossible': True, 'reason': 'User and/or item is unkown.'}),\n",
       " Prediction(uid='AUHG5P9MVM00D', iid='B000001OM4', r_ui=1.0, est=4.114571428571429, details={'was_impossible': True, 'reason': 'User and/or item is unkown.'}),\n",
       " Prediction(uid='ACKMRQGIOE5CM', iid='0972683275', r_ui=5.0, est=4.114571428571429, details={'was_impossible': True, 'reason': 'User and/or item is unkown.'}),\n",
       " Prediction(uid='A3A9TQ7L5240KQ', iid='B00001W0DI', r_ui=5.0, est=4.114571428571429, details={'was_impossible': True, 'reason': 'User and/or item is unkown.'}),\n",
       " Prediction(uid='A250M88M3P5783', iid='B00000JBPB', r_ui=2.0, est=4.114571428571429, details={'was_impossible': True, 'reason': 'User and/or item is unkown.'}),\n",
       " Prediction(uid='ADOODN6SRJZU', iid='140053271X', r_ui=1.0, est=4.114571428571429, details={'was_impossible': True, 'reason': 'User and/or item is unkown.'}),\n",
       " Prediction(uid='A1TDXHM6S7HOET', iid='B00000J1EP', r_ui=1.0, est=4.114571428571429, details={'was_impossible': True, 'reason': 'User and/or item is unkown.'}),\n",
       " Prediction(uid='A1TOB2PO3B0MLC', iid='B00001W0EQ', r_ui=5.0, est=4.114571428571429, details={'was_impossible': True, 'reason': 'User and/or item is unkown.'}),\n",
       " Prediction(uid='A7UIRWNE7KW', iid='B00000K2YR', r_ui=5.0, est=4.114571428571429, details={'was_impossible': True, 'reason': 'User and/or item is unkown.'}),\n",
       " Prediction(uid='A3IGCSME1QONQL', iid='B000001ON6', r_ui=5.0, est=4.114571428571429, details={'was_impossible': True, 'reason': 'User and/or item is unkown.'}),\n",
       " Prediction(uid='AUZ52C1J8LCUO', iid='B00000JBAT', r_ui=1.0, est=4.114571428571429, details={'was_impossible': True, 'reason': 'User and/or item is unkown.'}),\n",
       " Prediction(uid='AOZB4GES5J7FK', iid='B00000J1GA', r_ui=1.0, est=4.114571428571429, details={'was_impossible': True, 'reason': 'User and/or item is unkown.'}),\n",
       " Prediction(uid='A2O5TD6RNKV360', iid='1400501466', r_ui=5.0, est=4.114571428571429, details={'was_impossible': True, 'reason': 'User and/or item is unkown.'}),\n",
       " Prediction(uid='A3MDSGQ3CR3VHH', iid='B00001P4ZH', r_ui=5.0, est=4.114571428571429, details={'was_impossible': True, 'reason': 'User and/or item is unkown.'}),\n",
       " Prediction(uid='A24VZHG7TA4VPN', iid='B00001P4ZH', r_ui=3.0, est=4.114571428571429, details={'was_impossible': True, 'reason': 'User and/or item is unkown.'}),\n",
       " Prediction(uid='ATJOVJQZBPLSR', iid='B000023VUL', r_ui=1.0, est=4.114571428571429, details={'was_impossible': True, 'reason': 'User and/or item is unkown.'}),\n",
       " Prediction(uid='AZKMU1V42WUTP', iid='B00000K2YR', r_ui=5.0, est=4.114571428571429, details={'was_impossible': True, 'reason': 'User and/or item is unkown.'}),\n",
       " Prediction(uid='AJCM98T7NQYAK', iid='B00001WRSJ', r_ui=5.0, est=4.114571428571429, details={'was_impossible': True, 'reason': 'User and/or item is unkown.'}),\n",
       " Prediction(uid='AFMCEVQRZDE9P', iid='B00001WRSJ', r_ui=4.0, est=4.114571428571429, details={'was_impossible': True, 'reason': 'User and/or item is unkown.'}),\n",
       " Prediction(uid='A2RHABQDXUWZ85', iid='B00001ZWXA', r_ui=3.0, est=4.114571428571429, details={'was_impossible': True, 'reason': 'User and/or item is unkown.'}),\n",
       " Prediction(uid='A3DG9S3AHNSQI4', iid='B00000JFMK', r_ui=5.0, est=4.114571428571429, details={'was_impossible': True, 'reason': 'User and/or item is unkown.'}),\n",
       " Prediction(uid='AW7MB7MXBLOIZ', iid='B00001WRSJ', r_ui=5.0, est=4.114571428571429, details={'was_impossible': True, 'reason': 'User and/or item is unkown.'}),\n",
       " Prediction(uid='A374BQKAT0IC8B', iid='B00000JBAT', r_ui=1.0, est=4.114571428571429, details={'was_impossible': True, 'reason': 'User and/or item is unkown.'}),\n",
       " Prediction(uid='A3UERTXLHBGAZ0', iid='B00000K2YR', r_ui=5.0, est=4.114571428571429, details={'was_impossible': True, 'reason': 'User and/or item is unkown.'}),\n",
       " Prediction(uid='A4BEV3882S4DB', iid='B00000K135', r_ui=1.0, est=4.114571428571429, details={'was_impossible': True, 'reason': 'User and/or item is unkown.'}),\n",
       " Prediction(uid='A2HZ3DQUNH8TR1', iid='B000001ON6', r_ui=5.0, est=4.114571428571429, details={'was_impossible': True, 'reason': 'User and/or item is unkown.'}),\n",
       " Prediction(uid='A10TQRXANRYQ6D', iid='0972683275', r_ui=5.0, est=4.114571428571429, details={'was_impossible': True, 'reason': 'User and/or item is unkown.'}),\n",
       " Prediction(uid='A1OOCS2TXLPV3B', iid='B00000JDHV', r_ui=2.0, est=4.114571428571429, details={'was_impossible': True, 'reason': 'User and/or item is unkown.'}),\n",
       " Prediction(uid='ACNAJKU6NPDW', iid='B00001P4ZH', r_ui=5.0, est=3.0, details={'actual_k': 0, 'was_impossible': False}),\n",
       " Prediction(uid='AQOC7SD115HX1', iid='B00000J1QR', r_ui=5.0, est=4.114571428571429, details={'was_impossible': True, 'reason': 'User and/or item is unkown.'}),\n",
       " Prediction(uid='A3D20C3LM506B2', iid='B00000JI4F', r_ui=4.0, est=4.114571428571429, details={'was_impossible': True, 'reason': 'User and/or item is unkown.'}),\n",
       " Prediction(uid='A3N7ZKFO63NWAY', iid='B00001P4XH', r_ui=3.0, est=4.114571428571429, details={'was_impossible': True, 'reason': 'User and/or item is unkown.'}),\n",
       " Prediction(uid='AYEW66SBIK8JI', iid='B00000J3NF', r_ui=4.0, est=4.114571428571429, details={'was_impossible': True, 'reason': 'User and/or item is unkown.'}),\n",
       " Prediction(uid='A223RZBHF5X93G', iid='B00001P4XA', r_ui=5.0, est=4.114571428571429, details={'was_impossible': True, 'reason': 'User and/or item is unkown.'}),\n",
       " Prediction(uid='A3556UAMASCD0B', iid='B00000JFIF', r_ui=4.0, est=4.114571428571429, details={'was_impossible': True, 'reason': 'User and/or item is unkown.'}),\n",
       " Prediction(uid='A1U1IW4YBLU29P', iid='B00001W0EQ', r_ui=4.0, est=4.114571428571429, details={'was_impossible': True, 'reason': 'User and/or item is unkown.'}),\n",
       " Prediction(uid='A3GZQJZLSMETLI', iid='B00000K13L', r_ui=5.0, est=4.114571428571429, details={'was_impossible': True, 'reason': 'User and/or item is unkown.'}),\n",
       " Prediction(uid='A3WJ78MM8UM1Y', iid='B00000J1F3', r_ui=1.0, est=4.114571428571429, details={'was_impossible': True, 'reason': 'User and/or item is unkown.'}),\n",
       " Prediction(uid='A2TXG0E15EEHKG', iid='B00000J4EY', r_ui=5.0, est=4.114571428571429, details={'was_impossible': True, 'reason': 'User and/or item is unkown.'}),\n",
       " Prediction(uid='AFM9LKET50RZ4', iid='1400532655', r_ui=5.0, est=4.114571428571429, details={'was_impossible': True, 'reason': 'User and/or item is unkown.'}),\n",
       " Prediction(uid='A3M8ZID7QY3FX5', iid='B00001P4ZR', r_ui=4.0, est=4.114571428571429, details={'was_impossible': True, 'reason': 'User and/or item is unkown.'}),\n",
       " Prediction(uid='A3NTEIN2H22GNK', iid='B00000J061', r_ui=5.0, est=4.114571428571429, details={'was_impossible': True, 'reason': 'User and/or item is unkown.'}),\n",
       " Prediction(uid='A2CG4XUIFE95FB', iid='B00000J1V5', r_ui=5.0, est=4.114571428571429, details={'was_impossible': True, 'reason': 'User and/or item is unkown.'}),\n",
       " Prediction(uid='A2DJHNJQA7B6LN', iid='B00000JSGF', r_ui=5.0, est=4.114571428571429, details={'was_impossible': True, 'reason': 'User and/or item is unkown.'}),\n",
       " Prediction(uid='A2SMUOVAPNM0HS', iid='B00001P4ZH', r_ui=4.0, est=4.114571428571429, details={'was_impossible': True, 'reason': 'User and/or item is unkown.'}),\n",
       " Prediction(uid='A2X435VE2DGZFG', iid='B00000J1V5', r_ui=5.0, est=4.114571428571429, details={'was_impossible': True, 'reason': 'User and/or item is unkown.'}),\n",
       " Prediction(uid='A2ZYFIRTB2V11J', iid='B00000JSGF', r_ui=4.0, est=4.114571428571429, details={'was_impossible': True, 'reason': 'User and/or item is unkown.'}),\n",
       " Prediction(uid='A2SFVAJTL8V4UB', iid='1400532655', r_ui=4.0, est=4.114571428571429, details={'was_impossible': True, 'reason': 'User and/or item is unkown.'}),\n",
       " Prediction(uid='A28X7NZ02016FO', iid='B00000JDF5', r_ui=5.0, est=4.114571428571429, details={'was_impossible': True, 'reason': 'User and/or item is unkown.'}),\n",
       " Prediction(uid='A2QAGLOY2VFUYU', iid='B00001P4ZH', r_ui=4.0, est=4.114571428571429, details={'was_impossible': True, 'reason': 'User and/or item is unkown.'}),\n",
       " Prediction(uid='A2KBS91QLHRC4C', iid='B00000J4GE', r_ui=4.0, est=4.114571428571429, details={'was_impossible': True, 'reason': 'User and/or item is unkown.'}),\n",
       " Prediction(uid='A2YL9FWBDJR4KL', iid='B00000J1EQ', r_ui=5.0, est=4.114571428571429, details={'was_impossible': True, 'reason': 'User and/or item is unkown.'}),\n",
       " Prediction(uid='A2NBPR4M3MFKKI', iid='0972683275', r_ui=4.0, est=4.114571428571429, details={'was_impossible': True, 'reason': 'User and/or item is unkown.'}),\n",
       " Prediction(uid='A33NTIYQQLJ6C7', iid='B00001P4XA', r_ui=3.0, est=4.114571428571429, details={'was_impossible': True, 'reason': 'User and/or item is unkown.'}),\n",
       " Prediction(uid='A35JP8KSV9281K', iid='B00000K135', r_ui=5.0, est=4.114571428571429, details={'was_impossible': True, 'reason': 'User and/or item is unkown.'}),\n",
       " Prediction(uid='A20BLOIP3YACWZ', iid='B00001ZT4H', r_ui=5.0, est=4.114571428571429, details={'was_impossible': True, 'reason': 'User and/or item is unkown.'}),\n",
       " Prediction(uid='AHPWOOKDFM6T8', iid='B00001P4ZH', r_ui=4.0, est=4.114571428571429, details={'was_impossible': True, 'reason': 'User and/or item is unkown.'}),\n",
       " Prediction(uid='A164ZZTOM6EE4A', iid='B00001X5AL', r_ui=3.0, est=4.114571428571429, details={'was_impossible': True, 'reason': 'User and/or item is unkown.'}),\n",
       " Prediction(uid='A1EJEJQEVL9OGN', iid='B00000J1QK', r_ui=2.0, est=4.114571428571429, details={'was_impossible': True, 'reason': 'User and/or item is unkown.'}),\n",
       " Prediction(uid='A4ZGPH50QWA1F', iid='B00000K135', r_ui=5.0, est=4.114571428571429, details={'was_impossible': True, 'reason': 'User and/or item is unkown.'}),\n",
       " Prediction(uid='A3NGABXDIB0POU', iid='B00001P4XH', r_ui=5.0, est=4.114571428571429, details={'was_impossible': True, 'reason': 'User and/or item is unkown.'}),\n",
       " Prediction(uid='A2SC3NNMFAZ9KH', iid='B00000K135', r_ui=5.0, est=4.114571428571429, details={'was_impossible': True, 'reason': 'User and/or item is unkown.'}),\n",
       " Prediction(uid='A2KK14LTLA9DPK', iid='7214047977', r_ui=3.0, est=4.114571428571429, details={'was_impossible': True, 'reason': 'User and/or item is unkown.'}),\n",
       " Prediction(uid='A2NA9VZN5VA9GW', iid='B00001P4ZH', r_ui=5.0, est=4.114571428571429, details={'was_impossible': True, 'reason': 'User and/or item is unkown.'}),\n",
       " Prediction(uid='AGR8HO98QESRH', iid='B00001P4ZH', r_ui=5.0, est=4.114571428571429, details={'was_impossible': True, 'reason': 'User and/or item is unkown.'}),\n",
       " Prediction(uid='A759KSTT9A8X8', iid='B00001WRSJ', r_ui=5.0, est=4.114571428571429, details={'was_impossible': True, 'reason': 'User and/or item is unkown.'}),\n",
       " Prediction(uid='AB6SPUGS9UVZ5', iid='B00000JI4F', r_ui=5.0, est=4.114571428571429, details={'was_impossible': True, 'reason': 'User and/or item is unkown.'}),\n",
       " Prediction(uid='A31OQI7X63PZ93', iid='B00001P505', r_ui=5.0, est=4.114571428571429, details={'was_impossible': True, 'reason': 'User and/or item is unkown.'}),\n",
       " Prediction(uid='A2K4IDHREI1GLM', iid='1400501466', r_ui=5.0, est=4.114571428571429, details={'was_impossible': True, 'reason': 'User and/or item is unkown.'}),\n",
       " Prediction(uid='A1IGVPJTW1ED3W', iid='B00002EQCW', r_ui=5.0, est=5, details={'actual_k': 1, 'was_impossible': False}),\n",
       " Prediction(uid='A2DB6S5O3UUVMJ', iid='B00001P505', r_ui=5.0, est=4.114571428571429, details={'was_impossible': True, 'reason': 'User and/or item is unkown.'}),\n",
       " Prediction(uid='ADPWG020RX3HV', iid='B00001P4ZH', r_ui=4.0, est=4.114571428571429, details={'was_impossible': True, 'reason': 'User and/or item is unkown.'}),\n",
       " Prediction(uid='A2Q8OTDJL0YI5P', iid='B00000IGBF', r_ui=5.0, est=4.114571428571429, details={'was_impossible': True, 'reason': 'User and/or item is unkown.'}),\n",
       " Prediction(uid='A23O51VZJ688QS', iid='B00000J4FS', r_ui=5.0, est=4.114571428571429, details={'was_impossible': True, 'reason': 'User and/or item is unkown.'}),\n",
       " Prediction(uid='A41I67QYRAOSQ', iid='B00000J1QR', r_ui=5.0, est=4.114571428571429, details={'was_impossible': True, 'reason': 'User and/or item is unkown.'}),\n",
       " Prediction(uid='A3QRS9HM9LD3A', iid='0972683275', r_ui=3.0, est=4.114571428571429, details={'was_impossible': True, 'reason': 'User and/or item is unkown.'}),\n",
       " Prediction(uid='A3PSU7UEUVO8YE', iid='B00001P4ZH', r_ui=5.0, est=4.114571428571429, details={'was_impossible': True, 'reason': 'User and/or item is unkown.'}),\n",
       " Prediction(uid='AIJ8ZHYZLOUKZ', iid='B00000J4FS', r_ui=5.0, est=4.114571428571429, details={'was_impossible': True, 'reason': 'User and/or item is unkown.'}),\n",
       " Prediction(uid='A1ZM846Y7AUYD', iid='B00001WRSJ', r_ui=5.0, est=4.114571428571429, details={'was_impossible': True, 'reason': 'User and/or item is unkown.'}),\n",
       " Prediction(uid='A1UY4BT1LH53G9', iid='B000001ON6', r_ui=5.0, est=4.114571428571429, details={'was_impossible': True, 'reason': 'User and/or item is unkown.'}),\n",
       " Prediction(uid='A3F6AY4V6548CL', iid='B000001ON6', r_ui=5.0, est=4.114571428571429, details={'was_impossible': True, 'reason': 'User and/or item is unkown.'}),\n",
       " Prediction(uid='A1JLJAN8A5FDXO', iid='B00000J4FS', r_ui=5.0, est=4.114571428571429, details={'was_impossible': True, 'reason': 'User and/or item is unkown.'}),\n",
       " Prediction(uid='A10IZ1RKIMM7AB', iid='B00000K2YR', r_ui=5.0, est=4.114571428571429, details={'was_impossible': True, 'reason': 'User and/or item is unkown.'}),\n",
       " Prediction(uid='ARVMH02CVVJBV', iid='0972683275', r_ui=4.0, est=4.114571428571429, details={'was_impossible': True, 'reason': 'User and/or item is unkown.'}),\n",
       " Prediction(uid='A34AS3NZFKA2H5', iid='B00001OXQ9', r_ui=5.0, est=4.114571428571429, details={'was_impossible': True, 'reason': 'User and/or item is unkown.'}),\n",
       " Prediction(uid='A1YAO6TEK58A6E', iid='B00001P4ZH', r_ui=5.0, est=4.114571428571429, details={'was_impossible': True, 'reason': 'User and/or item is unkown.'}),\n",
       " Prediction(uid='ALIJA1DJJDJ84', iid='140053271X', r_ui=4.0, est=4.114571428571429, details={'was_impossible': True, 'reason': 'User and/or item is unkown.'}),\n",
       " Prediction(uid='A24AT5QOOREBJI', iid='140053271X', r_ui=5.0, est=4.114571428571429, details={'was_impossible': True, 'reason': 'User and/or item is unkown.'}),\n",
       " Prediction(uid='A2MXYORW3C4D0J', iid='B00001WRSJ', r_ui=5.0, est=4.114571428571429, details={'was_impossible': True, 'reason': 'User and/or item is unkown.'}),\n",
       " Prediction(uid='A3SL7UWG7Z4H4T', iid='B000023VW2', r_ui=4.0, est=4.114571428571429, details={'was_impossible': True, 'reason': 'User and/or item is unkown.'}),\n",
       " Prediction(uid='ABVYGB2TKBO8F', iid='B00000DM9W', r_ui=5.0, est=4.114571428571429, details={'was_impossible': True, 'reason': 'User and/or item is unkown.'}),\n",
       " Prediction(uid='A2XR40GPJM6I6L', iid='B00000JDF5', r_ui=4.0, est=4.0, details={'actual_k': 0, 'was_impossible': False}),\n",
       " Prediction(uid='A1FFACWRR9ID28', iid='9573212919', r_ui=1.0, est=4.114571428571429, details={'was_impossible': True, 'reason': 'User and/or item is unkown.'}),\n",
       " Prediction(uid='A8PFDS8MJMLQA', iid='B00000J061', r_ui=1.0, est=4.114571428571429, details={'was_impossible': True, 'reason': 'User and/or item is unkown.'}),\n",
       " Prediction(uid='A2Y06YSBK1YYWT', iid='B000021YU8', r_ui=5.0, est=4.114571428571429, details={'was_impossible': True, 'reason': 'User and/or item is unkown.'}),\n",
       " Prediction(uid='A2HIXB44AGWG94', iid='B00000J1QR', r_ui=1.0, est=4.114571428571429, details={'was_impossible': True, 'reason': 'User and/or item is unkown.'}),\n",
       " Prediction(uid='A33O79GQ8QW4TU', iid='B00001P4ZR', r_ui=3.0, est=4.114571428571429, details={'was_impossible': True, 'reason': 'User and/or item is unkown.'}),\n",
       " Prediction(uid='A3J6C8KO9SUQ8V', iid='B00000DM9W', r_ui=5.0, est=4.114571428571429, details={'was_impossible': True, 'reason': 'User and/or item is unkown.'}),\n",
       " Prediction(uid='A2N2RL4HC4PI6J', iid='B00002EQCW', r_ui=5.0, est=4.114571428571429, details={'was_impossible': True, 'reason': 'User and/or item is unkown.'}),\n",
       " Prediction(uid='A3JHFIG2ICLQVI', iid='1400532736', r_ui=5.0, est=4.114571428571429, details={'was_impossible': True, 'reason': 'User and/or item is unkown.'}),\n",
       " Prediction(uid='A2UKT5SQR9EI7U', iid='0972683275', r_ui=5.0, est=4.114571428571429, details={'was_impossible': True, 'reason': 'User and/or item is unkown.'}),\n",
       " Prediction(uid='A1UP5CIELABXA7', iid='B00000J061', r_ui=4.0, est=5, details={'actual_k': 0, 'was_impossible': False}),\n",
       " Prediction(uid='A6HIYEJGCE1MA', iid='B00000JFIF', r_ui=5.0, est=4.114571428571429, details={'was_impossible': True, 'reason': 'User and/or item is unkown.'}),\n",
       " Prediction(uid='A1YLL71R2M75LC', iid='B00002EQCW', r_ui=5.0, est=4.114571428571429, details={'was_impossible': True, 'reason': 'User and/or item is unkown.'}),\n",
       " Prediction(uid='ABOXIMMMGYWHS', iid='B00001P4ZH', r_ui=5.0, est=4.114571428571429, details={'was_impossible': True, 'reason': 'User and/or item is unkown.'}),\n",
       " Prediction(uid='A3FOLEZQMXKXQ3', iid='B00001P4ZR', r_ui=5.0, est=4.114571428571429, details={'was_impossible': True, 'reason': 'User and/or item is unkown.'}),\n",
       " Prediction(uid='ANNYXS0OHRD28', iid='B00000J0D8', r_ui=3.0, est=4.0, details={'actual_k': 0, 'was_impossible': False}),\n",
       " Prediction(uid='A3CW4H4RA5UAUX', iid='B00001P4ZH', r_ui=5.0, est=4.114571428571429, details={'was_impossible': True, 'reason': 'User and/or item is unkown.'}),\n",
       " Prediction(uid='A1U2IMHKSOA1EO', iid='B00001OWYM', r_ui=1.0, est=4.114571428571429, details={'was_impossible': True, 'reason': 'User and/or item is unkown.'}),\n",
       " Prediction(uid='A2DIKSVOR8R3BE', iid='140053271X', r_ui=5.0, est=4.114571428571429, details={'was_impossible': True, 'reason': 'User and/or item is unkown.'}),\n",
       " Prediction(uid='ADTII0FSMSCPO', iid='B00000JII6', r_ui=1.0, est=4.114571428571429, details={'was_impossible': True, 'reason': 'User and/or item is unkown.'}),\n",
       " Prediction(uid='A3R9KRIO25CKZV', iid='B00000J061', r_ui=4.0, est=4.5, details={'actual_k': 0, 'was_impossible': False}),\n",
       " Prediction(uid='A26G8GQA6XLT7G', iid='8862935293', r_ui=3.0, est=4.114571428571429, details={'was_impossible': True, 'reason': 'User and/or item is unkown.'}),\n",
       " Prediction(uid='A2SEDS2IBXAFV', iid='B00000J1V3', r_ui=5.0, est=4.114571428571429, details={'was_impossible': True, 'reason': 'User and/or item is unkown.'}),\n",
       " Prediction(uid='A2Q8UMFZSMX73W', iid='B00001OXQ9', r_ui=5.0, est=4.114571428571429, details={'was_impossible': True, 'reason': 'User and/or item is unkown.'}),\n",
       " Prediction(uid='A2M02TL1Q0DP5N', iid='B00001WRSJ', r_ui=3.0, est=4.114571428571429, details={'was_impossible': True, 'reason': 'User and/or item is unkown.'}),\n",
       " Prediction(uid='APXJEGIZH1EZ6', iid='B00000J1EQ', r_ui=5.0, est=4.114571428571429, details={'was_impossible': True, 'reason': 'User and/or item is unkown.'}),\n",
       " Prediction(uid='AAE8INHEI3KK7', iid='B00001P4ZH', r_ui=5.0, est=4.114571428571429, details={'was_impossible': True, 'reason': 'User and/or item is unkown.'}),\n",
       " Prediction(uid='A1SCWY8O0IL2HU', iid='B0000222MY', r_ui=3.0, est=5, details={'actual_k': 0, 'was_impossible': False}),\n",
       " Prediction(uid='AF6JVVPGQ4T54', iid='1400532655', r_ui=5.0, est=4.114571428571429, details={'was_impossible': True, 'reason': 'User and/or item is unkown.'}),\n",
       " Prediction(uid='A2PLKZ6IW9MXRZ', iid='B00000K2YR', r_ui=1.0, est=4.114571428571429, details={'was_impossible': True, 'reason': 'User and/or item is unkown.'}),\n",
       " Prediction(uid='A2B0BCRM8RF80S', iid='B00000JHWX', r_ui=4.0, est=4.114571428571429, details={'was_impossible': True, 'reason': 'User and/or item is unkown.'}),\n",
       " Prediction(uid='A3TTG579DHLYZW', iid='B000001OM4', r_ui=4.0, est=4.114571428571429, details={'was_impossible': True, 'reason': 'User and/or item is unkown.'}),\n",
       " Prediction(uid='A2EIZJ2P9TDFC0', iid='B00001WRSJ', r_ui=2.0, est=4.114571428571429, details={'was_impossible': True, 'reason': 'User and/or item is unkown.'}),\n",
       " Prediction(uid='A2AQBIS4DYDBOX', iid='B00000JYWQ', r_ui=5.0, est=4.114571428571429, details={'was_impossible': True, 'reason': 'User and/or item is unkown.'}),\n",
       " Prediction(uid='A3B9M30GKO2XX1', iid='B00001P4XA', r_ui=5.0, est=4.114571428571429, details={'was_impossible': True, 'reason': 'User and/or item is unkown.'}),\n",
       " Prediction(uid='A3N97XQWK45881', iid='B00000JI4F', r_ui=5.0, est=4.114571428571429, details={'was_impossible': True, 'reason': 'User and/or item is unkown.'}),\n",
       " Prediction(uid='A84PHR73EVFJI', iid='B00001P4ZH', r_ui=3.0, est=4.114571428571429, details={'was_impossible': True, 'reason': 'User and/or item is unkown.'}),\n",
       " Prediction(uid='A1L997XVM94GLI', iid='B000026D8E', r_ui=4.0, est=4.114571428571429, details={'was_impossible': True, 'reason': 'User and/or item is unkown.'}),\n",
       " Prediction(uid='A1CN4OPYWXQP1K', iid='B00000K2YR', r_ui=4.0, est=4.114571428571429, details={'was_impossible': True, 'reason': 'User and/or item is unkown.'}),\n",
       " Prediction(uid='A3E4QDD0JTGT2T', iid='B000026D8E', r_ui=1.0, est=4.114571428571429, details={'was_impossible': True, 'reason': 'User and/or item is unkown.'}),\n",
       " Prediction(uid='A1B99G3KGITH3T', iid='140053271X', r_ui=5.0, est=4.114571428571429, details={'was_impossible': True, 'reason': 'User and/or item is unkown.'}),\n",
       " Prediction(uid='A2O8VPEZPNKEX7', iid='B00000K2YV', r_ui=1.0, est=4.114571428571429, details={'was_impossible': True, 'reason': 'User and/or item is unkown.'}),\n",
       " Prediction(uid='A1G1B7UE7D675U', iid='0972683275', r_ui=5.0, est=4.114571428571429, details={'was_impossible': True, 'reason': 'User and/or item is unkown.'}),\n",
       " Prediction(uid='A19UX3W735AEJ8', iid='B00001P4ZR', r_ui=4.0, est=4.114571428571429, details={'was_impossible': True, 'reason': 'User and/or item is unkown.'}),\n",
       " Prediction(uid='A231WM2Z2JL0U3', iid='B000028F42', r_ui=5.0, est=4.666666666666667, details={'actual_k': 0, 'was_impossible': False}),\n",
       " Prediction(uid='A30YRZHUDGLEK0', iid='B00001P505', r_ui=5.0, est=4.114571428571429, details={'was_impossible': True, 'reason': 'User and/or item is unkown.'}),\n",
       " Prediction(uid='A3FUWW5XLTWY8', iid='B00001P4ZH', r_ui=5.0, est=4.114571428571429, details={'was_impossible': True, 'reason': 'User and/or item is unkown.'}),\n",
       " Prediction(uid='A2UU3K8KZGCQUK', iid='9983891212', r_ui=5.0, est=4.114571428571429, details={'was_impossible': True, 'reason': 'User and/or item is unkown.'}),\n",
       " Prediction(uid='A2DXC3PKBFPQDS', iid='B00000K2YR', r_ui=4.0, est=4.114571428571429, details={'was_impossible': True, 'reason': 'User and/or item is unkown.'}),\n",
       " Prediction(uid='A39TRRVQW9BFD5', iid='140053271X', r_ui=5.0, est=4.114571428571429, details={'was_impossible': True, 'reason': 'User and/or item is unkown.'}),\n",
       " Prediction(uid='A19WXBLVXOWXQH', iid='B00001P4ZH', r_ui=5.0, est=4.114571428571429, details={'was_impossible': True, 'reason': 'User and/or item is unkown.'}),\n",
       " Prediction(uid='A18OS50RVFL16R', iid='B00001ZWXA', r_ui=5.0, est=4.114571428571429, details={'was_impossible': True, 'reason': 'User and/or item is unkown.'}),\n",
       " Prediction(uid='A2RRT5Z4D43CZV', iid='B00000K2YR', r_ui=5.0, est=4.114571428571429, details={'was_impossible': True, 'reason': 'User and/or item is unkown.'}),\n",
       " Prediction(uid='A32E8U8OQLW5NU', iid='1400532736', r_ui=1.0, est=4.114571428571429, details={'was_impossible': True, 'reason': 'User and/or item is unkown.'}),\n",
       " Prediction(uid='A1SH786754C85P', iid='B00000J4FS', r_ui=5.0, est=4.114571428571429, details={'was_impossible': True, 'reason': 'User and/or item is unkown.'}),\n",
       " Prediction(uid='A2R6RA8FRBS608', iid='B00000J1EP', r_ui=4.0, est=4.0, details={'actual_k': 0, 'was_impossible': False}),\n",
       " Prediction(uid='A3FUTKW59AWR6C', iid='B00001P4ZH', r_ui=3.0, est=4.114571428571429, details={'was_impossible': True, 'reason': 'User and/or item is unkown.'}),\n",
       " Prediction(uid='A32SVEX626XG20', iid='B0000228GF', r_ui=5.0, est=4.114571428571429, details={'was_impossible': True, 'reason': 'User and/or item is unkown.'}),\n",
       " Prediction(uid='A2L11KDKL643HZ', iid='B00002NDRQ', r_ui=4.0, est=4.114571428571429, details={'was_impossible': True, 'reason': 'User and/or item is unkown.'}),\n",
       " Prediction(uid='A2FQIOU39ZHLM5', iid='B00000JPPI', r_ui=4.0, est=4.114571428571429, details={'was_impossible': True, 'reason': 'User and/or item is unkown.'}),\n",
       " Prediction(uid='ART0YA13VWXNB', iid='1400599997', r_ui=3.0, est=4.114571428571429, details={'was_impossible': True, 'reason': 'User and/or item is unkown.'}),\n",
       " Prediction(uid='AIW0JFVEF89B6', iid='B000021YUO', r_ui=3.0, est=4.114571428571429, details={'was_impossible': True, 'reason': 'User and/or item is unkown.'}),\n",
       " Prediction(uid='AAK7M9P1GEYWV', iid='B00000DM9W', r_ui=2.0, est=4.114571428571429, details={'was_impossible': True, 'reason': 'User and/or item is unkown.'}),\n",
       " Prediction(uid='A2BCM8B300MTAQ', iid='B00001WRSJ', r_ui=5.0, est=4.114571428571429, details={'was_impossible': True, 'reason': 'User and/or item is unkown.'}),\n",
       " Prediction(uid='A1I2VGX1RQZUJH', iid='B00001WRSJ', r_ui=4.0, est=4.114571428571429, details={'was_impossible': True, 'reason': 'User and/or item is unkown.'}),\n",
       " Prediction(uid='A3BUBZG2VAP67E', iid='B00000J4GE', r_ui=5.0, est=4.114571428571429, details={'was_impossible': True, 'reason': 'User and/or item is unkown.'}),\n",
       " Prediction(uid='A1TSQF40H4MIWM', iid='0972683275', r_ui=5.0, est=4.114571428571429, details={'was_impossible': True, 'reason': 'User and/or item is unkown.'}),\n",
       " Prediction(uid='A2YK7P52PTIXC1', iid='B00001ZWXA', r_ui=5.0, est=4.114571428571429, details={'was_impossible': True, 'reason': 'User and/or item is unkown.'}),\n",
       " Prediction(uid='A3DOSWIPURRSIQ', iid='B00001P4ZR', r_ui=5.0, est=4.114571428571429, details={'was_impossible': True, 'reason': 'User and/or item is unkown.'}),\n",
       " Prediction(uid='A2RWGZD24R9JK0', iid='1400501466', r_ui=2.0, est=4.114571428571429, details={'was_impossible': True, 'reason': 'User and/or item is unkown.'}),\n",
       " Prediction(uid='A32JEY8QL1J5W', iid='B00001P4ZH', r_ui=4.0, est=4.114571428571429, details={'was_impossible': True, 'reason': 'User and/or item is unkown.'}),\n",
       " Prediction(uid='A2XYQ7HIU3Q63', iid='1400532620', r_ui=5.0, est=4.114571428571429, details={'was_impossible': True, 'reason': 'User and/or item is unkown.'}),\n",
       " Prediction(uid='A3R8II3QEZE9TU', iid='B00000JI4F', r_ui=2.0, est=4.114571428571429, details={'was_impossible': True, 'reason': 'User and/or item is unkown.'}),\n",
       " Prediction(uid='AIZ4QR2RTJPWY', iid='B00000J061', r_ui=2.0, est=4.114571428571429, details={'was_impossible': True, 'reason': 'User and/or item is unkown.'}),\n",
       " Prediction(uid='A13GJ7FHQIROJ4', iid='B00000K135', r_ui=5.0, est=4.114571428571429, details={'was_impossible': True, 'reason': 'User and/or item is unkown.'}),\n",
       " Prediction(uid='A1NRSZN52JUEM3', iid='B00001OXQ9', r_ui=4.0, est=4.114571428571429, details={'was_impossible': True, 'reason': 'User and/or item is unkown.'}),\n",
       " Prediction(uid='A18HE80910BTZI', iid='B00001P4XA', r_ui=5.0, est=5, details={'actual_k': 0, 'was_impossible': False}),\n",
       " Prediction(uid='A3J06KYNVP9I00', iid='1400532655', r_ui=4.0, est=4.114571428571429, details={'was_impossible': True, 'reason': 'User and/or item is unkown.'}),\n",
       " Prediction(uid='A2UFAKH7Y8VH5N', iid='9983891212', r_ui=5.0, est=4.114571428571429, details={'was_impossible': True, 'reason': 'User and/or item is unkown.'}),\n",
       " Prediction(uid='AF6352V65ZNG1', iid='0972683275', r_ui=4.0, est=4.114571428571429, details={'was_impossible': True, 'reason': 'User and/or item is unkown.'}),\n",
       " Prediction(uid='A9KOC3PXLXYSB', iid='B00001WRSJ', r_ui=5.0, est=4.114571428571429, details={'was_impossible': True, 'reason': 'User and/or item is unkown.'}),\n",
       " Prediction(uid='A1IBBI5YMPAUCW', iid='9984984354', r_ui=5.0, est=4.114571428571429, details={'was_impossible': True, 'reason': 'User and/or item is unkown.'}),\n",
       " Prediction(uid='A15U38QN3U4Z4E', iid='B00000DM9W', r_ui=4.0, est=4.114571428571429, details={'was_impossible': True, 'reason': 'User and/or item is unkown.'}),\n",
       " Prediction(uid='A1JB3S6ZUTH1A', iid='B00000JHWX', r_ui=5.0, est=4.114571428571429, details={'was_impossible': True, 'reason': 'User and/or item is unkown.'}),\n",
       " Prediction(uid='AJYHA46YONBMI', iid='B00000DM9W', r_ui=5.0, est=4.114571428571429, details={'was_impossible': True, 'reason': 'User and/or item is unkown.'}),\n",
       " Prediction(uid='A37DK4K57K1IN4', iid='B00000J1EP', r_ui=5.0, est=4.114571428571429, details={'was_impossible': True, 'reason': 'User and/or item is unkown.'}),\n",
       " Prediction(uid='A1A35W25SQWXES', iid='1400599997', r_ui=1.0, est=4.114571428571429, details={'was_impossible': True, 'reason': 'User and/or item is unkown.'}),\n",
       " Prediction(uid='A81BEPQID9E53', iid='B00001P4XA', r_ui=4.0, est=4.114571428571429, details={'was_impossible': True, 'reason': 'User and/or item is unkown.'}),\n",
       " Prediction(uid='A1Y6Y4XZV0AB9Z', iid='B00000IGBF', r_ui=3.0, est=4.114571428571429, details={'was_impossible': True, 'reason': 'User and/or item is unkown.'}),\n",
       " Prediction(uid='A1XZGL8Q0L8G9U', iid='B00001P4ZH', r_ui=5.0, est=4.114571428571429, details={'was_impossible': True, 'reason': 'User and/or item is unkown.'}),\n",
       " Prediction(uid='A26PKR5Z17WHM2', iid='B00000K2YR', r_ui=3.0, est=4.114571428571429, details={'was_impossible': True, 'reason': 'User and/or item is unkown.'}),\n",
       " Prediction(uid='A2YH5JT4HSUFS1', iid='B00000JDF5', r_ui=5.0, est=4.114571428571429, details={'was_impossible': True, 'reason': 'User and/or item is unkown.'}),\n",
       " Prediction(uid='A207E4Z3R1WCUP', iid='9985511476', r_ui=5.0, est=4.114571428571429, details={'was_impossible': True, 'reason': 'User and/or item is unkown.'}),\n",
       " Prediction(uid='A35PIDKINUSGFN', iid='9573212919', r_ui=5.0, est=4.114571428571429, details={'was_impossible': True, 'reason': 'User and/or item is unkown.'}),\n",
       " Prediction(uid='A5T08I564I0D5', iid='B00001WRSJ', r_ui=5.0, est=4.114571428571429, details={'was_impossible': True, 'reason': 'User and/or item is unkown.'}),\n",
       " Prediction(uid='A3P3F9HVYH1HVE', iid='B00001WRSJ', r_ui=5.0, est=4.114571428571429, details={'was_impossible': True, 'reason': 'User and/or item is unkown.'}),\n",
       " Prediction(uid='AXX520I59CEMZ', iid='B00001P4XA', r_ui=4.0, est=4.114571428571429, details={'was_impossible': True, 'reason': 'User and/or item is unkown.'}),\n",
       " Prediction(uid='A48J4ZBYH58ZI', iid='1400532620', r_ui=1.0, est=4.114571428571429, details={'was_impossible': True, 'reason': 'User and/or item is unkown.'}),\n",
       " Prediction(uid='A7G5TA2C9IGSE', iid='0972683275', r_ui=5.0, est=4.114571428571429, details={'was_impossible': True, 'reason': 'User and/or item is unkown.'}),\n",
       " Prediction(uid='A1LL35PC63NXQP', iid='B00000IGBF', r_ui=3.0, est=4.114571428571429, details={'was_impossible': True, 'reason': 'User and/or item is unkown.'}),\n",
       " Prediction(uid='A3RLE0OTW1Y7FW', iid='B00001P4ZH', r_ui=5.0, est=4.114571428571429, details={'was_impossible': True, 'reason': 'User and/or item is unkown.'}),\n",
       " Prediction(uid='A3LU646ETDKLB1', iid='9888002198', r_ui=5.0, est=4.114571428571429, details={'was_impossible': True, 'reason': 'User and/or item is unkown.'}),\n",
       " Prediction(uid='A1EFSNFFE6Y17G', iid='B00001WRSJ', r_ui=5.0, est=4.114571428571429, details={'was_impossible': True, 'reason': 'User and/or item is unkown.'}),\n",
       " Prediction(uid='A35EKMFLL8IDI5', iid='140053271X', r_ui=5.0, est=4.114571428571429, details={'was_impossible': True, 'reason': 'User and/or item is unkown.'}),\n",
       " Prediction(uid='ACTNHIT3MKROP', iid='1400532655', r_ui=5.0, est=4.114571428571429, details={'was_impossible': True, 'reason': 'User and/or item is unkown.'}),\n",
       " Prediction(uid='A1XOO9S0ODL67C', iid='0972683275', r_ui=5.0, est=4.114571428571429, details={'was_impossible': True, 'reason': 'User and/or item is unkown.'}),\n",
       " Prediction(uid='A1FIGM5NXX9J3Q', iid='B00000JSGF', r_ui=2.0, est=4.114571428571429, details={'was_impossible': True, 'reason': 'User and/or item is unkown.'}),\n",
       " ...]"
      ]
     },
     "execution_count": 79,
     "metadata": {},
     "output_type": "execute_result"
    }
   ],
   "source": [
    "test_pred"
   ]
  },
  {
   "cell_type": "code",
   "execution_count": 80,
   "metadata": {},
   "outputs": [
    {
     "name": "stdout",
     "output_type": "stream",
     "text": [
      "Item-based Model : Test Set\n",
      "RMSE: 1.3364\n"
     ]
    },
    {
     "data": {
      "text/plain": [
       "1.3364189557788677"
      ]
     },
     "execution_count": 80,
     "metadata": {},
     "output_type": "execute_result"
    }
   ],
   "source": [
    "# get RMSE\n",
    "print(\"Item-based Model : Test Set\")\n",
    "accuracy.rmse(test_pred, verbose=True)"
   ]
  },
  {
   "cell_type": "markdown",
   "metadata": {},
   "source": [
    "# Model Based Collaborative Filtering "
   ]
  },
  {
   "cell_type": "code",
   "execution_count": 81,
   "metadata": {},
   "outputs": [
    {
     "data": {
      "text/html": [
       "<div>\n",
       "<style scoped>\n",
       "    .dataframe tbody tr th:only-of-type {\n",
       "        vertical-align: middle;\n",
       "    }\n",
       "\n",
       "    .dataframe tbody tr th {\n",
       "        vertical-align: top;\n",
       "    }\n",
       "\n",
       "    .dataframe thead th {\n",
       "        text-align: right;\n",
       "    }\n",
       "</style>\n",
       "<table border=\"1\" class=\"dataframe\">\n",
       "  <thead>\n",
       "    <tr style=\"text-align: right;\">\n",
       "      <th>productId</th>\n",
       "      <th>0972683275</th>\n",
       "      <th>1400501466</th>\n",
       "      <th>1400501520</th>\n",
       "      <th>1400501776</th>\n",
       "      <th>1400532620</th>\n",
       "      <th>1400532655</th>\n",
       "      <th>140053271X</th>\n",
       "      <th>1400532736</th>\n",
       "      <th>1400599997</th>\n",
       "      <th>1400698987</th>\n",
       "      <th>...</th>\n",
       "      <th>B000051SGX</th>\n",
       "      <th>B000051SHL</th>\n",
       "      <th>B000051WW9</th>\n",
       "      <th>B000051YGF</th>\n",
       "      <th>B000051YGP</th>\n",
       "      <th>B000051ZOA</th>\n",
       "      <th>B00005219A</th>\n",
       "      <th>B00005219O</th>\n",
       "      <th>B000053HBB</th>\n",
       "      <th>B000053HC5</th>\n",
       "    </tr>\n",
       "    <tr>\n",
       "      <th>userId</th>\n",
       "      <th></th>\n",
       "      <th></th>\n",
       "      <th></th>\n",
       "      <th></th>\n",
       "      <th></th>\n",
       "      <th></th>\n",
       "      <th></th>\n",
       "      <th></th>\n",
       "      <th></th>\n",
       "      <th></th>\n",
       "      <th></th>\n",
       "      <th></th>\n",
       "      <th></th>\n",
       "      <th></th>\n",
       "      <th></th>\n",
       "      <th></th>\n",
       "      <th></th>\n",
       "      <th></th>\n",
       "      <th></th>\n",
       "      <th></th>\n",
       "      <th></th>\n",
       "    </tr>\n",
       "  </thead>\n",
       "  <tbody>\n",
       "    <tr>\n",
       "      <th>A014623426J5CM7M12MBW</th>\n",
       "      <td>0</td>\n",
       "      <td>0</td>\n",
       "      <td>0</td>\n",
       "      <td>0</td>\n",
       "      <td>0</td>\n",
       "      <td>0</td>\n",
       "      <td>0</td>\n",
       "      <td>0</td>\n",
       "      <td>0</td>\n",
       "      <td>0</td>\n",
       "      <td>...</td>\n",
       "      <td>0</td>\n",
       "      <td>0</td>\n",
       "      <td>0</td>\n",
       "      <td>0</td>\n",
       "      <td>0</td>\n",
       "      <td>0</td>\n",
       "      <td>0</td>\n",
       "      <td>0</td>\n",
       "      <td>0</td>\n",
       "      <td>0</td>\n",
       "    </tr>\n",
       "    <tr>\n",
       "      <th>A01852072Z7B68UHLI5UG</th>\n",
       "      <td>0</td>\n",
       "      <td>0</td>\n",
       "      <td>0</td>\n",
       "      <td>0</td>\n",
       "      <td>0</td>\n",
       "      <td>0</td>\n",
       "      <td>0</td>\n",
       "      <td>0</td>\n",
       "      <td>0</td>\n",
       "      <td>0</td>\n",
       "      <td>...</td>\n",
       "      <td>0</td>\n",
       "      <td>0</td>\n",
       "      <td>0</td>\n",
       "      <td>0</td>\n",
       "      <td>0</td>\n",
       "      <td>0</td>\n",
       "      <td>0</td>\n",
       "      <td>0</td>\n",
       "      <td>0</td>\n",
       "      <td>0</td>\n",
       "    </tr>\n",
       "    <tr>\n",
       "      <th>A0266076X6KPZ6CCHGVS</th>\n",
       "      <td>0</td>\n",
       "      <td>0</td>\n",
       "      <td>0</td>\n",
       "      <td>0</td>\n",
       "      <td>0</td>\n",
       "      <td>0</td>\n",
       "      <td>0</td>\n",
       "      <td>0</td>\n",
       "      <td>0</td>\n",
       "      <td>0</td>\n",
       "      <td>...</td>\n",
       "      <td>0</td>\n",
       "      <td>0</td>\n",
       "      <td>0</td>\n",
       "      <td>0</td>\n",
       "      <td>0</td>\n",
       "      <td>0</td>\n",
       "      <td>0</td>\n",
       "      <td>0</td>\n",
       "      <td>0</td>\n",
       "      <td>0</td>\n",
       "    </tr>\n",
       "    <tr>\n",
       "      <th>A0293130VTX2ZXA70JQS</th>\n",
       "      <td>5</td>\n",
       "      <td>0</td>\n",
       "      <td>0</td>\n",
       "      <td>0</td>\n",
       "      <td>0</td>\n",
       "      <td>0</td>\n",
       "      <td>0</td>\n",
       "      <td>0</td>\n",
       "      <td>0</td>\n",
       "      <td>0</td>\n",
       "      <td>...</td>\n",
       "      <td>0</td>\n",
       "      <td>0</td>\n",
       "      <td>0</td>\n",
       "      <td>0</td>\n",
       "      <td>0</td>\n",
       "      <td>0</td>\n",
       "      <td>0</td>\n",
       "      <td>0</td>\n",
       "      <td>0</td>\n",
       "      <td>0</td>\n",
       "    </tr>\n",
       "    <tr>\n",
       "      <th>A030530627MK66BD8V4LN</th>\n",
       "      <td>4</td>\n",
       "      <td>0</td>\n",
       "      <td>0</td>\n",
       "      <td>0</td>\n",
       "      <td>0</td>\n",
       "      <td>0</td>\n",
       "      <td>0</td>\n",
       "      <td>0</td>\n",
       "      <td>0</td>\n",
       "      <td>0</td>\n",
       "      <td>...</td>\n",
       "      <td>0</td>\n",
       "      <td>0</td>\n",
       "      <td>0</td>\n",
       "      <td>0</td>\n",
       "      <td>0</td>\n",
       "      <td>0</td>\n",
       "      <td>0</td>\n",
       "      <td>0</td>\n",
       "      <td>0</td>\n",
       "      <td>0</td>\n",
       "    </tr>\n",
       "  </tbody>\n",
       "</table>\n",
       "<p>5 rows × 292 columns</p>\n",
       "</div>"
      ],
      "text/plain": [
       "productId              0972683275  1400501466  1400501520  1400501776  \\\n",
       "userId                                                                  \n",
       "A014623426J5CM7M12MBW           0           0           0           0   \n",
       "A01852072Z7B68UHLI5UG           0           0           0           0   \n",
       "A0266076X6KPZ6CCHGVS            0           0           0           0   \n",
       "A0293130VTX2ZXA70JQS            5           0           0           0   \n",
       "A030530627MK66BD8V4LN           4           0           0           0   \n",
       "\n",
       "productId              1400532620  1400532655  140053271X  1400532736  \\\n",
       "userId                                                                  \n",
       "A014623426J5CM7M12MBW           0           0           0           0   \n",
       "A01852072Z7B68UHLI5UG           0           0           0           0   \n",
       "A0266076X6KPZ6CCHGVS            0           0           0           0   \n",
       "A0293130VTX2ZXA70JQS            0           0           0           0   \n",
       "A030530627MK66BD8V4LN           0           0           0           0   \n",
       "\n",
       "productId              1400599997  1400698987  ...  B000051SGX  B000051SHL  \\\n",
       "userId                                         ...                           \n",
       "A014623426J5CM7M12MBW           0           0  ...           0           0   \n",
       "A01852072Z7B68UHLI5UG           0           0  ...           0           0   \n",
       "A0266076X6KPZ6CCHGVS            0           0  ...           0           0   \n",
       "A0293130VTX2ZXA70JQS            0           0  ...           0           0   \n",
       "A030530627MK66BD8V4LN           0           0  ...           0           0   \n",
       "\n",
       "productId              B000051WW9  B000051YGF  B000051YGP  B000051ZOA  \\\n",
       "userId                                                                  \n",
       "A014623426J5CM7M12MBW           0           0           0           0   \n",
       "A01852072Z7B68UHLI5UG           0           0           0           0   \n",
       "A0266076X6KPZ6CCHGVS            0           0           0           0   \n",
       "A0293130VTX2ZXA70JQS            0           0           0           0   \n",
       "A030530627MK66BD8V4LN           0           0           0           0   \n",
       "\n",
       "productId              B00005219A  B00005219O  B000053HBB  B000053HC5  \n",
       "userId                                                                 \n",
       "A014623426J5CM7M12MBW           0           0           0           0  \n",
       "A01852072Z7B68UHLI5UG           0           0           0           0  \n",
       "A0266076X6KPZ6CCHGVS            0           0           0           0  \n",
       "A0293130VTX2ZXA70JQS            0           0           0           0  \n",
       "A030530627MK66BD8V4LN           0           0           0           0  \n",
       "\n",
       "[5 rows x 292 columns]"
      ]
     },
     "execution_count": 81,
     "metadata": {},
     "output_type": "execute_result"
    }
   ],
   "source": [
    "new_df1=new_df.head(50000)\n",
    "ratings_matrix = new_df1.pivot_table(values='Rating user', index='userId', columns='productId', fill_value=0)\n",
    "ratings_matrix.head()"
   ]
  },
  {
   "cell_type": "markdown",
   "metadata": {},
   "source": [
    " The utility matrix obtained above is sparce,filled up the unknown values with 0."
   ]
  },
  {
   "cell_type": "code",
   "execution_count": 82,
   "metadata": {},
   "outputs": [
    {
     "data": {
      "text/plain": [
       "(47607, 292)"
      ]
     },
     "execution_count": 82,
     "metadata": {},
     "output_type": "execute_result"
    }
   ],
   "source": [
    "ratings_matrix.shape"
   ]
  },
  {
   "cell_type": "code",
   "execution_count": 83,
   "metadata": {},
   "outputs": [
    {
     "data": {
      "text/html": [
       "<div>\n",
       "<style scoped>\n",
       "    .dataframe tbody tr th:only-of-type {\n",
       "        vertical-align: middle;\n",
       "    }\n",
       "\n",
       "    .dataframe tbody tr th {\n",
       "        vertical-align: top;\n",
       "    }\n",
       "\n",
       "    .dataframe thead th {\n",
       "        text-align: right;\n",
       "    }\n",
       "</style>\n",
       "<table border=\"1\" class=\"dataframe\">\n",
       "  <thead>\n",
       "    <tr style=\"text-align: right;\">\n",
       "      <th>userId</th>\n",
       "      <th>A014623426J5CM7M12MBW</th>\n",
       "      <th>A01852072Z7B68UHLI5UG</th>\n",
       "      <th>A0266076X6KPZ6CCHGVS</th>\n",
       "      <th>A0293130VTX2ZXA70JQS</th>\n",
       "      <th>A030530627MK66BD8V4LN</th>\n",
       "      <th>A03279253KKB83JP34CU</th>\n",
       "      <th>A0478499AHWR7GZCCWR1</th>\n",
       "      <th>A05039072BTS8XOPJKBXB</th>\n",
       "      <th>A0571176384K8RBNKGF8O</th>\n",
       "      <th>A0586418108XHQA8T1IQO</th>\n",
       "      <th>...</th>\n",
       "      <th>AZYTSU42BZ7TP</th>\n",
       "      <th>AZZ77XYX8O2WE</th>\n",
       "      <th>AZZA7IQWTXCH3</th>\n",
       "      <th>AZZGJ2KMWB7R</th>\n",
       "      <th>AZZMV5VT9W7Y8</th>\n",
       "      <th>AZZOFVMQC0BJG</th>\n",
       "      <th>AZZP8BC9WE0N8</th>\n",
       "      <th>AZZST8OYL5P4Q</th>\n",
       "      <th>AZZUBI2MEAHI9</th>\n",
       "      <th>AZZZEWADNFNUM</th>\n",
       "    </tr>\n",
       "    <tr>\n",
       "      <th>productId</th>\n",
       "      <th></th>\n",
       "      <th></th>\n",
       "      <th></th>\n",
       "      <th></th>\n",
       "      <th></th>\n",
       "      <th></th>\n",
       "      <th></th>\n",
       "      <th></th>\n",
       "      <th></th>\n",
       "      <th></th>\n",
       "      <th></th>\n",
       "      <th></th>\n",
       "      <th></th>\n",
       "      <th></th>\n",
       "      <th></th>\n",
       "      <th></th>\n",
       "      <th></th>\n",
       "      <th></th>\n",
       "      <th></th>\n",
       "      <th></th>\n",
       "      <th></th>\n",
       "    </tr>\n",
       "  </thead>\n",
       "  <tbody>\n",
       "    <tr>\n",
       "      <th>0972683275</th>\n",
       "      <td>0</td>\n",
       "      <td>0</td>\n",
       "      <td>0</td>\n",
       "      <td>5</td>\n",
       "      <td>4</td>\n",
       "      <td>0</td>\n",
       "      <td>0</td>\n",
       "      <td>0</td>\n",
       "      <td>0</td>\n",
       "      <td>0</td>\n",
       "      <td>...</td>\n",
       "      <td>0</td>\n",
       "      <td>0</td>\n",
       "      <td>0</td>\n",
       "      <td>0</td>\n",
       "      <td>0</td>\n",
       "      <td>0</td>\n",
       "      <td>0</td>\n",
       "      <td>0</td>\n",
       "      <td>0</td>\n",
       "      <td>0</td>\n",
       "    </tr>\n",
       "    <tr>\n",
       "      <th>1400501466</th>\n",
       "      <td>0</td>\n",
       "      <td>0</td>\n",
       "      <td>0</td>\n",
       "      <td>0</td>\n",
       "      <td>0</td>\n",
       "      <td>0</td>\n",
       "      <td>0</td>\n",
       "      <td>0</td>\n",
       "      <td>0</td>\n",
       "      <td>0</td>\n",
       "      <td>...</td>\n",
       "      <td>0</td>\n",
       "      <td>0</td>\n",
       "      <td>0</td>\n",
       "      <td>0</td>\n",
       "      <td>0</td>\n",
       "      <td>0</td>\n",
       "      <td>0</td>\n",
       "      <td>0</td>\n",
       "      <td>0</td>\n",
       "      <td>0</td>\n",
       "    </tr>\n",
       "    <tr>\n",
       "      <th>1400501520</th>\n",
       "      <td>0</td>\n",
       "      <td>0</td>\n",
       "      <td>0</td>\n",
       "      <td>0</td>\n",
       "      <td>0</td>\n",
       "      <td>0</td>\n",
       "      <td>0</td>\n",
       "      <td>0</td>\n",
       "      <td>0</td>\n",
       "      <td>0</td>\n",
       "      <td>...</td>\n",
       "      <td>0</td>\n",
       "      <td>0</td>\n",
       "      <td>0</td>\n",
       "      <td>0</td>\n",
       "      <td>0</td>\n",
       "      <td>0</td>\n",
       "      <td>0</td>\n",
       "      <td>0</td>\n",
       "      <td>0</td>\n",
       "      <td>0</td>\n",
       "    </tr>\n",
       "    <tr>\n",
       "      <th>1400501776</th>\n",
       "      <td>0</td>\n",
       "      <td>0</td>\n",
       "      <td>0</td>\n",
       "      <td>0</td>\n",
       "      <td>0</td>\n",
       "      <td>0</td>\n",
       "      <td>0</td>\n",
       "      <td>0</td>\n",
       "      <td>0</td>\n",
       "      <td>0</td>\n",
       "      <td>...</td>\n",
       "      <td>0</td>\n",
       "      <td>0</td>\n",
       "      <td>0</td>\n",
       "      <td>0</td>\n",
       "      <td>1</td>\n",
       "      <td>0</td>\n",
       "      <td>0</td>\n",
       "      <td>0</td>\n",
       "      <td>0</td>\n",
       "      <td>0</td>\n",
       "    </tr>\n",
       "    <tr>\n",
       "      <th>1400532620</th>\n",
       "      <td>0</td>\n",
       "      <td>0</td>\n",
       "      <td>0</td>\n",
       "      <td>0</td>\n",
       "      <td>0</td>\n",
       "      <td>0</td>\n",
       "      <td>0</td>\n",
       "      <td>0</td>\n",
       "      <td>0</td>\n",
       "      <td>0</td>\n",
       "      <td>...</td>\n",
       "      <td>0</td>\n",
       "      <td>0</td>\n",
       "      <td>0</td>\n",
       "      <td>0</td>\n",
       "      <td>0</td>\n",
       "      <td>0</td>\n",
       "      <td>0</td>\n",
       "      <td>0</td>\n",
       "      <td>0</td>\n",
       "      <td>0</td>\n",
       "    </tr>\n",
       "  </tbody>\n",
       "</table>\n",
       "<p>5 rows × 47607 columns</p>\n",
       "</div>"
      ],
      "text/plain": [
       "userId      A014623426J5CM7M12MBW  A01852072Z7B68UHLI5UG  \\\n",
       "productId                                                  \n",
       "0972683275                      0                      0   \n",
       "1400501466                      0                      0   \n",
       "1400501520                      0                      0   \n",
       "1400501776                      0                      0   \n",
       "1400532620                      0                      0   \n",
       "\n",
       "userId      A0266076X6KPZ6CCHGVS  A0293130VTX2ZXA70JQS  A030530627MK66BD8V4LN  \\\n",
       "productId                                                                       \n",
       "0972683275                     0                     5                      4   \n",
       "1400501466                     0                     0                      0   \n",
       "1400501520                     0                     0                      0   \n",
       "1400501776                     0                     0                      0   \n",
       "1400532620                     0                     0                      0   \n",
       "\n",
       "userId      A03279253KKB83JP34CU  A0478499AHWR7GZCCWR1  A05039072BTS8XOPJKBXB  \\\n",
       "productId                                                                       \n",
       "0972683275                     0                     0                      0   \n",
       "1400501466                     0                     0                      0   \n",
       "1400501520                     0                     0                      0   \n",
       "1400501776                     0                     0                      0   \n",
       "1400532620                     0                     0                      0   \n",
       "\n",
       "userId      A0571176384K8RBNKGF8O  A0586418108XHQA8T1IQO  ...  AZYTSU42BZ7TP  \\\n",
       "productId                                                 ...                  \n",
       "0972683275                      0                      0  ...              0   \n",
       "1400501466                      0                      0  ...              0   \n",
       "1400501520                      0                      0  ...              0   \n",
       "1400501776                      0                      0  ...              0   \n",
       "1400532620                      0                      0  ...              0   \n",
       "\n",
       "userId      AZZ77XYX8O2WE  AZZA7IQWTXCH3  AZZGJ2KMWB7R  AZZMV5VT9W7Y8  \\\n",
       "productId                                                               \n",
       "0972683275              0              0             0              0   \n",
       "1400501466              0              0             0              0   \n",
       "1400501520              0              0             0              0   \n",
       "1400501776              0              0             0              1   \n",
       "1400532620              0              0             0              0   \n",
       "\n",
       "userId      AZZOFVMQC0BJG  AZZP8BC9WE0N8  AZZST8OYL5P4Q  AZZUBI2MEAHI9  \\\n",
       "productId                                                                \n",
       "0972683275              0              0              0              0   \n",
       "1400501466              0              0              0              0   \n",
       "1400501520              0              0              0              0   \n",
       "1400501776              0              0              0              0   \n",
       "1400532620              0              0              0              0   \n",
       "\n",
       "userId      AZZZEWADNFNUM  \n",
       "productId                  \n",
       "0972683275              0  \n",
       "1400501466              0  \n",
       "1400501520              0  \n",
       "1400501776              0  \n",
       "1400532620              0  \n",
       "\n",
       "[5 rows x 47607 columns]"
      ]
     },
     "execution_count": 83,
     "metadata": {},
     "output_type": "execute_result"
    }
   ],
   "source": [
    "X = ratings_matrix.T\n",
    "X.head()"
   ]
  },
  {
   "cell_type": "code",
   "execution_count": 84,
   "metadata": {},
   "outputs": [
    {
     "data": {
      "text/plain": [
       "(292, 47607)"
      ]
     },
     "execution_count": 84,
     "metadata": {},
     "output_type": "execute_result"
    }
   ],
   "source": [
    "X.shape"
   ]
  },
  {
   "cell_type": "markdown",
   "metadata": {},
   "source": [
    "Unique products in subset of data"
   ]
  },
  {
   "cell_type": "code",
   "execution_count": 85,
   "metadata": {},
   "outputs": [],
   "source": [
    "# X1 = X"
   ]
  },
  {
   "cell_type": "code",
   "execution_count": 89,
   "metadata": {},
   "outputs": [
    {
     "data": {
      "text/plain": [
       "(292, 10)"
      ]
     },
     "execution_count": 89,
     "metadata": {},
     "output_type": "execute_result"
    }
   ],
   "source": [
    "#Decomposing the Matrix\n",
    "from sklearn.decomposition import TruncatedSVD\n",
    "SVD = TruncatedSVD(n_components=10)\n",
    "decomposed_matrix = SVD.fit_transform(X)\n",
    "decomposed_matrix.shape"
   ]
  },
  {
   "cell_type": "code",
   "execution_count": 90,
   "metadata": {},
   "outputs": [
    {
     "data": {
      "text/plain": [
       "(292, 292)"
      ]
     },
     "execution_count": 90,
     "metadata": {},
     "output_type": "execute_result"
    }
   ],
   "source": [
    "#Correlation Matrix\n",
    "\n",
    "correlation_matrix = np.corrcoef(decomposed_matrix)\n",
    "correlation_matrix.shape"
   ]
  },
  {
   "cell_type": "code",
   "execution_count": 91,
   "metadata": {},
   "outputs": [
    {
     "data": {
      "text/plain": [
       "'B000053HC5'"
      ]
     },
     "execution_count": 91,
     "metadata": {},
     "output_type": "execute_result"
    }
   ],
   "source": [
    "X.index[291]"
   ]
  },
  {
   "cell_type": "markdown",
   "metadata": {},
   "source": [
    "Index # of product ID purchased by customer"
   ]
  },
  {
   "cell_type": "code",
   "execution_count": 92,
   "metadata": {},
   "outputs": [
    {
     "data": {
      "text/plain": [
       "291"
      ]
     },
     "execution_count": 92,
     "metadata": {},
     "output_type": "execute_result"
    }
   ],
   "source": [
    "i = \"B000053HC5\"\n",
    "\n",
    "product_names = list(X.index)\n",
    "product_ID = product_names.index(i)\n",
    "product_ID"
   ]
  },
  {
   "cell_type": "markdown",
   "metadata": {},
   "source": [
    "Correlation for all items with the item purchased by this customer based on items rated by other customers people who bought the same product"
   ]
  },
  {
   "cell_type": "code",
   "execution_count": 93,
   "metadata": {},
   "outputs": [
    {
     "data": {
      "text/plain": [
       "(292,)"
      ]
     },
     "execution_count": 93,
     "metadata": {},
     "output_type": "execute_result"
    }
   ],
   "source": [
    "correlation_product_ID = correlation_matrix[product_ID]\n",
    "correlation_product_ID.shape"
   ]
  },
  {
   "cell_type": "markdown",
   "metadata": {},
   "source": [
    "Recommending top 5 highly correlated products in sequence"
   ]
  },
  {
   "cell_type": "code",
   "execution_count": 95,
   "metadata": {},
   "outputs": [
    {
     "data": {
      "text/plain": [
       "['9966694544', 'B00000IGBF', 'B00000JBAT', 'B00000JCT8', 'B00001QEMF']"
      ]
     },
     "execution_count": 95,
     "metadata": {},
     "output_type": "execute_result"
    }
   ],
   "source": [
    "Recommend = list(X.index[correlation_product_ID > 0.65])\n",
    "\n",
    "# Removes the item already bought by the customer\n",
    "Recommend.remove(i) \n",
    "\n",
    "Recommend[0:5]"
   ]
  },
  {
   "cell_type": "markdown",
   "metadata": {},
   "source": [
    "Here are the top 5 products to be displayed by the recommendation system to the above customer based on the  each user habits."
   ]
  },
  {
   "cell_type": "markdown",
   "metadata": {},
   "source": [
    "\n",
    "# Summary"
   ]
  },
  {
   "cell_type": "markdown",
   "metadata": {},
   "source": [
    " <b>1. Total records original dataset contains 7824481 and 4 columns.\n",
    "   2. Dataset doesn't contains any null values or missing values.\n",
    "   3. Dropped Timestamp column.\n",
    "   4. Maximum users have given 5 rating(4347540).\n",
    "   5. Product B0074BW614 is been  given  18244 ratings.Highest among all products.\n",
    "   6. User A5JLAU2ARJ0BO has given maximum ratings with count 520.\n",
    "   7. Total no of ratings : 7824481\n",
    "   8. Total No of Users   : 4201696\n",
    "   9. Total No of products  : 476001<b>\n",
    "   10. No of rated product more than 50 per user : 1540\n",
    "   11. Dataframe which contains users who has given 50 or more ratings : (5374313, 3)\n",
    "   12. Maximum average rating for product(B002E6R7NG) is 4.980392\n",
    "   13. Product(0972683275) with maximum ratings and ratings counts: 4.470980 and \t1051 respectively.\n",
    "   14. [Prediction(uid='A41KSARVTNG38', iid='B00001P4ZH', r_ui=5.0, est=4.114571428571429, details={'was_impossible': True,   'reason': 'User and/or item is unkown.'}),\n",
    "   15. RMSE: 1.3364\n",
    "   16. Top 5 recommended products: '9966694544', 'B00000IGBF', 'B00000JBAT', 'B00000JCT8', 'B00001QEMF'.<b>\n"
   ]
  },
  {
   "cell_type": "markdown",
   "metadata": {},
   "source": [
    "# End of the Project\n",
    "\n"
   ]
  },
  {
   "cell_type": "code",
   "execution_count": null,
   "metadata": {},
   "outputs": [],
   "source": []
  }
 ],
 "metadata": {
  "celltoolbar": "Raw Cell Format",
  "kernelspec": {
   "display_name": "Python 3",
   "language": "python",
   "name": "python3"
  },
  "language_info": {
   "codemirror_mode": {
    "name": "ipython",
    "version": 3
   },
   "file_extension": ".py",
   "mimetype": "text/x-python",
   "name": "python",
   "nbconvert_exporter": "python",
   "pygments_lexer": "ipython3",
   "version": "3.7.3"
  }
 },
 "nbformat": 4,
 "nbformat_minor": 2
}
